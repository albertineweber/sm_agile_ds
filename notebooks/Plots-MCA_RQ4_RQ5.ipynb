{
 "cells": [
  {
   "cell_type": "markdown",
   "id": "daefb635-f1f6-4911-9a37-5c64970cb070",
   "metadata": {},
   "source": [
    "# Imports"
   ]
  },
  {
   "cell_type": "code",
   "execution_count": 1,
   "id": "a92df633-7c54-4aab-874c-9fed2e0a6fb2",
   "metadata": {},
   "outputs": [],
   "source": [
    "import pandas as pd\n",
    "import numpy as np\n",
    "from plotly import graph_objects as go\n",
    "import plotly.express as px\n",
    "from plotly.subplots import make_subplots\n",
    "import prince\n",
    "from scipy.stats import chi2_contingency                                                                         \n",
    "import statsmodels.api as sm"
   ]
  },
  {
   "cell_type": "code",
   "execution_count": 2,
   "id": "b2c08f19-fb3d-4002-93ea-0764654d0072",
   "metadata": {},
   "outputs": [],
   "source": [
    "colors = px.colors.qualitative.Plotly"
   ]
  },
  {
   "cell_type": "code",
   "execution_count": 3,
   "id": "b66d7ca8-8ba3-47c8-802a-1d5d1be361f2",
   "metadata": {},
   "outputs": [],
   "source": [
    "# Create plot layout\n",
    "layout = go.Layout(\n",
    "    width=1000,\n",
    "    height=500,\n",
    "    template=\"plotly_white\",\n",
    "    font=dict(\n",
    "        color=\"black\",\n",
    "        size=24,\n",
    "        family=\"Arial\",\n",
    "    ),\n",
    ")"
   ]
  },
  {
   "cell_type": "markdown",
   "id": "31c34ffb-98f5-4b61-bcc1-b5f4024bd40f",
   "metadata": {},
   "source": [
    "# Read files"
   ]
  },
  {
   "cell_type": "code",
   "execution_count": 4,
   "id": "e74c3b29-20bb-4ad1-a353-326ec2048abb",
   "metadata": {},
   "outputs": [
    {
     "data": {
      "text/html": [
       "<div>\n",
       "<style scoped>\n",
       "    .dataframe tbody tr th:only-of-type {\n",
       "        vertical-align: middle;\n",
       "    }\n",
       "\n",
       "    .dataframe tbody tr th {\n",
       "        vertical-align: top;\n",
       "    }\n",
       "\n",
       "    .dataframe thead th {\n",
       "        text-align: right;\n",
       "    }\n",
       "</style>\n",
       "<table border=\"1\" class=\"dataframe\">\n",
       "  <thead>\n",
       "    <tr style=\"text-align: right;\">\n",
       "      <th></th>\n",
       "      <th>entry</th>\n",
       "      <th>database</th>\n",
       "      <th>title</th>\n",
       "      <th>abstract</th>\n",
       "      <th>author_keywords</th>\n",
       "      <th>authors</th>\n",
       "      <th>authors_affiliations</th>\n",
       "      <th>publication_year</th>\n",
       "      <th>source_title</th>\n",
       "      <th>publisher</th>\n",
       "      <th>...</th>\n",
       "      <th>RQ1_PubYear</th>\n",
       "      <th>RQ1_EstimatedPubDate</th>\n",
       "      <th>RQ2_ResearchType</th>\n",
       "      <th>RQ3_ResearchMethod</th>\n",
       "      <th>RQ4_OrganizationType</th>\n",
       "      <th>RQ5_SubtopicsAM</th>\n",
       "      <th>RQ6_SubtopicsDS</th>\n",
       "      <th>RQ7_ProblemsReported</th>\n",
       "      <th>RQ8_ObjectiveAM</th>\n",
       "      <th>RQ9_ContributionsResults</th>\n",
       "    </tr>\n",
       "  </thead>\n",
       "  <tbody>\n",
       "    <tr>\n",
       "      <th>0</th>\n",
       "      <td>6</td>\n",
       "      <td>acm</td>\n",
       "      <td>A Scalable Methodology to Guide Student Teams ...</td>\n",
       "      <td>This article reports on a sequential mixed-met...</td>\n",
       "      <td>project methodologies, Project-based learning,...</td>\n",
       "      <td>Saltz JS,Heckman RR</td>\n",
       "      <td>NaN</td>\n",
       "      <td>2018.0</td>\n",
       "      <td>ACM Trans. Comput. Educ.</td>\n",
       "      <td>Association for Computing Machinery</td>\n",
       "      <td>...</td>\n",
       "      <td>2018</td>\n",
       "      <td>2018-07-11</td>\n",
       "      <td>Validação</td>\n",
       "      <td>MixedMethods</td>\n",
       "      <td>Academia</td>\n",
       "      <td>Kanban</td>\n",
       "      <td>CicloDesenvolvimento;Geral</td>\n",
       "      <td>Time;Integração;Definição;Incerteza</td>\n",
       "      <td>Definição</td>\n",
       "      <td>Coordenação;Clareza</td>\n",
       "    </tr>\n",
       "    <tr>\n",
       "      <th>1</th>\n",
       "      <td>14</td>\n",
       "      <td>ieeex</td>\n",
       "      <td>Achieving Agile Big Data Science: The Evolutio...</td>\n",
       "      <td>While there has been a rapid increase in the u...</td>\n",
       "      <td>Big Data Science;Agile;Process Methodology</td>\n",
       "      <td>J. S. Saltz; I. Shamshurin</td>\n",
       "      <td>School of Information Studies Syracuse Univers...</td>\n",
       "      <td>2019.0</td>\n",
       "      <td>2019 IEEE International Conference on Big Data...</td>\n",
       "      <td>IEEE</td>\n",
       "      <td>...</td>\n",
       "      <td>2019</td>\n",
       "      <td>2019-12-12</td>\n",
       "      <td>Avaliação</td>\n",
       "      <td>Etnografia</td>\n",
       "      <td>Industria</td>\n",
       "      <td>Kanban</td>\n",
       "      <td>BigData</td>\n",
       "      <td>Time;Integração;Incerteza</td>\n",
       "      <td>Agilidade;Integração</td>\n",
       "      <td>Coordenação;Priorização;Eficiência;WIP</td>\n",
       "    </tr>\n",
       "    <tr>\n",
       "      <th>2</th>\n",
       "      <td>15</td>\n",
       "      <td>ieeex</td>\n",
       "      <td>SKI: An Agile Framework for Data Science</td>\n",
       "      <td>This paper explores data science project manag...</td>\n",
       "      <td>Data Science;Big Data;Agile;Process Methodology</td>\n",
       "      <td>J. Saltz; A. Suthrland</td>\n",
       "      <td>Syracuse University; Scrum Inc.</td>\n",
       "      <td>2019.0</td>\n",
       "      <td>2019 IEEE International Conference on Big Data...</td>\n",
       "      <td>IEEE</td>\n",
       "      <td>...</td>\n",
       "      <td>2019</td>\n",
       "      <td>2019-12-12</td>\n",
       "      <td>Validação</td>\n",
       "      <td>StudyCase</td>\n",
       "      <td>Academia</td>\n",
       "      <td>Adaptada</td>\n",
       "      <td>CicloDesenvolvimento;Geral</td>\n",
       "      <td>Incerteza;Suporte;Experiência</td>\n",
       "      <td>Definição</td>\n",
       "      <td>Clareza;Divisão;Coordenação</td>\n",
       "    </tr>\n",
       "    <tr>\n",
       "      <th>3</th>\n",
       "      <td>18</td>\n",
       "      <td>ieeex</td>\n",
       "      <td>Identifying the most Common Frameworks Data Sc...</td>\n",
       "      <td>This paper presents the results of a study foc...</td>\n",
       "      <td>Data Science;Big Data;Process Methodology</td>\n",
       "      <td>J. S. Saltz; N. Hotz</td>\n",
       "      <td>Syracuse University; Indiana University</td>\n",
       "      <td>2020.0</td>\n",
       "      <td>2020 IEEE International Conference on Big Data...</td>\n",
       "      <td>IEEE</td>\n",
       "      <td>...</td>\n",
       "      <td>2020</td>\n",
       "      <td>2020-12-13</td>\n",
       "      <td>Avaliação</td>\n",
       "      <td>Survey</td>\n",
       "      <td>Industria</td>\n",
       "      <td>Geral</td>\n",
       "      <td>CicloDesenvolvimento;Geral</td>\n",
       "      <td>Definição</td>\n",
       "      <td>NaN</td>\n",
       "      <td>NaN</td>\n",
       "    </tr>\n",
       "    <tr>\n",
       "      <th>4</th>\n",
       "      <td>20</td>\n",
       "      <td>ieeex</td>\n",
       "      <td>Applying Scrum in Data Science Projects</td>\n",
       "      <td>The rise of big data has led to an increase in...</td>\n",
       "      <td>Data Science;Agile;Scrum</td>\n",
       "      <td>J. Baijens; R. Helms; D. Iren</td>\n",
       "      <td>Department of Information Science, Open Univer...</td>\n",
       "      <td>2020.0</td>\n",
       "      <td>2020 IEEE 22nd Conference on Business Informat...</td>\n",
       "      <td>IEEE</td>\n",
       "      <td>...</td>\n",
       "      <td>2020</td>\n",
       "      <td>2020-06-24</td>\n",
       "      <td>Avaliação</td>\n",
       "      <td>Interview</td>\n",
       "      <td>Industria</td>\n",
       "      <td>Adaptada</td>\n",
       "      <td>CicloDesenvolvimento;Geral</td>\n",
       "      <td>Incerteza;Definição</td>\n",
       "      <td>Agilidade;Definição</td>\n",
       "      <td>Clareza;Coordenação;Priorização</td>\n",
       "    </tr>\n",
       "    <tr>\n",
       "      <th>5</th>\n",
       "      <td>21</td>\n",
       "      <td>ieeex</td>\n",
       "      <td>Managing and Composing Teams in Data Science: ...</td>\n",
       "      <td>Data science projects have become commonplace ...</td>\n",
       "      <td>Data science;agile practices;teamwork;project ...</td>\n",
       "      <td>T. Aho; T. Kilamo; L. Lwakatare; T. Mikkonen; ...</td>\n",
       "      <td>TietoEvry, Tampere, Finland; Computing Science...</td>\n",
       "      <td>2021.0</td>\n",
       "      <td>2021 IEEE International Conference on Big Data...</td>\n",
       "      <td>IEEE</td>\n",
       "      <td>...</td>\n",
       "      <td>2021</td>\n",
       "      <td>2021-12-18</td>\n",
       "      <td>Avaliação</td>\n",
       "      <td>Survey</td>\n",
       "      <td>Organizações</td>\n",
       "      <td>Geral</td>\n",
       "      <td>BigData</td>\n",
       "      <td>Incerteza</td>\n",
       "      <td>NaN</td>\n",
       "      <td>NaN</td>\n",
       "    </tr>\n",
       "    <tr>\n",
       "      <th>6</th>\n",
       "      <td>22</td>\n",
       "      <td>ieeex</td>\n",
       "      <td>Using Agile Frameworks in Big Data projects</td>\n",
       "      <td>Considering the main problems of Big Data proj...</td>\n",
       "      <td>Agile;project management;Big Data;statistics;q...</td>\n",
       "      <td>K. Kolesnikova; O. Mezentseva; O. Kolesnikov; ...</td>\n",
       "      <td>Taras Shevchenko National University of Kyiv, ...</td>\n",
       "      <td>2021.0</td>\n",
       "      <td>2021 IEEE 16th International Conference on Com...</td>\n",
       "      <td>IEEE</td>\n",
       "      <td>...</td>\n",
       "      <td>2021</td>\n",
       "      <td>2021-09-25</td>\n",
       "      <td>Avaliação</td>\n",
       "      <td>Survey</td>\n",
       "      <td>Industria</td>\n",
       "      <td>Geral</td>\n",
       "      <td>BigData</td>\n",
       "      <td>Escolha;Suporte;Experiência</td>\n",
       "      <td>Agilidade;Integração</td>\n",
       "      <td>Eficiência</td>\n",
       "    </tr>\n",
       "    <tr>\n",
       "      <th>7</th>\n",
       "      <td>24</td>\n",
       "      <td>ieeex</td>\n",
       "      <td>Story and Task Issue Analysis for Agile Machin...</td>\n",
       "      <td>The usage of Agile methodology in planning and...</td>\n",
       "      <td>scrum;machine learning project;software engine...</td>\n",
       "      <td>K. Singla; T. M. Vinayak; A. S. Arpitha; C. Na...</td>\n",
       "      <td>Samsung R&amp;D Institute, Bangalore, India; Samsu...</td>\n",
       "      <td>2020.0</td>\n",
       "      <td>2020 IEEE-HYDCON</td>\n",
       "      <td>IEEE</td>\n",
       "      <td>...</td>\n",
       "      <td>2020</td>\n",
       "      <td>2020-09-11</td>\n",
       "      <td>Avaliação</td>\n",
       "      <td>FieldStudy</td>\n",
       "      <td>Industria</td>\n",
       "      <td>Scrum</td>\n",
       "      <td>ML</td>\n",
       "      <td>Especificidades</td>\n",
       "      <td>Agilidade</td>\n",
       "      <td>NaN</td>\n",
       "    </tr>\n",
       "    <tr>\n",
       "      <th>8</th>\n",
       "      <td>28</td>\n",
       "      <td>ieeex</td>\n",
       "      <td>CRISP-DM for Data Science: Strengths, Weakness...</td>\n",
       "      <td>This paper explores the strengths and weakness...</td>\n",
       "      <td>NaN</td>\n",
       "      <td>J. S. Saltz</td>\n",
       "      <td>Syracuse University</td>\n",
       "      <td>2021.0</td>\n",
       "      <td>2021 IEEE International Conference on Big Data...</td>\n",
       "      <td>IEEE</td>\n",
       "      <td>...</td>\n",
       "      <td>2021</td>\n",
       "      <td>2021-12-18</td>\n",
       "      <td>Solução</td>\n",
       "      <td>Proposta</td>\n",
       "      <td>Geral</td>\n",
       "      <td>Adaptada</td>\n",
       "      <td>CicloDesenvolvimento;Geral</td>\n",
       "      <td>Time;Integração;Definição</td>\n",
       "      <td>Definição;Integração</td>\n",
       "      <td>NaN</td>\n",
       "    </tr>\n",
       "    <tr>\n",
       "      <th>9</th>\n",
       "      <td>29</td>\n",
       "      <td>ieeex</td>\n",
       "      <td>Identifying and Addressing 6 Key Questions whe...</td>\n",
       "      <td>Data Driven Scrum (DDS) enables lean data scie...</td>\n",
       "      <td>NaN</td>\n",
       "      <td>J. S. Saltz; A. Sutherland; T. Jombart</td>\n",
       "      <td>Syracuse University; Scrum Inc; London School ...</td>\n",
       "      <td>2021.0</td>\n",
       "      <td>2021 IEEE International Conference on Big Data...</td>\n",
       "      <td>IEEE</td>\n",
       "      <td>...</td>\n",
       "      <td>2021</td>\n",
       "      <td>2021-12-18</td>\n",
       "      <td>Avaliação</td>\n",
       "      <td>Survey</td>\n",
       "      <td>Industria</td>\n",
       "      <td>Adaptada</td>\n",
       "      <td>Geral</td>\n",
       "      <td>Integração;Definição;Incerteza</td>\n",
       "      <td>Definição</td>\n",
       "      <td>NaN</td>\n",
       "    </tr>\n",
       "    <tr>\n",
       "      <th>10</th>\n",
       "      <td>30</td>\n",
       "      <td>ieeex</td>\n",
       "      <td>Analysis of Software Engineering for Agile Mac...</td>\n",
       "      <td>The number of machine learning, artificial int...</td>\n",
       "      <td>scrum;machine learning project;software engine...</td>\n",
       "      <td>K. Singla; J. Bose; C. Naik</td>\n",
       "      <td>Samsung R&amp;D Institute, Bangalore, India; Samsu...</td>\n",
       "      <td>2018.0</td>\n",
       "      <td>2018 15th IEEE India Council International Con...</td>\n",
       "      <td>IEEE</td>\n",
       "      <td>...</td>\n",
       "      <td>2018</td>\n",
       "      <td>2018-12-18</td>\n",
       "      <td>Avaliação</td>\n",
       "      <td>FieldStudy</td>\n",
       "      <td>Industria</td>\n",
       "      <td>Scrum</td>\n",
       "      <td>ML</td>\n",
       "      <td>Incerteza;Especificidades</td>\n",
       "      <td>NaN</td>\n",
       "      <td>NaN</td>\n",
       "    </tr>\n",
       "    <tr>\n",
       "      <th>11</th>\n",
       "      <td>77</td>\n",
       "      <td>ieeex</td>\n",
       "      <td>MAP: Design, Development, Deployment, and Main...</td>\n",
       "      <td>This paper presents a proven process and metho...</td>\n",
       "      <td>Artificial Intelligence;Machine Learning;DevOp...</td>\n",
       "      <td>A. Dagnino; M. Kolomycki; A. Kucheria</td>\n",
       "      <td>GBS IS Innovation and Emerging Services ABB In...</td>\n",
       "      <td>2022.0</td>\n",
       "      <td>2022 IEEE Eighth International Conference on B...</td>\n",
       "      <td>IEEE</td>\n",
       "      <td>...</td>\n",
       "      <td>2022</td>\n",
       "      <td>2022-08-18</td>\n",
       "      <td>Solução</td>\n",
       "      <td>Proposta</td>\n",
       "      <td>Industria</td>\n",
       "      <td>Adaptada</td>\n",
       "      <td>ML</td>\n",
       "      <td>Definição</td>\n",
       "      <td>Agilidade;Definição</td>\n",
       "      <td>NaN</td>\n",
       "    </tr>\n",
       "    <tr>\n",
       "      <th>12</th>\n",
       "      <td>199</td>\n",
       "      <td>scopus</td>\n",
       "      <td>Evaluating Data Science Project Agility by Exp...</td>\n",
       "      <td>The lack of effective team process is often no...</td>\n",
       "      <td>Agile; Data Science; Team Process</td>\n",
       "      <td>Lahiri S., Saltz J.</td>\n",
       "      <td>Syracuse University, United States</td>\n",
       "      <td>2023.0</td>\n",
       "      <td>Proceedings of the Annual Hawaii International...</td>\n",
       "      <td>IEEE Computer Society</td>\n",
       "      <td>...</td>\n",
       "      <td>2023</td>\n",
       "      <td>2023-01-06</td>\n",
       "      <td>Avaliação</td>\n",
       "      <td>Interview</td>\n",
       "      <td>Organizações</td>\n",
       "      <td>Adaptada</td>\n",
       "      <td>Geral</td>\n",
       "      <td>Definição;Incerteza;Especificidades;Integração...</td>\n",
       "      <td>Definição;Integração</td>\n",
       "      <td>NaN</td>\n",
       "    </tr>\n",
       "    <tr>\n",
       "      <th>13</th>\n",
       "      <td>216</td>\n",
       "      <td>scopus</td>\n",
       "      <td>Using a coach to improve team performance when...</td>\n",
       "      <td>Teams are increasing their use of the Kanban p...</td>\n",
       "      <td>Agile; Kanban; Kanban process methodology; Pro...</td>\n",
       "      <td>Shamshurin I., Saltz J.S.</td>\n",
       "      <td>Syracuse University, 343 Hinds Hall, Syracuse,...</td>\n",
       "      <td>2019.0</td>\n",
       "      <td>International Journal of Information Systems a...</td>\n",
       "      <td>SciKA</td>\n",
       "      <td>...</td>\n",
       "      <td>2019</td>\n",
       "      <td>2019-06-13</td>\n",
       "      <td>Validação</td>\n",
       "      <td>Experimento</td>\n",
       "      <td>Academia</td>\n",
       "      <td>Kanban</td>\n",
       "      <td>Geral</td>\n",
       "      <td>Experiência</td>\n",
       "      <td>Agilidade;Integração</td>\n",
       "      <td>Clareza;Eficiência;Coordenação;Divisão</td>\n",
       "    </tr>\n",
       "    <tr>\n",
       "      <th>14</th>\n",
       "      <td>219</td>\n",
       "      <td>scopus</td>\n",
       "      <td>Exploring the challenges of integrating data s...</td>\n",
       "      <td>The notion of autonomous teams is core to agil...</td>\n",
       "      <td>Agile; Autonomy; Data science; Software develo...</td>\n",
       "      <td>Hukkelberg I., Berntzen M.</td>\n",
       "      <td>Department of Informatics, University of Oslo,...</td>\n",
       "      <td>2019.0</td>\n",
       "      <td>Lecture Notes in Business Information Processing</td>\n",
       "      <td>Springer Verlag</td>\n",
       "      <td>...</td>\n",
       "      <td>2019</td>\n",
       "      <td>2019-05-25</td>\n",
       "      <td>Avaliação</td>\n",
       "      <td>Interview</td>\n",
       "      <td>Organizações</td>\n",
       "      <td>Geral</td>\n",
       "      <td>Geral</td>\n",
       "      <td>Incerteza;Time</td>\n",
       "      <td>NaN</td>\n",
       "      <td>NaN</td>\n",
       "    </tr>\n",
       "    <tr>\n",
       "      <th>15</th>\n",
       "      <td>242</td>\n",
       "      <td>scopus</td>\n",
       "      <td>Development of human faces retrieval in a big ...</td>\n",
       "      <td>In this paper we present a case study of the u...</td>\n",
       "      <td>Agile methodology; Big data; Face detection; F...</td>\n",
       "      <td>Pivetta T.A., Forster C.H.Q., Dias L.A.V., Gue...</td>\n",
       "      <td>Instituto Tecnologico de Aeronautica, ITA, Sao...</td>\n",
       "      <td>2018.0</td>\n",
       "      <td>Advances in Intelligent Systems and Computing</td>\n",
       "      <td>Springer Verlag</td>\n",
       "      <td>...</td>\n",
       "      <td>2018</td>\n",
       "      <td>2018-03-01</td>\n",
       "      <td>Experiência</td>\n",
       "      <td>StudyCase</td>\n",
       "      <td>Industria</td>\n",
       "      <td>Scrum</td>\n",
       "      <td>Outros</td>\n",
       "      <td>Incerteza;Integração</td>\n",
       "      <td>Integração</td>\n",
       "      <td>Clareza;Coordenação;Eficiência;Papeis</td>\n",
       "    </tr>\n",
       "    <tr>\n",
       "      <th>16</th>\n",
       "      <td>276</td>\n",
       "      <td>scopus</td>\n",
       "      <td>Agile clinical research: A data science approa...</td>\n",
       "      <td>The COVID-19 pandemic has required greater min...</td>\n",
       "      <td>Agile; Amazon Web Services; Cloud Computing; M...</td>\n",
       "      <td>Lei H., O'Connell R., Ehwerhemuepha L., Tarama...</td>\n",
       "      <td>CHOC Children's Hospital, Orange, CA, United S...</td>\n",
       "      <td>2020.0</td>\n",
       "      <td>Intelligence-Based Medicine</td>\n",
       "      <td>Elsevier B.V.</td>\n",
       "      <td>...</td>\n",
       "      <td>2020</td>\n",
       "      <td>2020-12-01</td>\n",
       "      <td>Solução</td>\n",
       "      <td>Proposta</td>\n",
       "      <td>Industria</td>\n",
       "      <td>Adaptada</td>\n",
       "      <td>Geral</td>\n",
       "      <td>Integração</td>\n",
       "      <td>Integração</td>\n",
       "      <td>NaN</td>\n",
       "    </tr>\n",
       "    <tr>\n",
       "      <th>17</th>\n",
       "      <td>305</td>\n",
       "      <td>scopus</td>\n",
       "      <td>What Are the Critical Success Factors for Agil...</td>\n",
       "      <td>To get value from BI (Business Intelligence) a...</td>\n",
       "      <td>agile project management; agile projects; Anal...</td>\n",
       "      <td>Tsoy M., Staples D.S.</td>\n",
       "      <td>Smith School of Business, Queen’s University, ...</td>\n",
       "      <td>2021.0</td>\n",
       "      <td>Information Systems Management</td>\n",
       "      <td>Taylor and Francis Ltd.</td>\n",
       "      <td>...</td>\n",
       "      <td>2021</td>\n",
       "      <td>2021-09-28</td>\n",
       "      <td>Avaliação</td>\n",
       "      <td>StudyCase</td>\n",
       "      <td>Industria</td>\n",
       "      <td>Geral</td>\n",
       "      <td>Geral</td>\n",
       "      <td>Incerteza;Integração</td>\n",
       "      <td>Definição;Integração</td>\n",
       "      <td>Clareza;Coordenação</td>\n",
       "    </tr>\n",
       "    <tr>\n",
       "      <th>18</th>\n",
       "      <td>577</td>\n",
       "      <td>wos</td>\n",
       "      <td>Agile supply chain analytic approach: a case s...</td>\n",
       "      <td>In the current competitive environment, Big Da...</td>\n",
       "      <td>Supply chain management; Big Data Analytics; a...</td>\n",
       "      <td>Hamdani, FE; Quintero, IAQ; Enjolras, M; Camar...</td>\n",
       "      <td>Universite de Lorraine</td>\n",
       "      <td>NaN</td>\n",
       "      <td>SUPPLY CHAIN FORUM</td>\n",
       "      <td>TAYLOR &amp; FRANCIS LTD</td>\n",
       "      <td>...</td>\n",
       "      <td>2022</td>\n",
       "      <td>2022-04-14</td>\n",
       "      <td>Avaliação</td>\n",
       "      <td>StudyCase</td>\n",
       "      <td>Industria</td>\n",
       "      <td>Adaptada</td>\n",
       "      <td>CicloDesenvolvimento;BI&amp;A</td>\n",
       "      <td>Definição</td>\n",
       "      <td>Agilidade</td>\n",
       "      <td>NaN</td>\n",
       "    </tr>\n",
       "  </tbody>\n",
       "</table>\n",
       "<p>19 rows × 43 columns</p>\n",
       "</div>"
      ],
      "text/plain": [
       "    entry database                                              title   \n",
       "0       6      acm  A Scalable Methodology to Guide Student Teams ...  \\\n",
       "1      14    ieeex  Achieving Agile Big Data Science: The Evolutio...   \n",
       "2      15    ieeex           SKI: An Agile Framework for Data Science   \n",
       "3      18    ieeex  Identifying the most Common Frameworks Data Sc...   \n",
       "4      20    ieeex            Applying Scrum in Data Science Projects   \n",
       "5      21    ieeex  Managing and Composing Teams in Data Science: ...   \n",
       "6      22    ieeex        Using Agile Frameworks in Big Data projects   \n",
       "7      24    ieeex  Story and Task Issue Analysis for Agile Machin...   \n",
       "8      28    ieeex  CRISP-DM for Data Science: Strengths, Weakness...   \n",
       "9      29    ieeex  Identifying and Addressing 6 Key Questions whe...   \n",
       "10     30    ieeex  Analysis of Software Engineering for Agile Mac...   \n",
       "11     77    ieeex  MAP: Design, Development, Deployment, and Main...   \n",
       "12    199   scopus  Evaluating Data Science Project Agility by Exp...   \n",
       "13    216   scopus  Using a coach to improve team performance when...   \n",
       "14    219   scopus  Exploring the challenges of integrating data s...   \n",
       "15    242   scopus  Development of human faces retrieval in a big ...   \n",
       "16    276   scopus  Agile clinical research: A data science approa...   \n",
       "17    305   scopus  What Are the Critical Success Factors for Agil...   \n",
       "18    577      wos  Agile supply chain analytic approach: a case s...   \n",
       "\n",
       "                                             abstract   \n",
       "0   This article reports on a sequential mixed-met...  \\\n",
       "1   While there has been a rapid increase in the u...   \n",
       "2   This paper explores data science project manag...   \n",
       "3   This paper presents the results of a study foc...   \n",
       "4   The rise of big data has led to an increase in...   \n",
       "5   Data science projects have become commonplace ...   \n",
       "6   Considering the main problems of Big Data proj...   \n",
       "7   The usage of Agile methodology in planning and...   \n",
       "8   This paper explores the strengths and weakness...   \n",
       "9   Data Driven Scrum (DDS) enables lean data scie...   \n",
       "10  The number of machine learning, artificial int...   \n",
       "11  This paper presents a proven process and metho...   \n",
       "12  The lack of effective team process is often no...   \n",
       "13  Teams are increasing their use of the Kanban p...   \n",
       "14  The notion of autonomous teams is core to agil...   \n",
       "15  In this paper we present a case study of the u...   \n",
       "16  The COVID-19 pandemic has required greater min...   \n",
       "17  To get value from BI (Business Intelligence) a...   \n",
       "18  In the current competitive environment, Big Da...   \n",
       "\n",
       "                                      author_keywords   \n",
       "0   project methodologies, Project-based learning,...  \\\n",
       "1          Big Data Science;Agile;Process Methodology   \n",
       "2     Data Science;Big Data;Agile;Process Methodology   \n",
       "3           Data Science;Big Data;Process Methodology   \n",
       "4                            Data Science;Agile;Scrum   \n",
       "5   Data science;agile practices;teamwork;project ...   \n",
       "6   Agile;project management;Big Data;statistics;q...   \n",
       "7   scrum;machine learning project;software engine...   \n",
       "8                                                 NaN   \n",
       "9                                                 NaN   \n",
       "10  scrum;machine learning project;software engine...   \n",
       "11  Artificial Intelligence;Machine Learning;DevOp...   \n",
       "12                  Agile; Data Science; Team Process   \n",
       "13  Agile; Kanban; Kanban process methodology; Pro...   \n",
       "14  Agile; Autonomy; Data science; Software develo...   \n",
       "15  Agile methodology; Big data; Face detection; F...   \n",
       "16  Agile; Amazon Web Services; Cloud Computing; M...   \n",
       "17  agile project management; agile projects; Anal...   \n",
       "18  Supply chain management; Big Data Analytics; a...   \n",
       "\n",
       "                                              authors   \n",
       "0                                 Saltz JS,Heckman RR  \\\n",
       "1                          J. S. Saltz; I. Shamshurin   \n",
       "2                              J. Saltz; A. Suthrland   \n",
       "3                                J. S. Saltz; N. Hotz   \n",
       "4                       J. Baijens; R. Helms; D. Iren   \n",
       "5   T. Aho; T. Kilamo; L. Lwakatare; T. Mikkonen; ...   \n",
       "6   K. Kolesnikova; O. Mezentseva; O. Kolesnikov; ...   \n",
       "7   K. Singla; T. M. Vinayak; A. S. Arpitha; C. Na...   \n",
       "8                                         J. S. Saltz   \n",
       "9              J. S. Saltz; A. Sutherland; T. Jombart   \n",
       "10                        K. Singla; J. Bose; C. Naik   \n",
       "11              A. Dagnino; M. Kolomycki; A. Kucheria   \n",
       "12                                Lahiri S., Saltz J.   \n",
       "13                          Shamshurin I., Saltz J.S.   \n",
       "14                         Hukkelberg I., Berntzen M.   \n",
       "15  Pivetta T.A., Forster C.H.Q., Dias L.A.V., Gue...   \n",
       "16  Lei H., O'Connell R., Ehwerhemuepha L., Tarama...   \n",
       "17                              Tsoy M., Staples D.S.   \n",
       "18  Hamdani, FE; Quintero, IAQ; Enjolras, M; Camar...   \n",
       "\n",
       "                                 authors_affiliations  publication_year   \n",
       "0                                                 NaN            2018.0  \\\n",
       "1   School of Information Studies Syracuse Univers...            2019.0   \n",
       "2                     Syracuse University; Scrum Inc.            2019.0   \n",
       "3             Syracuse University; Indiana University            2020.0   \n",
       "4   Department of Information Science, Open Univer...            2020.0   \n",
       "5   TietoEvry, Tampere, Finland; Computing Science...            2021.0   \n",
       "6   Taras Shevchenko National University of Kyiv, ...            2021.0   \n",
       "7   Samsung R&D Institute, Bangalore, India; Samsu...            2020.0   \n",
       "8                                 Syracuse University            2021.0   \n",
       "9   Syracuse University; Scrum Inc; London School ...            2021.0   \n",
       "10  Samsung R&D Institute, Bangalore, India; Samsu...            2018.0   \n",
       "11  GBS IS Innovation and Emerging Services ABB In...            2022.0   \n",
       "12                 Syracuse University, United States            2023.0   \n",
       "13  Syracuse University, 343 Hinds Hall, Syracuse,...            2019.0   \n",
       "14  Department of Informatics, University of Oslo,...            2019.0   \n",
       "15  Instituto Tecnologico de Aeronautica, ITA, Sao...            2018.0   \n",
       "16  CHOC Children's Hospital, Orange, CA, United S...            2020.0   \n",
       "17  Smith School of Business, Queen’s University, ...            2021.0   \n",
       "18                             Universite de Lorraine               NaN   \n",
       "\n",
       "                                         source_title   \n",
       "0                            ACM Trans. Comput. Educ.  \\\n",
       "1   2019 IEEE International Conference on Big Data...   \n",
       "2   2019 IEEE International Conference on Big Data...   \n",
       "3   2020 IEEE International Conference on Big Data...   \n",
       "4   2020 IEEE 22nd Conference on Business Informat...   \n",
       "5   2021 IEEE International Conference on Big Data...   \n",
       "6   2021 IEEE 16th International Conference on Com...   \n",
       "7                                    2020 IEEE-HYDCON   \n",
       "8   2021 IEEE International Conference on Big Data...   \n",
       "9   2021 IEEE International Conference on Big Data...   \n",
       "10  2018 15th IEEE India Council International Con...   \n",
       "11  2022 IEEE Eighth International Conference on B...   \n",
       "12  Proceedings of the Annual Hawaii International...   \n",
       "13  International Journal of Information Systems a...   \n",
       "14   Lecture Notes in Business Information Processing   \n",
       "15      Advances in Intelligent Systems and Computing   \n",
       "16                        Intelligence-Based Medicine   \n",
       "17                     Information Systems Management   \n",
       "18                                 SUPPLY CHAIN FORUM   \n",
       "\n",
       "                              publisher  ... RQ1_PubYear RQ1_EstimatedPubDate   \n",
       "0   Association for Computing Machinery  ...        2018           2018-07-11  \\\n",
       "1                                  IEEE  ...        2019           2019-12-12   \n",
       "2                                  IEEE  ...        2019           2019-12-12   \n",
       "3                                  IEEE  ...        2020           2020-12-13   \n",
       "4                                  IEEE  ...        2020           2020-06-24   \n",
       "5                                  IEEE  ...        2021           2021-12-18   \n",
       "6                                  IEEE  ...        2021           2021-09-25   \n",
       "7                                  IEEE  ...        2020           2020-09-11   \n",
       "8                                  IEEE  ...        2021           2021-12-18   \n",
       "9                                  IEEE  ...        2021           2021-12-18   \n",
       "10                                 IEEE  ...        2018           2018-12-18   \n",
       "11                                 IEEE  ...        2022           2022-08-18   \n",
       "12                IEEE Computer Society  ...        2023           2023-01-06   \n",
       "13                                SciKA  ...        2019           2019-06-13   \n",
       "14                      Springer Verlag  ...        2019           2019-05-25   \n",
       "15                      Springer Verlag  ...        2018           2018-03-01   \n",
       "16                        Elsevier B.V.  ...        2020           2020-12-01   \n",
       "17              Taylor and Francis Ltd.  ...        2021           2021-09-28   \n",
       "18                 TAYLOR & FRANCIS LTD  ...        2022           2022-04-14   \n",
       "\n",
       "   RQ2_ResearchType  RQ3_ResearchMethod RQ4_OrganizationType  RQ5_SubtopicsAM   \n",
       "0         Validação        MixedMethods             Academia           Kanban  \\\n",
       "1         Avaliação          Etnografia            Industria           Kanban   \n",
       "2         Validação           StudyCase             Academia         Adaptada   \n",
       "3         Avaliação              Survey            Industria            Geral   \n",
       "4         Avaliação           Interview            Industria         Adaptada   \n",
       "5         Avaliação              Survey         Organizações            Geral   \n",
       "6         Avaliação              Survey            Industria            Geral   \n",
       "7         Avaliação          FieldStudy            Industria            Scrum   \n",
       "8           Solução            Proposta                Geral         Adaptada   \n",
       "9         Avaliação              Survey            Industria         Adaptada   \n",
       "10        Avaliação          FieldStudy            Industria            Scrum   \n",
       "11          Solução            Proposta            Industria         Adaptada   \n",
       "12        Avaliação           Interview         Organizações         Adaptada   \n",
       "13        Validação         Experimento             Academia           Kanban   \n",
       "14        Avaliação           Interview         Organizações            Geral   \n",
       "15      Experiência           StudyCase            Industria            Scrum   \n",
       "16          Solução            Proposta            Industria         Adaptada   \n",
       "17        Avaliação           StudyCase            Industria            Geral   \n",
       "18        Avaliação           StudyCase            Industria         Adaptada   \n",
       "\n",
       "               RQ6_SubtopicsDS   \n",
       "0   CicloDesenvolvimento;Geral  \\\n",
       "1                      BigData   \n",
       "2   CicloDesenvolvimento;Geral   \n",
       "3   CicloDesenvolvimento;Geral   \n",
       "4   CicloDesenvolvimento;Geral   \n",
       "5                      BigData   \n",
       "6                      BigData   \n",
       "7                           ML   \n",
       "8   CicloDesenvolvimento;Geral   \n",
       "9                        Geral   \n",
       "10                          ML   \n",
       "11                          ML   \n",
       "12                       Geral   \n",
       "13                       Geral   \n",
       "14                       Geral   \n",
       "15                      Outros   \n",
       "16                       Geral   \n",
       "17                       Geral   \n",
       "18   CicloDesenvolvimento;BI&A   \n",
       "\n",
       "                                 RQ7_ProblemsReported       RQ8_ObjectiveAM   \n",
       "0                 Time;Integração;Definição;Incerteza             Definição  \\\n",
       "1                           Time;Integração;Incerteza  Agilidade;Integração   \n",
       "2                       Incerteza;Suporte;Experiência             Definição   \n",
       "3                                           Definição                   NaN   \n",
       "4                                 Incerteza;Definição   Agilidade;Definição   \n",
       "5                                           Incerteza                   NaN   \n",
       "6                         Escolha;Suporte;Experiência  Agilidade;Integração   \n",
       "7                                     Especificidades             Agilidade   \n",
       "8                           Time;Integração;Definição  Definição;Integração   \n",
       "9                      Integração;Definição;Incerteza             Definição   \n",
       "10                          Incerteza;Especificidades                   NaN   \n",
       "11                                          Definição   Agilidade;Definição   \n",
       "12  Definição;Incerteza;Especificidades;Integração...  Definição;Integração   \n",
       "13                                        Experiência  Agilidade;Integração   \n",
       "14                                     Incerteza;Time                   NaN   \n",
       "15                               Incerteza;Integração            Integração   \n",
       "16                                         Integração            Integração   \n",
       "17                               Incerteza;Integração  Definição;Integração   \n",
       "18                                          Definição             Agilidade   \n",
       "\n",
       "                  RQ9_ContributionsResults  \n",
       "0                      Coordenação;Clareza  \n",
       "1   Coordenação;Priorização;Eficiência;WIP  \n",
       "2              Clareza;Divisão;Coordenação  \n",
       "3                                      NaN  \n",
       "4          Clareza;Coordenação;Priorização  \n",
       "5                                      NaN  \n",
       "6                               Eficiência  \n",
       "7                                      NaN  \n",
       "8                                      NaN  \n",
       "9                                      NaN  \n",
       "10                                     NaN  \n",
       "11                                     NaN  \n",
       "12                                     NaN  \n",
       "13  Clareza;Eficiência;Coordenação;Divisão  \n",
       "14                                     NaN  \n",
       "15   Clareza;Coordenação;Eficiência;Papeis  \n",
       "16                                     NaN  \n",
       "17                     Clareza;Coordenação  \n",
       "18                                     NaN  \n",
       "\n",
       "[19 rows x 43 columns]"
      ]
     },
     "execution_count": 4,
     "metadata": {},
     "output_type": "execute_result"
    }
   ],
   "source": [
    "df = pd.read_excel(\"../data/06_model_output/output_keywording.xlsx\")\n",
    "df"
   ]
  },
  {
   "cell_type": "code",
   "execution_count": 5,
   "id": "14762aad-5703-4140-a6fd-805fcac5eaf7",
   "metadata": {},
   "outputs": [
    {
     "data": {
      "text/plain": [
       "Index(['entry', 'database', 'title', 'abstract', 'author_keywords', 'authors',\n",
       "       'authors_affiliations', 'publication_year', 'source_title', 'publisher',\n",
       "       'doi', 'query_date', 'processing_date', 'duplicated_exclusion_flag',\n",
       "       'duplicated_validation_date', 'metadata_exclusion_flag',\n",
       "       'metadata_exclusion_criteria', 'metadata_validation_date',\n",
       "       'fulltext_exclusion_flag', 'fulltext_exclusion_criteria',\n",
       "       'fulltext_validation_date', 'exclusion_step', 'exclusion_criteria',\n",
       "       'exclusion_date', 'RQ0_Authors', 'RQ0_Countries', 'RQ0_ScopusCitations',\n",
       "       'RQ0_FWCI', 'RQ0_Keywords', 'RQ1_PubSourceType',\n",
       "       'RQ1_MacroPubSourceType', 'RQ1_PubSourceName', 'RQ1_ShortPubSourceName',\n",
       "       'RQ1_PubYear', 'RQ1_EstimatedPubDate', 'RQ2_ResearchType',\n",
       "       'RQ3_ResearchMethod', 'RQ4_OrganizationType', 'RQ5_SubtopicsAM',\n",
       "       'RQ6_SubtopicsDS', 'RQ7_ProblemsReported', 'RQ8_ObjectiveAM',\n",
       "       'RQ9_ContributionsResults'],\n",
       "      dtype='object')"
      ]
     },
     "execution_count": 5,
     "metadata": {},
     "output_type": "execute_result"
    }
   ],
   "source": [
    "df.columns"
   ]
  },
  {
   "cell_type": "markdown",
   "id": "1e363ba9-1906-41fd-8b8a-ecd319b5049f",
   "metadata": {},
   "source": [
    "# Data Processing"
   ]
  },
  {
   "cell_type": "code",
   "execution_count": 6,
   "id": "75999581-e525-46f0-baec-264804ee0fc9",
   "metadata": {},
   "outputs": [],
   "source": [
    "categorical_cols = [\"RQ2_ResearchType\", \"RQ3_ResearchMethod\", \"RQ4_OrganizationType\", \"RQ5_SubtopicsAM\"]\n",
    "pre_process_categorical_cols = ['RQ6_SubtopicsDS', 'RQ7_ProblemsReported', 'RQ8_ObjectiveAM', 'RQ9_ContributionsResults']"
   ]
  },
  {
   "cell_type": "code",
   "execution_count": 7,
   "id": "9548efc1-1e38-4f4e-b322-73e032bce31a",
   "metadata": {},
   "outputs": [
    {
     "data": {
      "text/html": [
       "<div>\n",
       "<style scoped>\n",
       "    .dataframe tbody tr th:only-of-type {\n",
       "        vertical-align: middle;\n",
       "    }\n",
       "\n",
       "    .dataframe tbody tr th {\n",
       "        vertical-align: top;\n",
       "    }\n",
       "\n",
       "    .dataframe thead th {\n",
       "        text-align: right;\n",
       "    }\n",
       "</style>\n",
       "<table border=\"1\" class=\"dataframe\">\n",
       "  <thead>\n",
       "    <tr style=\"text-align: right;\">\n",
       "      <th></th>\n",
       "      <th>RQ4</th>\n",
       "      <th>RQ5</th>\n",
       "    </tr>\n",
       "    <tr>\n",
       "      <th>entry</th>\n",
       "      <th></th>\n",
       "      <th></th>\n",
       "    </tr>\n",
       "  </thead>\n",
       "  <tbody>\n",
       "    <tr>\n",
       "      <th>6</th>\n",
       "      <td>Academia</td>\n",
       "      <td>Kanban</td>\n",
       "    </tr>\n",
       "    <tr>\n",
       "      <th>14</th>\n",
       "      <td>Industria</td>\n",
       "      <td>Kanban</td>\n",
       "    </tr>\n",
       "    <tr>\n",
       "      <th>15</th>\n",
       "      <td>Academia</td>\n",
       "      <td>Adaptada</td>\n",
       "    </tr>\n",
       "    <tr>\n",
       "      <th>18</th>\n",
       "      <td>Industria</td>\n",
       "      <td>Agile em geral</td>\n",
       "    </tr>\n",
       "    <tr>\n",
       "      <th>20</th>\n",
       "      <td>Industria</td>\n",
       "      <td>Adaptada</td>\n",
       "    </tr>\n",
       "    <tr>\n",
       "      <th>21</th>\n",
       "      <td>Organizações</td>\n",
       "      <td>Agile em geral</td>\n",
       "    </tr>\n",
       "    <tr>\n",
       "      <th>22</th>\n",
       "      <td>Industria</td>\n",
       "      <td>Agile em geral</td>\n",
       "    </tr>\n",
       "    <tr>\n",
       "      <th>24</th>\n",
       "      <td>Industria</td>\n",
       "      <td>Scrum</td>\n",
       "    </tr>\n",
       "    <tr>\n",
       "      <th>28</th>\n",
       "      <td>Geral</td>\n",
       "      <td>Adaptada</td>\n",
       "    </tr>\n",
       "    <tr>\n",
       "      <th>29</th>\n",
       "      <td>Industria</td>\n",
       "      <td>Adaptada</td>\n",
       "    </tr>\n",
       "    <tr>\n",
       "      <th>30</th>\n",
       "      <td>Industria</td>\n",
       "      <td>Scrum</td>\n",
       "    </tr>\n",
       "    <tr>\n",
       "      <th>77</th>\n",
       "      <td>Industria</td>\n",
       "      <td>Adaptada</td>\n",
       "    </tr>\n",
       "    <tr>\n",
       "      <th>199</th>\n",
       "      <td>Organizações</td>\n",
       "      <td>Adaptada</td>\n",
       "    </tr>\n",
       "    <tr>\n",
       "      <th>216</th>\n",
       "      <td>Academia</td>\n",
       "      <td>Kanban</td>\n",
       "    </tr>\n",
       "    <tr>\n",
       "      <th>219</th>\n",
       "      <td>Organizações</td>\n",
       "      <td>Agile em geral</td>\n",
       "    </tr>\n",
       "    <tr>\n",
       "      <th>242</th>\n",
       "      <td>Industria</td>\n",
       "      <td>Scrum</td>\n",
       "    </tr>\n",
       "    <tr>\n",
       "      <th>276</th>\n",
       "      <td>Industria</td>\n",
       "      <td>Adaptada</td>\n",
       "    </tr>\n",
       "    <tr>\n",
       "      <th>305</th>\n",
       "      <td>Industria</td>\n",
       "      <td>Agile em geral</td>\n",
       "    </tr>\n",
       "    <tr>\n",
       "      <th>577</th>\n",
       "      <td>Industria</td>\n",
       "      <td>Adaptada</td>\n",
       "    </tr>\n",
       "  </tbody>\n",
       "</table>\n",
       "</div>"
      ],
      "text/plain": [
       "                RQ4             RQ5\n",
       "entry                              \n",
       "6          Academia          Kanban\n",
       "14        Industria          Kanban\n",
       "15         Academia        Adaptada\n",
       "18        Industria  Agile em geral\n",
       "20        Industria        Adaptada\n",
       "21     Organizações  Agile em geral\n",
       "22        Industria  Agile em geral\n",
       "24        Industria           Scrum\n",
       "28            Geral        Adaptada\n",
       "29        Industria        Adaptada\n",
       "30        Industria           Scrum\n",
       "77        Industria        Adaptada\n",
       "199    Organizações        Adaptada\n",
       "216        Academia          Kanban\n",
       "219    Organizações  Agile em geral\n",
       "242       Industria           Scrum\n",
       "276       Industria        Adaptada\n",
       "305       Industria  Agile em geral\n",
       "577       Industria        Adaptada"
      ]
     },
     "execution_count": 7,
     "metadata": {},
     "output_type": "execute_result"
    }
   ],
   "source": [
    "df_agg = df.copy()\n",
    "df_agg = df_agg.set_index(\"entry\")[categorical_cols]\n",
    "\n",
    "for col in [\"RQ6_SubtopicsDS\", \"RQ9_ContributionsResults\"]:\n",
    "\n",
    "    df_process = df.copy()\n",
    "    df_process = df_process.set_index(\"entry\")\n",
    "    df_process = df_process[col].str.split(\";\", expand = True)\n",
    "    df_process = pd.melt(df_process.reset_index(), id_vars = \"entry\", value_vars = [col for col in df_process.columns if col != \"entry\"], value_name = col)\n",
    "    df_process = df_process.dropna()\n",
    "    df_process = df_process[[\"entry\", col]]\n",
    "    df_process[col] = df_process[col].str.replace(\" \", \"_\").str.lower().str.capitalize()\n",
    "    \n",
    "    \n",
    "    if col == \"RQ6_SubtopicsDS\":\n",
    "        df_topics = df_process[df_process[col] != \"Ciclodesenvolvimento\"]\n",
    "        df_topics = df_topics.set_index(\"entry\").sort_index()\n",
    "        df_topics.columns = [\"RQ6_SubareasDS\"]\n",
    "        df_others = df_process[df_process[col] == \"Ciclodesenvolvimento\"]\n",
    "        df_process = df_topics.merge(df_others, on = \"entry\", how = \"outer\").set_index(\"entry\")\n",
    "        df_process = df_process.fillna(0).replace(\"Ciclodesenvolvimento\", 1)    \n",
    "    \n",
    "    else:\n",
    "        df_process = pd.get_dummies(df_process, columns=[col])\n",
    "        df_process = df_process.groupby(\"entry\").sum()\n",
    "        df_entry = pd.DataFrame(index = df[\"entry\"])\n",
    "        df_process = df_process.merge(df_entry, how = \"outer\", on = [\"entry\"]).sort_index()\n",
    "        df_process = df_process.fillna(0)\n",
    "        if col != \"RQ7_ProblemsReported\":\n",
    "            df_process[col] = np.where(df_process.sum(axis = 1) >= 1, 1, 0)\n",
    "            df_process = df_process[[col]]\n",
    "    df_process = df_process.replace(1, \"Sim\").replace(0, \"Não\")\n",
    "        \n",
    "    df_agg = df_agg.merge(df_process, how = \"left\", on = \"entry\")\n",
    "df_agg = df_agg[[\"RQ4_OrganizationType\", \"RQ5_SubtopicsAM\"]]\n",
    "df_agg.columns = [\"RQ4\", \"RQ5\"]\n",
    "df_agg[\"RQ5\"] = df_agg[\"RQ5\"].replace(\"Geral\", \"Agile em geral\")\n",
    "df_agg"
   ]
  },
  {
   "cell_type": "markdown",
   "id": "41fc83f4-a762-4d2a-ac56-f65aa3a27a0f",
   "metadata": {},
   "source": [
    "# MCA"
   ]
  },
  {
   "cell_type": "code",
   "execution_count": 8,
   "id": "8c260ac9-c253-43e8-89e9-e336684f85e3",
   "metadata": {},
   "outputs": [
    {
     "data": {
      "text/plain": [
       "0.24018298986252373"
      ]
     },
     "metadata": {},
     "output_type": "display_data"
    },
    {
     "data": {
      "text/plain": [
       "False"
      ]
     },
     "metadata": {},
     "output_type": "display_data"
    },
    {
     "data": {
      "text/html": [
       "<div>\n",
       "<style scoped>\n",
       "    .dataframe tbody tr th:only-of-type {\n",
       "        vertical-align: middle;\n",
       "    }\n",
       "\n",
       "    .dataframe tbody tr th {\n",
       "        vertical-align: top;\n",
       "    }\n",
       "\n",
       "    .dataframe thead th {\n",
       "        text-align: right;\n",
       "    }\n",
       "</style>\n",
       "<table border=\"1\" class=\"dataframe\">\n",
       "  <thead>\n",
       "    <tr style=\"text-align: right;\">\n",
       "      <th>RQ5</th>\n",
       "      <th>Adaptada</th>\n",
       "      <th>Agile em geral</th>\n",
       "      <th>Kanban</th>\n",
       "      <th>Scrum</th>\n",
       "    </tr>\n",
       "    <tr>\n",
       "      <th>RQ4</th>\n",
       "      <th></th>\n",
       "      <th></th>\n",
       "      <th></th>\n",
       "      <th></th>\n",
       "    </tr>\n",
       "  </thead>\n",
       "  <tbody>\n",
       "    <tr>\n",
       "      <th>Academia</th>\n",
       "      <td>-0.486374</td>\n",
       "      <td>-0.706591</td>\n",
       "      <td>1.858906</td>\n",
       "      <td>-0.413558</td>\n",
       "    </tr>\n",
       "    <tr>\n",
       "      <th>Geral</th>\n",
       "      <td>0.155710</td>\n",
       "      <td>-0.252825</td>\n",
       "      <td>0.097477</td>\n",
       "      <td>0.000000</td>\n",
       "    </tr>\n",
       "    <tr>\n",
       "      <th>Industria</th>\n",
       "      <td>0.647382</td>\n",
       "      <td>-0.191118</td>\n",
       "      <td>-1.252652</td>\n",
       "      <td>0.633866</td>\n",
       "    </tr>\n",
       "    <tr>\n",
       "      <th>Organizações</th>\n",
       "      <td>-0.486374</td>\n",
       "      <td>1.163797</td>\n",
       "      <td>-0.304476</td>\n",
       "      <td>-0.413558</td>\n",
       "    </tr>\n",
       "  </tbody>\n",
       "</table>\n",
       "</div>"
      ],
      "text/plain": [
       "RQ5           Adaptada  Agile em geral    Kanban     Scrum\n",
       "RQ4                                                       \n",
       "Academia     -0.486374       -0.706591  1.858906 -0.413558\n",
       "Geral         0.155710       -0.252825  0.097477  0.000000\n",
       "Industria     0.647382       -0.191118 -1.252652  0.633866\n",
       "Organizações -0.486374        1.163797 -0.304476 -0.413558"
      ]
     },
     "metadata": {},
     "output_type": "display_data"
    },
    {
     "data": {
      "text/html": [
       "<div>\n",
       "<style scoped>\n",
       "    .dataframe tbody tr th:only-of-type {\n",
       "        vertical-align: middle;\n",
       "    }\n",
       "\n",
       "    .dataframe tbody tr th {\n",
       "        vertical-align: top;\n",
       "    }\n",
       "\n",
       "    .dataframe thead th {\n",
       "        text-align: right;\n",
       "    }\n",
       "</style>\n",
       "<table border=\"1\" class=\"dataframe\">\n",
       "  <thead>\n",
       "    <tr style=\"text-align: right;\">\n",
       "      <th>RQ5</th>\n",
       "      <th>Adaptada</th>\n",
       "      <th>Agile em geral</th>\n",
       "      <th>Kanban</th>\n",
       "      <th>Scrum</th>\n",
       "    </tr>\n",
       "    <tr>\n",
       "      <th>RQ4</th>\n",
       "      <th></th>\n",
       "      <th></th>\n",
       "      <th></th>\n",
       "      <th></th>\n",
       "    </tr>\n",
       "  </thead>\n",
       "  <tbody>\n",
       "    <tr>\n",
       "      <th>Academia</th>\n",
       "      <td>False</td>\n",
       "      <td>False</td>\n",
       "      <td>False</td>\n",
       "      <td>False</td>\n",
       "    </tr>\n",
       "    <tr>\n",
       "      <th>Geral</th>\n",
       "      <td>False</td>\n",
       "      <td>False</td>\n",
       "      <td>False</td>\n",
       "      <td>False</td>\n",
       "    </tr>\n",
       "    <tr>\n",
       "      <th>Industria</th>\n",
       "      <td>False</td>\n",
       "      <td>False</td>\n",
       "      <td>False</td>\n",
       "      <td>False</td>\n",
       "    </tr>\n",
       "    <tr>\n",
       "      <th>Organizações</th>\n",
       "      <td>False</td>\n",
       "      <td>False</td>\n",
       "      <td>False</td>\n",
       "      <td>False</td>\n",
       "    </tr>\n",
       "  </tbody>\n",
       "</table>\n",
       "</div>"
      ],
      "text/plain": [
       "RQ5           Adaptada  Agile em geral  Kanban  Scrum\n",
       "RQ4                                                  \n",
       "Academia         False           False   False  False\n",
       "Geral            False           False   False  False\n",
       "Industria        False           False   False  False\n",
       "Organizações     False           False   False  False"
      ]
     },
     "metadata": {},
     "output_type": "display_data"
    }
   ],
   "source": [
    "pval_ref_val = 0.05\n",
    "residuals_ref_val = 1.96\n",
    "significance_table = pd.DataFrame()\n",
    "\n",
    "for i in range(0, len(df_agg.columns)):\n",
    "    for j in range(i+1, len(df_agg.columns)):\n",
    "\n",
    "        var1 = df_agg.columns[i]\n",
    "        var2 = df_agg.columns[j]\n",
    "        \n",
    "        tabela_mca = pd.crosstab(df_agg[var1], df_agg[var2])\n",
    "        chi2, pvalor, degfreed, freq_esp = chi2_contingency(tabela_mca)\n",
    "        F = np.array(tabela_mca)\n",
    "        table = sm.stats.Table(F)                                                                                    \n",
    "        standardized_resids = pd.DataFrame(table.standardized_resids, index = tabela_mca.index, columns = tabela_mca.columns)\n",
    "        statistical_significance = pvalor < pval_ref_val\n",
    "        display(pvalor)\n",
    "        display(statistical_significance)\n",
    "        display(standardized_resids)\n",
    "        display(standardized_resids>residuals_ref_val)\n"
   ]
  },
  {
   "cell_type": "code",
   "execution_count": 9,
   "id": "ad256b26-4761-4075-8b86-c524287578c2",
   "metadata": {},
   "outputs": [
    {
     "data": {
      "text/html": [
       "<div>\n",
       "<style scoped>\n",
       "    .dataframe tbody tr th:only-of-type {\n",
       "        vertical-align: middle;\n",
       "    }\n",
       "\n",
       "    .dataframe tbody tr th {\n",
       "        vertical-align: top;\n",
       "    }\n",
       "\n",
       "    .dataframe thead th {\n",
       "        text-align: right;\n",
       "    }\n",
       "</style>\n",
       "<table border=\"1\" class=\"dataframe\">\n",
       "  <thead>\n",
       "    <tr style=\"text-align: right;\">\n",
       "      <th>RQ5</th>\n",
       "      <th>Adaptada</th>\n",
       "      <th>Agile em geral</th>\n",
       "      <th>Kanban</th>\n",
       "      <th>Scrum</th>\n",
       "    </tr>\n",
       "    <tr>\n",
       "      <th>RQ4</th>\n",
       "      <th></th>\n",
       "      <th></th>\n",
       "      <th></th>\n",
       "      <th></th>\n",
       "    </tr>\n",
       "  </thead>\n",
       "  <tbody>\n",
       "    <tr>\n",
       "      <th>Academia</th>\n",
       "      <td>1.26</td>\n",
       "      <td>0.79</td>\n",
       "      <td>0.47</td>\n",
       "      <td>0.47</td>\n",
       "    </tr>\n",
       "    <tr>\n",
       "      <th>Geral</th>\n",
       "      <td>0.42</td>\n",
       "      <td>0.26</td>\n",
       "      <td>0.16</td>\n",
       "      <td>0.16</td>\n",
       "    </tr>\n",
       "    <tr>\n",
       "      <th>Industria</th>\n",
       "      <td>5.05</td>\n",
       "      <td>3.16</td>\n",
       "      <td>1.89</td>\n",
       "      <td>1.89</td>\n",
       "    </tr>\n",
       "    <tr>\n",
       "      <th>Organizações</th>\n",
       "      <td>1.26</td>\n",
       "      <td>0.79</td>\n",
       "      <td>0.47</td>\n",
       "      <td>0.47</td>\n",
       "    </tr>\n",
       "  </tbody>\n",
       "</table>\n",
       "</div>"
      ],
      "text/plain": [
       "RQ5          Adaptada Agile em geral Kanban Scrum\n",
       "RQ4                                              \n",
       "Academia         1.26           0.79   0.47  0.47\n",
       "Geral            0.42           0.26   0.16  0.16\n",
       "Industria        5.05           3.16   1.89  1.89\n",
       "Organizações     1.26           0.79   0.47  0.47"
      ]
     },
     "execution_count": 9,
     "metadata": {},
     "output_type": "execute_result"
    }
   ],
   "source": [
    "expected_counts = pd.DataFrame(index = tabela_mca.index, columns = tabela_mca.columns)\n",
    "\n",
    "for row in expected_counts.index:\n",
    "    for col in expected_counts.columns:\n",
    "        row_count = (tabela_mca.loc[row].sum())\n",
    "        col_count = (tabela_mca[col].sum())\n",
    "        total_count = (tabela_mca.sum().sum())\n",
    "\n",
    "        expected_count = (row_count*col_count)/total_count\n",
    "        \n",
    "        expected_counts.loc[row, col] = expected_count.round(2)\n",
    "\n",
    "expected_counts"
   ]
  },
  {
   "cell_type": "code",
   "execution_count": 15,
   "id": "acdbd9ee-a815-4795-a136-239005810a10",
   "metadata": {},
   "outputs": [
    {
     "data": {
      "application/vnd.plotly.v1+json": {
       "config": {
        "plotlyServerURL": "https://plot.ly"
       },
       "data": [
        {
         "cells": {
          "align": "left",
          "fill": {
           "color": [
            [
             "lavender",
             "lavender",
             "lavender",
             "lavender"
            ],
            [
             "ivory",
             "ivory",
             "ivory",
             "ivory"
            ],
            [
             "ivory",
             "ivory",
             "ivory",
             "ivory"
            ],
            [
             "ivory",
             "ivory",
             "ivory",
             "ivory"
            ],
            [
             "ivory",
             "ivory",
             "ivory",
             "ivory"
            ]
           ]
          },
          "values": [
           [
            "Academia",
            "Geral",
            "Industria",
            "Organizações"
           ],
           [
            1.26,
            0.42,
            5.05,
            1.26
           ],
           [
            0.79,
            0.26,
            3.16,
            0.79
           ],
           [
            0.47,
            0.16,
            1.89,
            0.47
           ],
           [
            0.47,
            0.16,
            1.89,
            0.47
           ]
          ]
         },
         "domain": {
          "x": [
           0,
           1
          ],
          "y": [
           0.775,
           1
          ]
         },
         "header": {
          "align": "left",
          "fill": {
           "color": "paleturquoise"
          },
          "values": [
           "Tipo de Organização",
           "Adaptada",
           "Agile em geral",
           "Kanban",
           "Scrum"
          ]
         },
         "type": "table"
        },
        {
         "marker": {
          "size": 12
         },
         "mode": "markers+text",
         "name": "RQ4",
         "showlegend": false,
         "text": [
          "RQ4_Academia",
          "RQ4_Geral",
          "RQ4_Industria",
          "RQ4_Organizações"
         ],
         "textposition": "top center",
         "type": "scatter",
         "x": [
          2.0233106047751526,
          -0.10627891415118065,
          -0.27526324051188117,
          -0.8868313380105679
         ],
         "xaxis": "x",
         "y": [
          0.4773594168305294,
          -1.1602433757534312,
          -0.44447492386605225,
          1.6872880705514908
         ],
         "yaxis": "y"
        },
        {
         "marker": {
          "size": 12
         },
         "mode": "markers+text",
         "name": "RQ5",
         "showlegend": false,
         "text": [
          "RQ5_Adaptada",
          "RQ5_Agile em geral",
          "RQ5_Kanban",
          "RQ5_Scrum"
         ],
         "textposition": "bottom center",
         "type": "scatter",
         "x": [
          -0.06780930679373441,
          -0.8148349872986654,
          1.970308839974965,
          -0.43142570969389876
         ],
         "xaxis": "x",
         "y": [
          -0.42028892047969657,
          1.1269544544143757,
          0.469523929461429,
          -1.2270108988728636
         ],
         "yaxis": "y"
        }
       ],
       "layout": {
        "annotations": [
         {
          "font": {
           "size": 16
          },
          "showarrow": false,
          "text": "Contagem Esperada",
          "x": 0.5,
          "xanchor": "center",
          "xref": "paper",
          "y": 1,
          "yanchor": "bottom",
          "yref": "paper"
         },
         {
          "font": {
           "size": 16
          },
          "showarrow": false,
          "text": "Mapa Perceptual",
          "x": 0.5,
          "xanchor": "center",
          "xref": "paper",
          "y": 0.675,
          "yanchor": "bottom",
          "yref": "paper"
         }
        ],
        "autosize": false,
        "font": {
         "color": "black",
         "family": "Arial",
         "size": 14
        },
        "height": 800,
        "template": {
         "data": {
          "bar": [
           {
            "error_x": {
             "color": "#2a3f5f"
            },
            "error_y": {
             "color": "#2a3f5f"
            },
            "marker": {
             "line": {
              "color": "#E5ECF6",
              "width": 0.5
             },
             "pattern": {
              "fillmode": "overlay",
              "size": 10,
              "solidity": 0.2
             }
            },
            "type": "bar"
           }
          ],
          "barpolar": [
           {
            "marker": {
             "line": {
              "color": "#E5ECF6",
              "width": 0.5
             },
             "pattern": {
              "fillmode": "overlay",
              "size": 10,
              "solidity": 0.2
             }
            },
            "type": "barpolar"
           }
          ],
          "carpet": [
           {
            "aaxis": {
             "endlinecolor": "#2a3f5f",
             "gridcolor": "white",
             "linecolor": "white",
             "minorgridcolor": "white",
             "startlinecolor": "#2a3f5f"
            },
            "baxis": {
             "endlinecolor": "#2a3f5f",
             "gridcolor": "white",
             "linecolor": "white",
             "minorgridcolor": "white",
             "startlinecolor": "#2a3f5f"
            },
            "type": "carpet"
           }
          ],
          "choropleth": [
           {
            "colorbar": {
             "outlinewidth": 0,
             "ticks": ""
            },
            "type": "choropleth"
           }
          ],
          "contour": [
           {
            "colorbar": {
             "outlinewidth": 0,
             "ticks": ""
            },
            "colorscale": [
             [
              0,
              "#0d0887"
             ],
             [
              0.1111111111111111,
              "#46039f"
             ],
             [
              0.2222222222222222,
              "#7201a8"
             ],
             [
              0.3333333333333333,
              "#9c179e"
             ],
             [
              0.4444444444444444,
              "#bd3786"
             ],
             [
              0.5555555555555556,
              "#d8576b"
             ],
             [
              0.6666666666666666,
              "#ed7953"
             ],
             [
              0.7777777777777778,
              "#fb9f3a"
             ],
             [
              0.8888888888888888,
              "#fdca26"
             ],
             [
              1,
              "#f0f921"
             ]
            ],
            "type": "contour"
           }
          ],
          "contourcarpet": [
           {
            "colorbar": {
             "outlinewidth": 0,
             "ticks": ""
            },
            "type": "contourcarpet"
           }
          ],
          "heatmap": [
           {
            "colorbar": {
             "outlinewidth": 0,
             "ticks": ""
            },
            "colorscale": [
             [
              0,
              "#0d0887"
             ],
             [
              0.1111111111111111,
              "#46039f"
             ],
             [
              0.2222222222222222,
              "#7201a8"
             ],
             [
              0.3333333333333333,
              "#9c179e"
             ],
             [
              0.4444444444444444,
              "#bd3786"
             ],
             [
              0.5555555555555556,
              "#d8576b"
             ],
             [
              0.6666666666666666,
              "#ed7953"
             ],
             [
              0.7777777777777778,
              "#fb9f3a"
             ],
             [
              0.8888888888888888,
              "#fdca26"
             ],
             [
              1,
              "#f0f921"
             ]
            ],
            "type": "heatmap"
           }
          ],
          "heatmapgl": [
           {
            "colorbar": {
             "outlinewidth": 0,
             "ticks": ""
            },
            "colorscale": [
             [
              0,
              "#0d0887"
             ],
             [
              0.1111111111111111,
              "#46039f"
             ],
             [
              0.2222222222222222,
              "#7201a8"
             ],
             [
              0.3333333333333333,
              "#9c179e"
             ],
             [
              0.4444444444444444,
              "#bd3786"
             ],
             [
              0.5555555555555556,
              "#d8576b"
             ],
             [
              0.6666666666666666,
              "#ed7953"
             ],
             [
              0.7777777777777778,
              "#fb9f3a"
             ],
             [
              0.8888888888888888,
              "#fdca26"
             ],
             [
              1,
              "#f0f921"
             ]
            ],
            "type": "heatmapgl"
           }
          ],
          "histogram": [
           {
            "marker": {
             "pattern": {
              "fillmode": "overlay",
              "size": 10,
              "solidity": 0.2
             }
            },
            "type": "histogram"
           }
          ],
          "histogram2d": [
           {
            "colorbar": {
             "outlinewidth": 0,
             "ticks": ""
            },
            "colorscale": [
             [
              0,
              "#0d0887"
             ],
             [
              0.1111111111111111,
              "#46039f"
             ],
             [
              0.2222222222222222,
              "#7201a8"
             ],
             [
              0.3333333333333333,
              "#9c179e"
             ],
             [
              0.4444444444444444,
              "#bd3786"
             ],
             [
              0.5555555555555556,
              "#d8576b"
             ],
             [
              0.6666666666666666,
              "#ed7953"
             ],
             [
              0.7777777777777778,
              "#fb9f3a"
             ],
             [
              0.8888888888888888,
              "#fdca26"
             ],
             [
              1,
              "#f0f921"
             ]
            ],
            "type": "histogram2d"
           }
          ],
          "histogram2dcontour": [
           {
            "colorbar": {
             "outlinewidth": 0,
             "ticks": ""
            },
            "colorscale": [
             [
              0,
              "#0d0887"
             ],
             [
              0.1111111111111111,
              "#46039f"
             ],
             [
              0.2222222222222222,
              "#7201a8"
             ],
             [
              0.3333333333333333,
              "#9c179e"
             ],
             [
              0.4444444444444444,
              "#bd3786"
             ],
             [
              0.5555555555555556,
              "#d8576b"
             ],
             [
              0.6666666666666666,
              "#ed7953"
             ],
             [
              0.7777777777777778,
              "#fb9f3a"
             ],
             [
              0.8888888888888888,
              "#fdca26"
             ],
             [
              1,
              "#f0f921"
             ]
            ],
            "type": "histogram2dcontour"
           }
          ],
          "mesh3d": [
           {
            "colorbar": {
             "outlinewidth": 0,
             "ticks": ""
            },
            "type": "mesh3d"
           }
          ],
          "parcoords": [
           {
            "line": {
             "colorbar": {
              "outlinewidth": 0,
              "ticks": ""
             }
            },
            "type": "parcoords"
           }
          ],
          "pie": [
           {
            "automargin": true,
            "type": "pie"
           }
          ],
          "scatter": [
           {
            "fillpattern": {
             "fillmode": "overlay",
             "size": 10,
             "solidity": 0.2
            },
            "type": "scatter"
           }
          ],
          "scatter3d": [
           {
            "line": {
             "colorbar": {
              "outlinewidth": 0,
              "ticks": ""
             }
            },
            "marker": {
             "colorbar": {
              "outlinewidth": 0,
              "ticks": ""
             }
            },
            "type": "scatter3d"
           }
          ],
          "scattercarpet": [
           {
            "marker": {
             "colorbar": {
              "outlinewidth": 0,
              "ticks": ""
             }
            },
            "type": "scattercarpet"
           }
          ],
          "scattergeo": [
           {
            "marker": {
             "colorbar": {
              "outlinewidth": 0,
              "ticks": ""
             }
            },
            "type": "scattergeo"
           }
          ],
          "scattergl": [
           {
            "marker": {
             "colorbar": {
              "outlinewidth": 0,
              "ticks": ""
             }
            },
            "type": "scattergl"
           }
          ],
          "scattermapbox": [
           {
            "marker": {
             "colorbar": {
              "outlinewidth": 0,
              "ticks": ""
             }
            },
            "type": "scattermapbox"
           }
          ],
          "scatterpolar": [
           {
            "marker": {
             "colorbar": {
              "outlinewidth": 0,
              "ticks": ""
             }
            },
            "type": "scatterpolar"
           }
          ],
          "scatterpolargl": [
           {
            "marker": {
             "colorbar": {
              "outlinewidth": 0,
              "ticks": ""
             }
            },
            "type": "scatterpolargl"
           }
          ],
          "scatterternary": [
           {
            "marker": {
             "colorbar": {
              "outlinewidth": 0,
              "ticks": ""
             }
            },
            "type": "scatterternary"
           }
          ],
          "surface": [
           {
            "colorbar": {
             "outlinewidth": 0,
             "ticks": ""
            },
            "colorscale": [
             [
              0,
              "#0d0887"
             ],
             [
              0.1111111111111111,
              "#46039f"
             ],
             [
              0.2222222222222222,
              "#7201a8"
             ],
             [
              0.3333333333333333,
              "#9c179e"
             ],
             [
              0.4444444444444444,
              "#bd3786"
             ],
             [
              0.5555555555555556,
              "#d8576b"
             ],
             [
              0.6666666666666666,
              "#ed7953"
             ],
             [
              0.7777777777777778,
              "#fb9f3a"
             ],
             [
              0.8888888888888888,
              "#fdca26"
             ],
             [
              1,
              "#f0f921"
             ]
            ],
            "type": "surface"
           }
          ],
          "table": [
           {
            "cells": {
             "fill": {
              "color": "#EBF0F8"
             },
             "line": {
              "color": "white"
             }
            },
            "header": {
             "fill": {
              "color": "#C8D4E3"
             },
             "line": {
              "color": "white"
             }
            },
            "type": "table"
           }
          ]
         },
         "layout": {
          "annotationdefaults": {
           "arrowcolor": "#2a3f5f",
           "arrowhead": 0,
           "arrowwidth": 1
          },
          "autotypenumbers": "strict",
          "coloraxis": {
           "colorbar": {
            "outlinewidth": 0,
            "ticks": ""
           }
          },
          "colorscale": {
           "diverging": [
            [
             0,
             "#8e0152"
            ],
            [
             0.1,
             "#c51b7d"
            ],
            [
             0.2,
             "#de77ae"
            ],
            [
             0.3,
             "#f1b6da"
            ],
            [
             0.4,
             "#fde0ef"
            ],
            [
             0.5,
             "#f7f7f7"
            ],
            [
             0.6,
             "#e6f5d0"
            ],
            [
             0.7,
             "#b8e186"
            ],
            [
             0.8,
             "#7fbc41"
            ],
            [
             0.9,
             "#4d9221"
            ],
            [
             1,
             "#276419"
            ]
           ],
           "sequential": [
            [
             0,
             "#0d0887"
            ],
            [
             0.1111111111111111,
             "#46039f"
            ],
            [
             0.2222222222222222,
             "#7201a8"
            ],
            [
             0.3333333333333333,
             "#9c179e"
            ],
            [
             0.4444444444444444,
             "#bd3786"
            ],
            [
             0.5555555555555556,
             "#d8576b"
            ],
            [
             0.6666666666666666,
             "#ed7953"
            ],
            [
             0.7777777777777778,
             "#fb9f3a"
            ],
            [
             0.8888888888888888,
             "#fdca26"
            ],
            [
             1,
             "#f0f921"
            ]
           ],
           "sequentialminus": [
            [
             0,
             "#0d0887"
            ],
            [
             0.1111111111111111,
             "#46039f"
            ],
            [
             0.2222222222222222,
             "#7201a8"
            ],
            [
             0.3333333333333333,
             "#9c179e"
            ],
            [
             0.4444444444444444,
             "#bd3786"
            ],
            [
             0.5555555555555556,
             "#d8576b"
            ],
            [
             0.6666666666666666,
             "#ed7953"
            ],
            [
             0.7777777777777778,
             "#fb9f3a"
            ],
            [
             0.8888888888888888,
             "#fdca26"
            ],
            [
             1,
             "#f0f921"
            ]
           ]
          },
          "colorway": [
           "#636efa",
           "#EF553B",
           "#00cc96",
           "#ab63fa",
           "#FFA15A",
           "#19d3f3",
           "#FF6692",
           "#B6E880",
           "#FF97FF",
           "#FECB52"
          ],
          "font": {
           "color": "#2a3f5f"
          },
          "geo": {
           "bgcolor": "white",
           "lakecolor": "white",
           "landcolor": "#E5ECF6",
           "showlakes": true,
           "showland": true,
           "subunitcolor": "white"
          },
          "hoverlabel": {
           "align": "left"
          },
          "hovermode": "closest",
          "mapbox": {
           "style": "light"
          },
          "paper_bgcolor": "white",
          "plot_bgcolor": "#E5ECF6",
          "polar": {
           "angularaxis": {
            "gridcolor": "white",
            "linecolor": "white",
            "ticks": ""
           },
           "bgcolor": "#E5ECF6",
           "radialaxis": {
            "gridcolor": "white",
            "linecolor": "white",
            "ticks": ""
           }
          },
          "scene": {
           "xaxis": {
            "backgroundcolor": "#E5ECF6",
            "gridcolor": "white",
            "gridwidth": 2,
            "linecolor": "white",
            "showbackground": true,
            "ticks": "",
            "zerolinecolor": "white"
           },
           "yaxis": {
            "backgroundcolor": "#E5ECF6",
            "gridcolor": "white",
            "gridwidth": 2,
            "linecolor": "white",
            "showbackground": true,
            "ticks": "",
            "zerolinecolor": "white"
           },
           "zaxis": {
            "backgroundcolor": "#E5ECF6",
            "gridcolor": "white",
            "gridwidth": 2,
            "linecolor": "white",
            "showbackground": true,
            "ticks": "",
            "zerolinecolor": "white"
           }
          },
          "shapedefaults": {
           "line": {
            "color": "#2a3f5f"
           }
          },
          "ternary": {
           "aaxis": {
            "gridcolor": "white",
            "linecolor": "white",
            "ticks": ""
           },
           "baxis": {
            "gridcolor": "white",
            "linecolor": "white",
            "ticks": ""
           },
           "bgcolor": "#E5ECF6",
           "caxis": {
            "gridcolor": "white",
            "linecolor": "white",
            "ticks": ""
           }
          },
          "title": {
           "x": 0.05
          },
          "xaxis": {
           "automargin": true,
           "gridcolor": "white",
           "linecolor": "white",
           "ticks": "",
           "title": {
            "standoff": 15
           },
           "zerolinecolor": "white",
           "zerolinewidth": 2
          },
          "yaxis": {
           "automargin": true,
           "gridcolor": "white",
           "linecolor": "white",
           "ticks": "",
           "title": {
            "standoff": 15
           },
           "zerolinecolor": "white",
           "zerolinewidth": 2
          }
         }
        },
        "title": {
         "font": {
          "size": 20
         },
         "text": "Análise de Correspondência - Associação entre RQ4 e RQ5"
        },
        "width": 800,
        "xaxis": {
         "anchor": "y",
         "domain": [
          0,
          1
         ],
         "range": [
          -2.5,
          2.5
         ],
         "type": "linear"
        },
        "yaxis": {
         "anchor": "x",
         "domain": [
          0,
          0.675
         ],
         "range": [
          -2,
          2
         ],
         "type": "linear"
        }
       }
      },
      "image/png": "[encoded data removed]",
      "text/html": [
       "<div>                            <div id=\"70d3ce56-481c-422c-8cbf-53ec58841c34\" class=\"plotly-graph-div\" style=\"height:800px; width:800px;\"></div>            <script type=\"text/javascript\">                require([\"plotly\"], function(Plotly) {                    window.PLOTLYENV=window.PLOTLYENV || {};                                    if (document.getElementById(\"70d3ce56-481c-422c-8cbf-53ec58841c34\")) {                    Plotly.newPlot(                        \"70d3ce56-481c-422c-8cbf-53ec58841c34\",                        [{\"cells\":{\"align\":\"left\",\"fill\":{\"color\":[[\"lavender\",\"lavender\",\"lavender\",\"lavender\"],[\"ivory\",\"ivory\",\"ivory\",\"ivory\"],[\"ivory\",\"ivory\",\"ivory\",\"ivory\"],[\"ivory\",\"ivory\",\"ivory\",\"ivory\"],[\"ivory\",\"ivory\",\"ivory\",\"ivory\"]]},\"values\":[[\"Academia\",\"Geral\",\"Industria\",\"Organiza\\u00e7\\u00f5es\"],[1.26,0.42,5.05,1.26],[0.79,0.26,3.16,0.79],[0.47,0.16,1.89,0.47],[0.47,0.16,1.89,0.47]]},\"header\":{\"align\":\"left\",\"fill\":{\"color\":\"paleturquoise\"},\"values\":[\"Tipo de Organiza\\u00e7\\u00e3o\",\"Adaptada\",\"Agile em geral\",\"Kanban\",\"Scrum\"]},\"type\":\"table\",\"domain\":{\"x\":[0.0,1.0],\"y\":[0.775,1.0]}},{\"marker\":{\"size\":12},\"mode\":\"markers+text\",\"name\":\"RQ4\",\"showlegend\":false,\"text\":[\"RQ4_Academia\",\"RQ4_Geral\",\"RQ4_Industria\",\"RQ4_Organiza\\u00e7\\u00f5es\"],\"textposition\":\"top center\",\"x\":[2.0233106047751526,-0.10627891415118065,-0.27526324051188117,-0.8868313380105679],\"y\":[0.4773594168305294,-1.1602433757534312,-0.44447492386605225,1.6872880705514908],\"type\":\"scatter\",\"xaxis\":\"x\",\"yaxis\":\"y\"},{\"marker\":{\"size\":12},\"mode\":\"markers+text\",\"name\":\"RQ5\",\"showlegend\":false,\"text\":[\"RQ5_Adaptada\",\"RQ5_Agile em geral\",\"RQ5_Kanban\",\"RQ5_Scrum\"],\"textposition\":\"bottom center\",\"x\":[-0.06780930679373441,-0.8148349872986654,1.970308839974965,-0.43142570969389876],\"y\":[-0.42028892047969657,1.1269544544143757,0.469523929461429,-1.2270108988728636],\"type\":\"scatter\",\"xaxis\":\"x\",\"yaxis\":\"y\"}],                        {\"template\":{\"data\":{\"histogram2dcontour\":[{\"type\":\"histogram2dcontour\",\"colorbar\":{\"outlinewidth\":0,\"ticks\":\"\"},\"colorscale\":[[0.0,\"#0d0887\"],[0.1111111111111111,\"#46039f\"],[0.2222222222222222,\"#7201a8\"],[0.3333333333333333,\"#9c179e\"],[0.4444444444444444,\"#bd3786\"],[0.5555555555555556,\"#d8576b\"],[0.6666666666666666,\"#ed7953\"],[0.7777777777777778,\"#fb9f3a\"],[0.8888888888888888,\"#fdca26\"],[1.0,\"#f0f921\"]]}],\"choropleth\":[{\"type\":\"choropleth\",\"colorbar\":{\"outlinewidth\":0,\"ticks\":\"\"}}],\"histogram2d\":[{\"type\":\"histogram2d\",\"colorbar\":{\"outlinewidth\":0,\"ticks\":\"\"},\"colorscale\":[[0.0,\"#0d0887\"],[0.1111111111111111,\"#46039f\"],[0.2222222222222222,\"#7201a8\"],[0.3333333333333333,\"#9c179e\"],[0.4444444444444444,\"#bd3786\"],[0.5555555555555556,\"#d8576b\"],[0.6666666666666666,\"#ed7953\"],[0.7777777777777778,\"#fb9f3a\"],[0.8888888888888888,\"#fdca26\"],[1.0,\"#f0f921\"]]}],\"heatmap\":[{\"type\":\"heatmap\",\"colorbar\":{\"outlinewidth\":0,\"ticks\":\"\"},\"colorscale\":[[0.0,\"#0d0887\"],[0.1111111111111111,\"#46039f\"],[0.2222222222222222,\"#7201a8\"],[0.3333333333333333,\"#9c179e\"],[0.4444444444444444,\"#bd3786\"],[0.5555555555555556,\"#d8576b\"],[0.6666666666666666,\"#ed7953\"],[0.7777777777777778,\"#fb9f3a\"],[0.8888888888888888,\"#fdca26\"],[1.0,\"#f0f921\"]]}],\"heatmapgl\":[{\"type\":\"heatmapgl\",\"colorbar\":{\"outlinewidth\":0,\"ticks\":\"\"},\"colorscale\":[[0.0,\"#0d0887\"],[0.1111111111111111,\"#46039f\"],[0.2222222222222222,\"#7201a8\"],[0.3333333333333333,\"#9c179e\"],[0.4444444444444444,\"#bd3786\"],[0.5555555555555556,\"#d8576b\"],[0.6666666666666666,\"#ed7953\"],[0.7777777777777778,\"#fb9f3a\"],[0.8888888888888888,\"#fdca26\"],[1.0,\"#f0f921\"]]}],\"contourcarpet\":[{\"type\":\"contourcarpet\",\"colorbar\":{\"outlinewidth\":0,\"ticks\":\"\"}}],\"contour\":[{\"type\":\"contour\",\"colorbar\":{\"outlinewidth\":0,\"ticks\":\"\"},\"colorscale\":[[0.0,\"#0d0887\"],[0.1111111111111111,\"#46039f\"],[0.2222222222222222,\"#7201a8\"],[0.3333333333333333,\"#9c179e\"],[0.4444444444444444,\"#bd3786\"],[0.5555555555555556,\"#d8576b\"],[0.6666666666666666,\"#ed7953\"],[0.7777777777777778,\"#fb9f3a\"],[0.8888888888888888,\"#fdca26\"],[1.0,\"#f0f921\"]]}],\"surface\":[{\"type\":\"surface\",\"colorbar\":{\"outlinewidth\":0,\"ticks\":\"\"},\"colorscale\":[[0.0,\"#0d0887\"],[0.1111111111111111,\"#46039f\"],[0.2222222222222222,\"#7201a8\"],[0.3333333333333333,\"#9c179e\"],[0.4444444444444444,\"#bd3786\"],[0.5555555555555556,\"#d8576b\"],[0.6666666666666666,\"#ed7953\"],[0.7777777777777778,\"#fb9f3a\"],[0.8888888888888888,\"#fdca26\"],[1.0,\"#f0f921\"]]}],\"mesh3d\":[{\"type\":\"mesh3d\",\"colorbar\":{\"outlinewidth\":0,\"ticks\":\"\"}}],\"scatter\":[{\"fillpattern\":{\"fillmode\":\"overlay\",\"size\":10,\"solidity\":0.2},\"type\":\"scatter\"}],\"parcoords\":[{\"type\":\"parcoords\",\"line\":{\"colorbar\":{\"outlinewidth\":0,\"ticks\":\"\"}}}],\"scatterpolargl\":[{\"type\":\"scatterpolargl\",\"marker\":{\"colorbar\":{\"outlinewidth\":0,\"ticks\":\"\"}}}],\"bar\":[{\"error_x\":{\"color\":\"#2a3f5f\"},\"error_y\":{\"color\":\"#2a3f5f\"},\"marker\":{\"line\":{\"color\":\"#E5ECF6\",\"width\":0.5},\"pattern\":{\"fillmode\":\"overlay\",\"size\":10,\"solidity\":0.2}},\"type\":\"bar\"}],\"scattergeo\":[{\"type\":\"scattergeo\",\"marker\":{\"colorbar\":{\"outlinewidth\":0,\"ticks\":\"\"}}}],\"scatterpolar\":[{\"type\":\"scatterpolar\",\"marker\":{\"colorbar\":{\"outlinewidth\":0,\"ticks\":\"\"}}}],\"histogram\":[{\"marker\":{\"pattern\":{\"fillmode\":\"overlay\",\"size\":10,\"solidity\":0.2}},\"type\":\"histogram\"}],\"scattergl\":[{\"type\":\"scattergl\",\"marker\":{\"colorbar\":{\"outlinewidth\":0,\"ticks\":\"\"}}}],\"scatter3d\":[{\"type\":\"scatter3d\",\"line\":{\"colorbar\":{\"outlinewidth\":0,\"ticks\":\"\"}},\"marker\":{\"colorbar\":{\"outlinewidth\":0,\"ticks\":\"\"}}}],\"scattermapbox\":[{\"type\":\"scattermapbox\",\"marker\":{\"colorbar\":{\"outlinewidth\":0,\"ticks\":\"\"}}}],\"scatterternary\":[{\"type\":\"scatterternary\",\"marker\":{\"colorbar\":{\"outlinewidth\":0,\"ticks\":\"\"}}}],\"scattercarpet\":[{\"type\":\"scattercarpet\",\"marker\":{\"colorbar\":{\"outlinewidth\":0,\"ticks\":\"\"}}}],\"carpet\":[{\"aaxis\":{\"endlinecolor\":\"#2a3f5f\",\"gridcolor\":\"white\",\"linecolor\":\"white\",\"minorgridcolor\":\"white\",\"startlinecolor\":\"#2a3f5f\"},\"baxis\":{\"endlinecolor\":\"#2a3f5f\",\"gridcolor\":\"white\",\"linecolor\":\"white\",\"minorgridcolor\":\"white\",\"startlinecolor\":\"#2a3f5f\"},\"type\":\"carpet\"}],\"table\":[{\"cells\":{\"fill\":{\"color\":\"#EBF0F8\"},\"line\":{\"color\":\"white\"}},\"header\":{\"fill\":{\"color\":\"#C8D4E3\"},\"line\":{\"color\":\"white\"}},\"type\":\"table\"}],\"barpolar\":[{\"marker\":{\"line\":{\"color\":\"#E5ECF6\",\"width\":0.5},\"pattern\":{\"fillmode\":\"overlay\",\"size\":10,\"solidity\":0.2}},\"type\":\"barpolar\"}],\"pie\":[{\"automargin\":true,\"type\":\"pie\"}]},\"layout\":{\"autotypenumbers\":\"strict\",\"colorway\":[\"#636efa\",\"#EF553B\",\"#00cc96\",\"#ab63fa\",\"#FFA15A\",\"#19d3f3\",\"#FF6692\",\"#B6E880\",\"#FF97FF\",\"#FECB52\"],\"font\":{\"color\":\"#2a3f5f\"},\"hovermode\":\"closest\",\"hoverlabel\":{\"align\":\"left\"},\"paper_bgcolor\":\"white\",\"plot_bgcolor\":\"#E5ECF6\",\"polar\":{\"bgcolor\":\"#E5ECF6\",\"angularaxis\":{\"gridcolor\":\"white\",\"linecolor\":\"white\",\"ticks\":\"\"},\"radialaxis\":{\"gridcolor\":\"white\",\"linecolor\":\"white\",\"ticks\":\"\"}},\"ternary\":{\"bgcolor\":\"#E5ECF6\",\"aaxis\":{\"gridcolor\":\"white\",\"linecolor\":\"white\",\"ticks\":\"\"},\"baxis\":{\"gridcolor\":\"white\",\"linecolor\":\"white\",\"ticks\":\"\"},\"caxis\":{\"gridcolor\":\"white\",\"linecolor\":\"white\",\"ticks\":\"\"}},\"coloraxis\":{\"colorbar\":{\"outlinewidth\":0,\"ticks\":\"\"}},\"colorscale\":{\"sequential\":[[0.0,\"#0d0887\"],[0.1111111111111111,\"#46039f\"],[0.2222222222222222,\"#7201a8\"],[0.3333333333333333,\"#9c179e\"],[0.4444444444444444,\"#bd3786\"],[0.5555555555555556,\"#d8576b\"],[0.6666666666666666,\"#ed7953\"],[0.7777777777777778,\"#fb9f3a\"],[0.8888888888888888,\"#fdca26\"],[1.0,\"#f0f921\"]],\"sequentialminus\":[[0.0,\"#0d0887\"],[0.1111111111111111,\"#46039f\"],[0.2222222222222222,\"#7201a8\"],[0.3333333333333333,\"#9c179e\"],[0.4444444444444444,\"#bd3786\"],[0.5555555555555556,\"#d8576b\"],[0.6666666666666666,\"#ed7953\"],[0.7777777777777778,\"#fb9f3a\"],[0.8888888888888888,\"#fdca26\"],[1.0,\"#f0f921\"]],\"diverging\":[[0,\"#8e0152\"],[0.1,\"#c51b7d\"],[0.2,\"#de77ae\"],[0.3,\"#f1b6da\"],[0.4,\"#fde0ef\"],[0.5,\"#f7f7f7\"],[0.6,\"#e6f5d0\"],[0.7,\"#b8e186\"],[0.8,\"#7fbc41\"],[0.9,\"#4d9221\"],[1,\"#276419\"]]},\"xaxis\":{\"gridcolor\":\"white\",\"linecolor\":\"white\",\"ticks\":\"\",\"title\":{\"standoff\":15},\"zerolinecolor\":\"white\",\"automargin\":true,\"zerolinewidth\":2},\"yaxis\":{\"gridcolor\":\"white\",\"linecolor\":\"white\",\"ticks\":\"\",\"title\":{\"standoff\":15},\"zerolinecolor\":\"white\",\"automargin\":true,\"zerolinewidth\":2},\"scene\":{\"xaxis\":{\"backgroundcolor\":\"#E5ECF6\",\"gridcolor\":\"white\",\"linecolor\":\"white\",\"showbackground\":true,\"ticks\":\"\",\"zerolinecolor\":\"white\",\"gridwidth\":2},\"yaxis\":{\"backgroundcolor\":\"#E5ECF6\",\"gridcolor\":\"white\",\"linecolor\":\"white\",\"showbackground\":true,\"ticks\":\"\",\"zerolinecolor\":\"white\",\"gridwidth\":2},\"zaxis\":{\"backgroundcolor\":\"#E5ECF6\",\"gridcolor\":\"white\",\"linecolor\":\"white\",\"showbackground\":true,\"ticks\":\"\",\"zerolinecolor\":\"white\",\"gridwidth\":2}},\"shapedefaults\":{\"line\":{\"color\":\"#2a3f5f\"}},\"annotationdefaults\":{\"arrowcolor\":\"#2a3f5f\",\"arrowhead\":0,\"arrowwidth\":1},\"geo\":{\"bgcolor\":\"white\",\"landcolor\":\"#E5ECF6\",\"subunitcolor\":\"white\",\"showland\":true,\"showlakes\":true,\"lakecolor\":\"white\"},\"title\":{\"x\":0.05},\"mapbox\":{\"style\":\"light\"}}},\"xaxis\":{\"anchor\":\"y\",\"domain\":[0.0,1.0],\"range\":[-2.5,2.5]},\"yaxis\":{\"anchor\":\"x\",\"domain\":[0.0,0.675],\"range\":[-2.0,2.0]},\"annotations\":[{\"font\":{\"size\":16},\"showarrow\":false,\"text\":\"Contagem Esperada\",\"x\":0.5,\"xanchor\":\"center\",\"xref\":\"paper\",\"y\":1.0,\"yanchor\":\"bottom\",\"yref\":\"paper\"},{\"font\":{\"size\":16},\"showarrow\":false,\"text\":\"Mapa Perceptual\",\"x\":0.5,\"xanchor\":\"center\",\"xref\":\"paper\",\"y\":0.675,\"yanchor\":\"bottom\",\"yref\":\"paper\"}],\"title\":{\"font\":{\"size\":20},\"text\":\"An\\u00e1lise de Correspond\\u00eancia - Associa\\u00e7\\u00e3o entre RQ4 e RQ5\"},\"font\":{\"color\":\"black\",\"size\":14,\"family\":\"Arial\"},\"autosize\":false,\"width\":800,\"height\":800},                        {\"responsive\": true}                    ).then(function(){\n",
       "                            \n",
       "var gd = document.getElementById('70d3ce56-481c-422c-8cbf-53ec58841c34');\n",
       "var x = new MutationObserver(function (mutations, observer) {{\n",
       "        var display = window.getComputedStyle(gd).display;\n",
       "        if (!display || display === 'none') {{\n",
       "            console.log([gd, 'removed!']);\n",
       "            Plotly.purge(gd);\n",
       "            observer.disconnect();\n",
       "        }}\n",
       "}});\n",
       "\n",
       "// Listen for the removal of the full notebook cells\n",
       "var notebookContainer = gd.closest('#notebook-container');\n",
       "if (notebookContainer) {{\n",
       "    x.observe(notebookContainer, {childList: true});\n",
       "}}\n",
       "\n",
       "// Listen for the clearing of the current output cell\n",
       "var outputEl = gd.closest('.output');\n",
       "if (outputEl) {{\n",
       "    x.observe(outputEl, {childList: true});\n",
       "}}\n",
       "\n",
       "                        })                };                });            </script>        </div>"
      ]
     },
     "metadata": {},
     "output_type": "display_data"
    }
   ],
   "source": [
    "fig = make_subplots(\n",
    "    rows=2, cols=1,  \n",
    "    vertical_spacing = 0.1,\n",
    "    subplot_titles=['Contagem Esperada', 'Mapa Perceptual'], \n",
    "    specs=[[{\"type\": \"table\"}], [{\"type\": \"scatter\"}]],\n",
    "    row_heights=[0.25, 0.75]\n",
    ")\n",
    "\n",
    "fig.add_trace(go.Table(\n",
    "    header=dict(values=[\"Tipo de Organização\"]+list(expected_counts.columns),\n",
    "                fill_color='paleturquoise',\n",
    "                align='left'),\n",
    "    cells=dict(values=expected_counts.reset_index().T.values,\n",
    "               fill_color=np.select(\n",
    "                [\n",
    "                    expected_counts.reset_index().T.values == \"Academia\", \n",
    "                    expected_counts.reset_index().T.values == \"Geral\", \n",
    "                    expected_counts.reset_index().T.values == \"Industria\", \n",
    "                    expected_counts.reset_index().T.values == \"Organizações\", \n",
    "                ],\n",
    "                [\n",
    "                    \"lavender\",\n",
    "                    \"lavender\",\n",
    "                    \"lavender\",\n",
    "                    \"lavender\",\n",
    "                ],\n",
    "                \"ivory\",\n",
    "            ),\n",
    "            align='left')),  \n",
    "    row=1, col=1\n",
    ")\n",
    "\n",
    "df_filt = df_agg.copy()\n",
    "\n",
    "#%% Elaborando a MCA \n",
    "## Utiliza o método da matriz de Burt\n",
    "mca = prince.MCA()\n",
    "mca = mca.fit(df_filt)\n",
    "\n",
    "col_coordinates = mca.column_coordinates(df_filt)\n",
    "row_coordinates = mca.row_coordinates(df_filt)\n",
    "\n",
    "ind_cols = col_coordinates.index\n",
    "\n",
    "chart_df = pd.DataFrame({\n",
    "    'obs_x':row_coordinates[0],\n",
    "    'point':row_coordinates.index,\n",
    "    'obs_y': row_coordinates[1]\n",
    "})\n",
    "    \n",
    "for col in df_filt.columns:\n",
    "    col_ind = [ind for ind in ind_cols if col in ind]\n",
    "\n",
    "    text_position = \"top center\" if col == \"RQ4\" else \"bottom center\"\n",
    "\n",
    "    fig.add_trace(go.Scatter(\n",
    "        x=col_coordinates.loc[col_ind][0],\n",
    "        mode='markers+text',\n",
    "        name=col,\n",
    "        marker={'size':12},\n",
    "        y=col_coordinates.loc[col_ind][1],\n",
    "        textposition=text_position,\n",
    "        text=col_coordinates.loc[col_ind].index,\n",
    "        showlegend=False\n",
    "    ),\n",
    "    row=2, col=1\n",
    ")\n",
    "\n",
    "fig.update_layout(\n",
    "    autosize=False,\n",
    "    width=800,\n",
    "    height=800,\n",
    "    title=dict(text = 'Análise de Correspondência - Associação entre RQ4 e RQ5', font = dict(size=20)),\n",
    "    font=dict(\n",
    "        color=\"black\",\n",
    "        size=14,\n",
    "        family=\"Arial\",\n",
    "    ),\n",
    "    xaxis = dict(range=[-2.5, 2.5]),\n",
    "    yaxis = dict(range=[-2.0, 2.0]),\n",
    "\n",
    ")\n",
    "fig.show()"
   ]
  },
  {
   "cell_type": "code",
   "execution_count": null,
   "id": "03da4052-1a06-4557-bd2c-cd7753453802",
   "metadata": {},
   "outputs": [],
   "source": []
  }
 ],
 "metadata": {
  "kernelspec": {
   "display_name": "Python 3 (ipykernel)",
   "language": "python",
   "name": "python3"
  },
  "language_info": {
   "codemirror_mode": {
    "name": "ipython",
    "version": 3
   },
   "file_extension": ".py",
   "mimetype": "text/x-python",
   "name": "python",
   "nbconvert_exporter": "python",
   "pygments_lexer": "ipython3",
   "version": "3.10.10"
  }
 },
 "nbformat": 4,
 "nbformat_minor": 5
}
