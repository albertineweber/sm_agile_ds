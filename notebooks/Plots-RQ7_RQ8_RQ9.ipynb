{
 "cells": [
  {
   "cell_type": "markdown",
   "id": "daefb635-f1f6-4911-9a37-5c64970cb070",
   "metadata": {},
   "source": [
    "# Imports"
   ]
  },
  {
   "cell_type": "code",
   "execution_count": 1,
   "id": "a92df633-7c54-4aab-874c-9fed2e0a6fb2",
   "metadata": {},
   "outputs": [],
   "source": [
    "import pandas as pd\n",
    "import numpy as np\n",
    "from plotly import graph_objects as go\n",
    "import plotly.express as px\n",
    "from plotly.subplots import make_subplots"
   ]
  },
  {
   "cell_type": "code",
   "execution_count": 2,
   "id": "b2c08f19-fb3d-4002-93ea-0764654d0072",
   "metadata": {},
   "outputs": [],
   "source": [
    "colors = px.colors.qualitative.Plotly"
   ]
  },
  {
   "cell_type": "code",
   "execution_count": 3,
   "id": "b66d7ca8-8ba3-47c8-802a-1d5d1be361f2",
   "metadata": {},
   "outputs": [],
   "source": [
    "# Create plot layout\n",
    "layout = go.Layout(\n",
    "    width=1000,\n",
    "    height=500,\n",
    "    template=\"plotly_white\",\n",
    "    font=dict(\n",
    "        color=\"black\",\n",
    "        size=24,\n",
    "        family=\"Arial\",\n",
    "    ),\n",
    ")"
   ]
  },
  {
   "cell_type": "markdown",
   "id": "31c34ffb-98f5-4b61-bcc1-b5f4024bd40f",
   "metadata": {},
   "source": [
    "# Read files"
   ]
  },
  {
   "cell_type": "code",
   "execution_count": 4,
   "id": "e74c3b29-20bb-4ad1-a353-326ec2048abb",
   "metadata": {},
   "outputs": [
    {
     "data": {
      "text/html": [
       "<div>\n",
       "<style scoped>\n",
       "    .dataframe tbody tr th:only-of-type {\n",
       "        vertical-align: middle;\n",
       "    }\n",
       "\n",
       "    .dataframe tbody tr th {\n",
       "        vertical-align: top;\n",
       "    }\n",
       "\n",
       "    .dataframe thead th {\n",
       "        text-align: right;\n",
       "    }\n",
       "</style>\n",
       "<table border=\"1\" class=\"dataframe\">\n",
       "  <thead>\n",
       "    <tr style=\"text-align: right;\">\n",
       "      <th></th>\n",
       "      <th>entry</th>\n",
       "      <th>database</th>\n",
       "      <th>title</th>\n",
       "      <th>abstract</th>\n",
       "      <th>author_keywords</th>\n",
       "      <th>authors</th>\n",
       "      <th>authors_affiliations</th>\n",
       "      <th>publication_year</th>\n",
       "      <th>source_title</th>\n",
       "      <th>publisher</th>\n",
       "      <th>...</th>\n",
       "      <th>RQ1_PubYear</th>\n",
       "      <th>RQ1_EstimatedPubDate</th>\n",
       "      <th>RQ2_ResearchType</th>\n",
       "      <th>RQ3_ResearchMethod</th>\n",
       "      <th>RQ4_OrganizationType</th>\n",
       "      <th>RQ5_SubtopicsAM</th>\n",
       "      <th>RQ6_SubtopicsDS</th>\n",
       "      <th>RQ7_ProblemsReported</th>\n",
       "      <th>RQ8_ObjectiveAM</th>\n",
       "      <th>RQ9_ContributionsResults</th>\n",
       "    </tr>\n",
       "  </thead>\n",
       "  <tbody>\n",
       "    <tr>\n",
       "      <th>0</th>\n",
       "      <td>6</td>\n",
       "      <td>acm</td>\n",
       "      <td>A Scalable Methodology to Guide Student Teams ...</td>\n",
       "      <td>This article reports on a sequential mixed-met...</td>\n",
       "      <td>project methodologies, Project-based learning,...</td>\n",
       "      <td>Saltz JS,Heckman RR</td>\n",
       "      <td>NaN</td>\n",
       "      <td>2018.0</td>\n",
       "      <td>ACM Trans. Comput. Educ.</td>\n",
       "      <td>Association for Computing Machinery</td>\n",
       "      <td>...</td>\n",
       "      <td>2018</td>\n",
       "      <td>2018-07-11</td>\n",
       "      <td>Validação</td>\n",
       "      <td>MixedMethods</td>\n",
       "      <td>Academia</td>\n",
       "      <td>Kanban</td>\n",
       "      <td>CicloDesenvolvimento;Geral</td>\n",
       "      <td>Time;Integração;Definição;Incerteza</td>\n",
       "      <td>Definição</td>\n",
       "      <td>Coordenação;Clareza</td>\n",
       "    </tr>\n",
       "    <tr>\n",
       "      <th>1</th>\n",
       "      <td>14</td>\n",
       "      <td>ieeex</td>\n",
       "      <td>Achieving Agile Big Data Science: The Evolutio...</td>\n",
       "      <td>While there has been a rapid increase in the u...</td>\n",
       "      <td>Big Data Science;Agile;Process Methodology</td>\n",
       "      <td>J. S. Saltz; I. Shamshurin</td>\n",
       "      <td>School of Information Studies Syracuse Univers...</td>\n",
       "      <td>2019.0</td>\n",
       "      <td>2019 IEEE International Conference on Big Data...</td>\n",
       "      <td>IEEE</td>\n",
       "      <td>...</td>\n",
       "      <td>2019</td>\n",
       "      <td>2019-12-12</td>\n",
       "      <td>Avaliação</td>\n",
       "      <td>Etnografia</td>\n",
       "      <td>Industria</td>\n",
       "      <td>Kanban</td>\n",
       "      <td>BigData</td>\n",
       "      <td>Time;Integração;Incerteza</td>\n",
       "      <td>Agilidade;Integração</td>\n",
       "      <td>Coordenação;Priorização;Eficiência;WIP</td>\n",
       "    </tr>\n",
       "    <tr>\n",
       "      <th>2</th>\n",
       "      <td>15</td>\n",
       "      <td>ieeex</td>\n",
       "      <td>SKI: An Agile Framework for Data Science</td>\n",
       "      <td>This paper explores data science project manag...</td>\n",
       "      <td>Data Science;Big Data;Agile;Process Methodology</td>\n",
       "      <td>J. Saltz; A. Suthrland</td>\n",
       "      <td>Syracuse University; Scrum Inc.</td>\n",
       "      <td>2019.0</td>\n",
       "      <td>2019 IEEE International Conference on Big Data...</td>\n",
       "      <td>IEEE</td>\n",
       "      <td>...</td>\n",
       "      <td>2019</td>\n",
       "      <td>2019-12-12</td>\n",
       "      <td>Validação</td>\n",
       "      <td>StudyCase</td>\n",
       "      <td>Academia</td>\n",
       "      <td>Adaptada</td>\n",
       "      <td>CicloDesenvolvimento;Geral</td>\n",
       "      <td>Incerteza;Suporte;Experiência</td>\n",
       "      <td>Definição</td>\n",
       "      <td>Clareza;Divisão;Coordenação</td>\n",
       "    </tr>\n",
       "    <tr>\n",
       "      <th>3</th>\n",
       "      <td>18</td>\n",
       "      <td>ieeex</td>\n",
       "      <td>Identifying the most Common Frameworks Data Sc...</td>\n",
       "      <td>This paper presents the results of a study foc...</td>\n",
       "      <td>Data Science;Big Data;Process Methodology</td>\n",
       "      <td>J. S. Saltz; N. Hotz</td>\n",
       "      <td>Syracuse University; Indiana University</td>\n",
       "      <td>2020.0</td>\n",
       "      <td>2020 IEEE International Conference on Big Data...</td>\n",
       "      <td>IEEE</td>\n",
       "      <td>...</td>\n",
       "      <td>2020</td>\n",
       "      <td>2020-12-13</td>\n",
       "      <td>Avaliação</td>\n",
       "      <td>Survey</td>\n",
       "      <td>Industria</td>\n",
       "      <td>Geral</td>\n",
       "      <td>CicloDesenvolvimento;Geral</td>\n",
       "      <td>Definição</td>\n",
       "      <td>NaN</td>\n",
       "      <td>NaN</td>\n",
       "    </tr>\n",
       "    <tr>\n",
       "      <th>4</th>\n",
       "      <td>20</td>\n",
       "      <td>ieeex</td>\n",
       "      <td>Applying Scrum in Data Science Projects</td>\n",
       "      <td>The rise of big data has led to an increase in...</td>\n",
       "      <td>Data Science;Agile;Scrum</td>\n",
       "      <td>J. Baijens; R. Helms; D. Iren</td>\n",
       "      <td>Department of Information Science, Open Univer...</td>\n",
       "      <td>2020.0</td>\n",
       "      <td>2020 IEEE 22nd Conference on Business Informat...</td>\n",
       "      <td>IEEE</td>\n",
       "      <td>...</td>\n",
       "      <td>2020</td>\n",
       "      <td>2020-06-24</td>\n",
       "      <td>Avaliação</td>\n",
       "      <td>Interview</td>\n",
       "      <td>Industria</td>\n",
       "      <td>Adaptada</td>\n",
       "      <td>CicloDesenvolvimento;Geral</td>\n",
       "      <td>Incerteza;Definição</td>\n",
       "      <td>Agilidade;Definição</td>\n",
       "      <td>Clareza;Coordenação;Priorização</td>\n",
       "    </tr>\n",
       "    <tr>\n",
       "      <th>5</th>\n",
       "      <td>21</td>\n",
       "      <td>ieeex</td>\n",
       "      <td>Managing and Composing Teams in Data Science: ...</td>\n",
       "      <td>Data science projects have become commonplace ...</td>\n",
       "      <td>Data science;agile practices;teamwork;project ...</td>\n",
       "      <td>T. Aho; T. Kilamo; L. Lwakatare; T. Mikkonen; ...</td>\n",
       "      <td>TietoEvry, Tampere, Finland; Computing Science...</td>\n",
       "      <td>2021.0</td>\n",
       "      <td>2021 IEEE International Conference on Big Data...</td>\n",
       "      <td>IEEE</td>\n",
       "      <td>...</td>\n",
       "      <td>2021</td>\n",
       "      <td>2021-12-18</td>\n",
       "      <td>Avaliação</td>\n",
       "      <td>Survey</td>\n",
       "      <td>Organizações</td>\n",
       "      <td>Geral</td>\n",
       "      <td>BigData</td>\n",
       "      <td>Incerteza</td>\n",
       "      <td>NaN</td>\n",
       "      <td>NaN</td>\n",
       "    </tr>\n",
       "    <tr>\n",
       "      <th>6</th>\n",
       "      <td>22</td>\n",
       "      <td>ieeex</td>\n",
       "      <td>Using Agile Frameworks in Big Data projects</td>\n",
       "      <td>Considering the main problems of Big Data proj...</td>\n",
       "      <td>Agile;project management;Big Data;statistics;q...</td>\n",
       "      <td>K. Kolesnikova; O. Mezentseva; O. Kolesnikov; ...</td>\n",
       "      <td>Taras Shevchenko National University of Kyiv, ...</td>\n",
       "      <td>2021.0</td>\n",
       "      <td>2021 IEEE 16th International Conference on Com...</td>\n",
       "      <td>IEEE</td>\n",
       "      <td>...</td>\n",
       "      <td>2021</td>\n",
       "      <td>2021-09-25</td>\n",
       "      <td>Avaliação</td>\n",
       "      <td>Survey</td>\n",
       "      <td>Industria</td>\n",
       "      <td>Geral</td>\n",
       "      <td>BigData</td>\n",
       "      <td>Escolha;Suporte;Experiência</td>\n",
       "      <td>Agilidade;Integração</td>\n",
       "      <td>Eficiência</td>\n",
       "    </tr>\n",
       "    <tr>\n",
       "      <th>7</th>\n",
       "      <td>24</td>\n",
       "      <td>ieeex</td>\n",
       "      <td>Story and Task Issue Analysis for Agile Machin...</td>\n",
       "      <td>The usage of Agile methodology in planning and...</td>\n",
       "      <td>scrum;machine learning project;software engine...</td>\n",
       "      <td>K. Singla; T. M. Vinayak; A. S. Arpitha; C. Na...</td>\n",
       "      <td>Samsung R&amp;D Institute, Bangalore, India; Samsu...</td>\n",
       "      <td>2020.0</td>\n",
       "      <td>2020 IEEE-HYDCON</td>\n",
       "      <td>IEEE</td>\n",
       "      <td>...</td>\n",
       "      <td>2020</td>\n",
       "      <td>2020-09-11</td>\n",
       "      <td>Avaliação</td>\n",
       "      <td>FieldStudy</td>\n",
       "      <td>Industria</td>\n",
       "      <td>Scrum</td>\n",
       "      <td>ML</td>\n",
       "      <td>Especificidades</td>\n",
       "      <td>Agilidade</td>\n",
       "      <td>NaN</td>\n",
       "    </tr>\n",
       "    <tr>\n",
       "      <th>8</th>\n",
       "      <td>28</td>\n",
       "      <td>ieeex</td>\n",
       "      <td>CRISP-DM for Data Science: Strengths, Weakness...</td>\n",
       "      <td>This paper explores the strengths and weakness...</td>\n",
       "      <td>NaN</td>\n",
       "      <td>J. S. Saltz</td>\n",
       "      <td>Syracuse University</td>\n",
       "      <td>2021.0</td>\n",
       "      <td>2021 IEEE International Conference on Big Data...</td>\n",
       "      <td>IEEE</td>\n",
       "      <td>...</td>\n",
       "      <td>2021</td>\n",
       "      <td>2021-12-18</td>\n",
       "      <td>Solução</td>\n",
       "      <td>Proposta</td>\n",
       "      <td>Geral</td>\n",
       "      <td>Adaptada</td>\n",
       "      <td>CicloDesenvolvimento;Geral</td>\n",
       "      <td>Time;Integração;Definição</td>\n",
       "      <td>Definição;Integração</td>\n",
       "      <td>NaN</td>\n",
       "    </tr>\n",
       "    <tr>\n",
       "      <th>9</th>\n",
       "      <td>29</td>\n",
       "      <td>ieeex</td>\n",
       "      <td>Identifying and Addressing 6 Key Questions whe...</td>\n",
       "      <td>Data Driven Scrum (DDS) enables lean data scie...</td>\n",
       "      <td>NaN</td>\n",
       "      <td>J. S. Saltz; A. Sutherland; T. Jombart</td>\n",
       "      <td>Syracuse University; Scrum Inc; London School ...</td>\n",
       "      <td>2021.0</td>\n",
       "      <td>2021 IEEE International Conference on Big Data...</td>\n",
       "      <td>IEEE</td>\n",
       "      <td>...</td>\n",
       "      <td>2021</td>\n",
       "      <td>2021-12-18</td>\n",
       "      <td>Avaliação</td>\n",
       "      <td>Survey</td>\n",
       "      <td>Industria</td>\n",
       "      <td>Adaptada</td>\n",
       "      <td>Geral</td>\n",
       "      <td>Integração;Definição;Incerteza</td>\n",
       "      <td>Definição</td>\n",
       "      <td>NaN</td>\n",
       "    </tr>\n",
       "    <tr>\n",
       "      <th>10</th>\n",
       "      <td>30</td>\n",
       "      <td>ieeex</td>\n",
       "      <td>Analysis of Software Engineering for Agile Mac...</td>\n",
       "      <td>The number of machine learning, artificial int...</td>\n",
       "      <td>scrum;machine learning project;software engine...</td>\n",
       "      <td>K. Singla; J. Bose; C. Naik</td>\n",
       "      <td>Samsung R&amp;D Institute, Bangalore, India; Samsu...</td>\n",
       "      <td>2018.0</td>\n",
       "      <td>2018 15th IEEE India Council International Con...</td>\n",
       "      <td>IEEE</td>\n",
       "      <td>...</td>\n",
       "      <td>2018</td>\n",
       "      <td>2018-12-18</td>\n",
       "      <td>Avaliação</td>\n",
       "      <td>FieldStudy</td>\n",
       "      <td>Industria</td>\n",
       "      <td>Scrum</td>\n",
       "      <td>ML</td>\n",
       "      <td>Incerteza;Especificidades</td>\n",
       "      <td>NaN</td>\n",
       "      <td>NaN</td>\n",
       "    </tr>\n",
       "    <tr>\n",
       "      <th>11</th>\n",
       "      <td>77</td>\n",
       "      <td>ieeex</td>\n",
       "      <td>MAP: Design, Development, Deployment, and Main...</td>\n",
       "      <td>This paper presents a proven process and metho...</td>\n",
       "      <td>Artificial Intelligence;Machine Learning;DevOp...</td>\n",
       "      <td>A. Dagnino; M. Kolomycki; A. Kucheria</td>\n",
       "      <td>GBS IS Innovation and Emerging Services ABB In...</td>\n",
       "      <td>2022.0</td>\n",
       "      <td>2022 IEEE Eighth International Conference on B...</td>\n",
       "      <td>IEEE</td>\n",
       "      <td>...</td>\n",
       "      <td>2022</td>\n",
       "      <td>2022-08-18</td>\n",
       "      <td>Solução</td>\n",
       "      <td>Proposta</td>\n",
       "      <td>Industria</td>\n",
       "      <td>Adaptada</td>\n",
       "      <td>ML</td>\n",
       "      <td>Definição</td>\n",
       "      <td>Agilidade;Definição</td>\n",
       "      <td>NaN</td>\n",
       "    </tr>\n",
       "    <tr>\n",
       "      <th>12</th>\n",
       "      <td>199</td>\n",
       "      <td>scopus</td>\n",
       "      <td>Evaluating Data Science Project Agility by Exp...</td>\n",
       "      <td>The lack of effective team process is often no...</td>\n",
       "      <td>Agile; Data Science; Team Process</td>\n",
       "      <td>Lahiri S., Saltz J.</td>\n",
       "      <td>Syracuse University, United States</td>\n",
       "      <td>2023.0</td>\n",
       "      <td>Proceedings of the Annual Hawaii International...</td>\n",
       "      <td>IEEE Computer Society</td>\n",
       "      <td>...</td>\n",
       "      <td>2023</td>\n",
       "      <td>2023-01-06</td>\n",
       "      <td>Avaliação</td>\n",
       "      <td>Interview</td>\n",
       "      <td>Organizações</td>\n",
       "      <td>Adaptada</td>\n",
       "      <td>Geral</td>\n",
       "      <td>Definição;Incerteza;Especificidades;Integração...</td>\n",
       "      <td>Definição;Integração</td>\n",
       "      <td>NaN</td>\n",
       "    </tr>\n",
       "    <tr>\n",
       "      <th>13</th>\n",
       "      <td>216</td>\n",
       "      <td>scopus</td>\n",
       "      <td>Using a coach to improve team performance when...</td>\n",
       "      <td>Teams are increasing their use of the Kanban p...</td>\n",
       "      <td>Agile; Kanban; Kanban process methodology; Pro...</td>\n",
       "      <td>Shamshurin I., Saltz J.S.</td>\n",
       "      <td>Syracuse University, 343 Hinds Hall, Syracuse,...</td>\n",
       "      <td>2019.0</td>\n",
       "      <td>International Journal of Information Systems a...</td>\n",
       "      <td>SciKA</td>\n",
       "      <td>...</td>\n",
       "      <td>2019</td>\n",
       "      <td>2019-06-13</td>\n",
       "      <td>Validação</td>\n",
       "      <td>Experimento</td>\n",
       "      <td>Academia</td>\n",
       "      <td>Kanban</td>\n",
       "      <td>Geral</td>\n",
       "      <td>Experiência</td>\n",
       "      <td>Agilidade;Integração</td>\n",
       "      <td>Clareza;Eficiência;Coordenação;Divisão</td>\n",
       "    </tr>\n",
       "    <tr>\n",
       "      <th>14</th>\n",
       "      <td>219</td>\n",
       "      <td>scopus</td>\n",
       "      <td>Exploring the challenges of integrating data s...</td>\n",
       "      <td>The notion of autonomous teams is core to agil...</td>\n",
       "      <td>Agile; Autonomy; Data science; Software develo...</td>\n",
       "      <td>Hukkelberg I., Berntzen M.</td>\n",
       "      <td>Department of Informatics, University of Oslo,...</td>\n",
       "      <td>2019.0</td>\n",
       "      <td>Lecture Notes in Business Information Processing</td>\n",
       "      <td>Springer Verlag</td>\n",
       "      <td>...</td>\n",
       "      <td>2019</td>\n",
       "      <td>2019-05-25</td>\n",
       "      <td>Avaliação</td>\n",
       "      <td>Interview</td>\n",
       "      <td>Organizações</td>\n",
       "      <td>Geral</td>\n",
       "      <td>Geral</td>\n",
       "      <td>Incerteza;Time</td>\n",
       "      <td>NaN</td>\n",
       "      <td>NaN</td>\n",
       "    </tr>\n",
       "    <tr>\n",
       "      <th>15</th>\n",
       "      <td>242</td>\n",
       "      <td>scopus</td>\n",
       "      <td>Development of human faces retrieval in a big ...</td>\n",
       "      <td>In this paper we present a case study of the u...</td>\n",
       "      <td>Agile methodology; Big data; Face detection; F...</td>\n",
       "      <td>Pivetta T.A., Forster C.H.Q., Dias L.A.V., Gue...</td>\n",
       "      <td>Instituto Tecnologico de Aeronautica, ITA, Sao...</td>\n",
       "      <td>2018.0</td>\n",
       "      <td>Advances in Intelligent Systems and Computing</td>\n",
       "      <td>Springer Verlag</td>\n",
       "      <td>...</td>\n",
       "      <td>2018</td>\n",
       "      <td>2018-03-01</td>\n",
       "      <td>Experiência</td>\n",
       "      <td>StudyCase</td>\n",
       "      <td>Industria</td>\n",
       "      <td>Scrum</td>\n",
       "      <td>Outros</td>\n",
       "      <td>Incerteza;Integração</td>\n",
       "      <td>Integração</td>\n",
       "      <td>Clareza;Coordenação;Eficiência;Papeis</td>\n",
       "    </tr>\n",
       "    <tr>\n",
       "      <th>16</th>\n",
       "      <td>276</td>\n",
       "      <td>scopus</td>\n",
       "      <td>Agile clinical research: A data science approa...</td>\n",
       "      <td>The COVID-19 pandemic has required greater min...</td>\n",
       "      <td>Agile; Amazon Web Services; Cloud Computing; M...</td>\n",
       "      <td>Lei H., O'Connell R., Ehwerhemuepha L., Tarama...</td>\n",
       "      <td>CHOC Children's Hospital, Orange, CA, United S...</td>\n",
       "      <td>2020.0</td>\n",
       "      <td>Intelligence-Based Medicine</td>\n",
       "      <td>Elsevier B.V.</td>\n",
       "      <td>...</td>\n",
       "      <td>2020</td>\n",
       "      <td>2020-12-01</td>\n",
       "      <td>Solução</td>\n",
       "      <td>Proposta</td>\n",
       "      <td>Industria</td>\n",
       "      <td>Adaptada</td>\n",
       "      <td>Geral</td>\n",
       "      <td>Integração</td>\n",
       "      <td>Integração</td>\n",
       "      <td>NaN</td>\n",
       "    </tr>\n",
       "    <tr>\n",
       "      <th>17</th>\n",
       "      <td>305</td>\n",
       "      <td>scopus</td>\n",
       "      <td>What Are the Critical Success Factors for Agil...</td>\n",
       "      <td>To get value from BI (Business Intelligence) a...</td>\n",
       "      <td>agile project management; agile projects; Anal...</td>\n",
       "      <td>Tsoy M., Staples D.S.</td>\n",
       "      <td>Smith School of Business, Queen’s University, ...</td>\n",
       "      <td>2021.0</td>\n",
       "      <td>Information Systems Management</td>\n",
       "      <td>Taylor and Francis Ltd.</td>\n",
       "      <td>...</td>\n",
       "      <td>2021</td>\n",
       "      <td>2021-09-28</td>\n",
       "      <td>Avaliação</td>\n",
       "      <td>StudyCase</td>\n",
       "      <td>Industria</td>\n",
       "      <td>Geral</td>\n",
       "      <td>Geral</td>\n",
       "      <td>Incerteza;Integração</td>\n",
       "      <td>Definição;Integração</td>\n",
       "      <td>Clareza;Coordenação</td>\n",
       "    </tr>\n",
       "    <tr>\n",
       "      <th>18</th>\n",
       "      <td>577</td>\n",
       "      <td>wos</td>\n",
       "      <td>Agile supply chain analytic approach: a case s...</td>\n",
       "      <td>In the current competitive environment, Big Da...</td>\n",
       "      <td>Supply chain management; Big Data Analytics; a...</td>\n",
       "      <td>Hamdani, FE; Quintero, IAQ; Enjolras, M; Camar...</td>\n",
       "      <td>Universite de Lorraine</td>\n",
       "      <td>NaN</td>\n",
       "      <td>SUPPLY CHAIN FORUM</td>\n",
       "      <td>TAYLOR &amp; FRANCIS LTD</td>\n",
       "      <td>...</td>\n",
       "      <td>2022</td>\n",
       "      <td>2022-04-14</td>\n",
       "      <td>Avaliação</td>\n",
       "      <td>StudyCase</td>\n",
       "      <td>Industria</td>\n",
       "      <td>Adaptada</td>\n",
       "      <td>CicloDesenvolvimento;BI&amp;A</td>\n",
       "      <td>Definição</td>\n",
       "      <td>Agilidade</td>\n",
       "      <td>NaN</td>\n",
       "    </tr>\n",
       "  </tbody>\n",
       "</table>\n",
       "<p>19 rows × 43 columns</p>\n",
       "</div>"
      ],
      "text/plain": [
       "    entry database                                              title   \n",
       "0       6      acm  A Scalable Methodology to Guide Student Teams ...  \\\n",
       "1      14    ieeex  Achieving Agile Big Data Science: The Evolutio...   \n",
       "2      15    ieeex           SKI: An Agile Framework for Data Science   \n",
       "3      18    ieeex  Identifying the most Common Frameworks Data Sc...   \n",
       "4      20    ieeex            Applying Scrum in Data Science Projects   \n",
       "5      21    ieeex  Managing and Composing Teams in Data Science: ...   \n",
       "6      22    ieeex        Using Agile Frameworks in Big Data projects   \n",
       "7      24    ieeex  Story and Task Issue Analysis for Agile Machin...   \n",
       "8      28    ieeex  CRISP-DM for Data Science: Strengths, Weakness...   \n",
       "9      29    ieeex  Identifying and Addressing 6 Key Questions whe...   \n",
       "10     30    ieeex  Analysis of Software Engineering for Agile Mac...   \n",
       "11     77    ieeex  MAP: Design, Development, Deployment, and Main...   \n",
       "12    199   scopus  Evaluating Data Science Project Agility by Exp...   \n",
       "13    216   scopus  Using a coach to improve team performance when...   \n",
       "14    219   scopus  Exploring the challenges of integrating data s...   \n",
       "15    242   scopus  Development of human faces retrieval in a big ...   \n",
       "16    276   scopus  Agile clinical research: A data science approa...   \n",
       "17    305   scopus  What Are the Critical Success Factors for Agil...   \n",
       "18    577      wos  Agile supply chain analytic approach: a case s...   \n",
       "\n",
       "                                             abstract   \n",
       "0   This article reports on a sequential mixed-met...  \\\n",
       "1   While there has been a rapid increase in the u...   \n",
       "2   This paper explores data science project manag...   \n",
       "3   This paper presents the results of a study foc...   \n",
       "4   The rise of big data has led to an increase in...   \n",
       "5   Data science projects have become commonplace ...   \n",
       "6   Considering the main problems of Big Data proj...   \n",
       "7   The usage of Agile methodology in planning and...   \n",
       "8   This paper explores the strengths and weakness...   \n",
       "9   Data Driven Scrum (DDS) enables lean data scie...   \n",
       "10  The number of machine learning, artificial int...   \n",
       "11  This paper presents a proven process and metho...   \n",
       "12  The lack of effective team process is often no...   \n",
       "13  Teams are increasing their use of the Kanban p...   \n",
       "14  The notion of autonomous teams is core to agil...   \n",
       "15  In this paper we present a case study of the u...   \n",
       "16  The COVID-19 pandemic has required greater min...   \n",
       "17  To get value from BI (Business Intelligence) a...   \n",
       "18  In the current competitive environment, Big Da...   \n",
       "\n",
       "                                      author_keywords   \n",
       "0   project methodologies, Project-based learning,...  \\\n",
       "1          Big Data Science;Agile;Process Methodology   \n",
       "2     Data Science;Big Data;Agile;Process Methodology   \n",
       "3           Data Science;Big Data;Process Methodology   \n",
       "4                            Data Science;Agile;Scrum   \n",
       "5   Data science;agile practices;teamwork;project ...   \n",
       "6   Agile;project management;Big Data;statistics;q...   \n",
       "7   scrum;machine learning project;software engine...   \n",
       "8                                                 NaN   \n",
       "9                                                 NaN   \n",
       "10  scrum;machine learning project;software engine...   \n",
       "11  Artificial Intelligence;Machine Learning;DevOp...   \n",
       "12                  Agile; Data Science; Team Process   \n",
       "13  Agile; Kanban; Kanban process methodology; Pro...   \n",
       "14  Agile; Autonomy; Data science; Software develo...   \n",
       "15  Agile methodology; Big data; Face detection; F...   \n",
       "16  Agile; Amazon Web Services; Cloud Computing; M...   \n",
       "17  agile project management; agile projects; Anal...   \n",
       "18  Supply chain management; Big Data Analytics; a...   \n",
       "\n",
       "                                              authors   \n",
       "0                                 Saltz JS,Heckman RR  \\\n",
       "1                          J. S. Saltz; I. Shamshurin   \n",
       "2                              J. Saltz; A. Suthrland   \n",
       "3                                J. S. Saltz; N. Hotz   \n",
       "4                       J. Baijens; R. Helms; D. Iren   \n",
       "5   T. Aho; T. Kilamo; L. Lwakatare; T. Mikkonen; ...   \n",
       "6   K. Kolesnikova; O. Mezentseva; O. Kolesnikov; ...   \n",
       "7   K. Singla; T. M. Vinayak; A. S. Arpitha; C. Na...   \n",
       "8                                         J. S. Saltz   \n",
       "9              J. S. Saltz; A. Sutherland; T. Jombart   \n",
       "10                        K. Singla; J. Bose; C. Naik   \n",
       "11              A. Dagnino; M. Kolomycki; A. Kucheria   \n",
       "12                                Lahiri S., Saltz J.   \n",
       "13                          Shamshurin I., Saltz J.S.   \n",
       "14                         Hukkelberg I., Berntzen M.   \n",
       "15  Pivetta T.A., Forster C.H.Q., Dias L.A.V., Gue...   \n",
       "16  Lei H., O'Connell R., Ehwerhemuepha L., Tarama...   \n",
       "17                              Tsoy M., Staples D.S.   \n",
       "18  Hamdani, FE; Quintero, IAQ; Enjolras, M; Camar...   \n",
       "\n",
       "                                 authors_affiliations  publication_year   \n",
       "0                                                 NaN            2018.0  \\\n",
       "1   School of Information Studies Syracuse Univers...            2019.0   \n",
       "2                     Syracuse University; Scrum Inc.            2019.0   \n",
       "3             Syracuse University; Indiana University            2020.0   \n",
       "4   Department of Information Science, Open Univer...            2020.0   \n",
       "5   TietoEvry, Tampere, Finland; Computing Science...            2021.0   \n",
       "6   Taras Shevchenko National University of Kyiv, ...            2021.0   \n",
       "7   Samsung R&D Institute, Bangalore, India; Samsu...            2020.0   \n",
       "8                                 Syracuse University            2021.0   \n",
       "9   Syracuse University; Scrum Inc; London School ...            2021.0   \n",
       "10  Samsung R&D Institute, Bangalore, India; Samsu...            2018.0   \n",
       "11  GBS IS Innovation and Emerging Services ABB In...            2022.0   \n",
       "12                 Syracuse University, United States            2023.0   \n",
       "13  Syracuse University, 343 Hinds Hall, Syracuse,...            2019.0   \n",
       "14  Department of Informatics, University of Oslo,...            2019.0   \n",
       "15  Instituto Tecnologico de Aeronautica, ITA, Sao...            2018.0   \n",
       "16  CHOC Children's Hospital, Orange, CA, United S...            2020.0   \n",
       "17  Smith School of Business, Queen’s University, ...            2021.0   \n",
       "18                             Universite de Lorraine               NaN   \n",
       "\n",
       "                                         source_title   \n",
       "0                            ACM Trans. Comput. Educ.  \\\n",
       "1   2019 IEEE International Conference on Big Data...   \n",
       "2   2019 IEEE International Conference on Big Data...   \n",
       "3   2020 IEEE International Conference on Big Data...   \n",
       "4   2020 IEEE 22nd Conference on Business Informat...   \n",
       "5   2021 IEEE International Conference on Big Data...   \n",
       "6   2021 IEEE 16th International Conference on Com...   \n",
       "7                                    2020 IEEE-HYDCON   \n",
       "8   2021 IEEE International Conference on Big Data...   \n",
       "9   2021 IEEE International Conference on Big Data...   \n",
       "10  2018 15th IEEE India Council International Con...   \n",
       "11  2022 IEEE Eighth International Conference on B...   \n",
       "12  Proceedings of the Annual Hawaii International...   \n",
       "13  International Journal of Information Systems a...   \n",
       "14   Lecture Notes in Business Information Processing   \n",
       "15      Advances in Intelligent Systems and Computing   \n",
       "16                        Intelligence-Based Medicine   \n",
       "17                     Information Systems Management   \n",
       "18                                 SUPPLY CHAIN FORUM   \n",
       "\n",
       "                              publisher  ... RQ1_PubYear RQ1_EstimatedPubDate   \n",
       "0   Association for Computing Machinery  ...        2018           2018-07-11  \\\n",
       "1                                  IEEE  ...        2019           2019-12-12   \n",
       "2                                  IEEE  ...        2019           2019-12-12   \n",
       "3                                  IEEE  ...        2020           2020-12-13   \n",
       "4                                  IEEE  ...        2020           2020-06-24   \n",
       "5                                  IEEE  ...        2021           2021-12-18   \n",
       "6                                  IEEE  ...        2021           2021-09-25   \n",
       "7                                  IEEE  ...        2020           2020-09-11   \n",
       "8                                  IEEE  ...        2021           2021-12-18   \n",
       "9                                  IEEE  ...        2021           2021-12-18   \n",
       "10                                 IEEE  ...        2018           2018-12-18   \n",
       "11                                 IEEE  ...        2022           2022-08-18   \n",
       "12                IEEE Computer Society  ...        2023           2023-01-06   \n",
       "13                                SciKA  ...        2019           2019-06-13   \n",
       "14                      Springer Verlag  ...        2019           2019-05-25   \n",
       "15                      Springer Verlag  ...        2018           2018-03-01   \n",
       "16                        Elsevier B.V.  ...        2020           2020-12-01   \n",
       "17              Taylor and Francis Ltd.  ...        2021           2021-09-28   \n",
       "18                 TAYLOR & FRANCIS LTD  ...        2022           2022-04-14   \n",
       "\n",
       "   RQ2_ResearchType  RQ3_ResearchMethod RQ4_OrganizationType  RQ5_SubtopicsAM   \n",
       "0         Validação        MixedMethods             Academia           Kanban  \\\n",
       "1         Avaliação          Etnografia            Industria           Kanban   \n",
       "2         Validação           StudyCase             Academia         Adaptada   \n",
       "3         Avaliação              Survey            Industria            Geral   \n",
       "4         Avaliação           Interview            Industria         Adaptada   \n",
       "5         Avaliação              Survey         Organizações            Geral   \n",
       "6         Avaliação              Survey            Industria            Geral   \n",
       "7         Avaliação          FieldStudy            Industria            Scrum   \n",
       "8           Solução            Proposta                Geral         Adaptada   \n",
       "9         Avaliação              Survey            Industria         Adaptada   \n",
       "10        Avaliação          FieldStudy            Industria            Scrum   \n",
       "11          Solução            Proposta            Industria         Adaptada   \n",
       "12        Avaliação           Interview         Organizações         Adaptada   \n",
       "13        Validação         Experimento             Academia           Kanban   \n",
       "14        Avaliação           Interview         Organizações            Geral   \n",
       "15      Experiência           StudyCase            Industria            Scrum   \n",
       "16          Solução            Proposta            Industria         Adaptada   \n",
       "17        Avaliação           StudyCase            Industria            Geral   \n",
       "18        Avaliação           StudyCase            Industria         Adaptada   \n",
       "\n",
       "               RQ6_SubtopicsDS   \n",
       "0   CicloDesenvolvimento;Geral  \\\n",
       "1                      BigData   \n",
       "2   CicloDesenvolvimento;Geral   \n",
       "3   CicloDesenvolvimento;Geral   \n",
       "4   CicloDesenvolvimento;Geral   \n",
       "5                      BigData   \n",
       "6                      BigData   \n",
       "7                           ML   \n",
       "8   CicloDesenvolvimento;Geral   \n",
       "9                        Geral   \n",
       "10                          ML   \n",
       "11                          ML   \n",
       "12                       Geral   \n",
       "13                       Geral   \n",
       "14                       Geral   \n",
       "15                      Outros   \n",
       "16                       Geral   \n",
       "17                       Geral   \n",
       "18   CicloDesenvolvimento;BI&A   \n",
       "\n",
       "                                 RQ7_ProblemsReported       RQ8_ObjectiveAM   \n",
       "0                 Time;Integração;Definição;Incerteza             Definição  \\\n",
       "1                           Time;Integração;Incerteza  Agilidade;Integração   \n",
       "2                       Incerteza;Suporte;Experiência             Definição   \n",
       "3                                           Definição                   NaN   \n",
       "4                                 Incerteza;Definição   Agilidade;Definição   \n",
       "5                                           Incerteza                   NaN   \n",
       "6                         Escolha;Suporte;Experiência  Agilidade;Integração   \n",
       "7                                     Especificidades             Agilidade   \n",
       "8                           Time;Integração;Definição  Definição;Integração   \n",
       "9                      Integração;Definição;Incerteza             Definição   \n",
       "10                          Incerteza;Especificidades                   NaN   \n",
       "11                                          Definição   Agilidade;Definição   \n",
       "12  Definição;Incerteza;Especificidades;Integração...  Definição;Integração   \n",
       "13                                        Experiência  Agilidade;Integração   \n",
       "14                                     Incerteza;Time                   NaN   \n",
       "15                               Incerteza;Integração            Integração   \n",
       "16                                         Integração            Integração   \n",
       "17                               Incerteza;Integração  Definição;Integração   \n",
       "18                                          Definição             Agilidade   \n",
       "\n",
       "                  RQ9_ContributionsResults  \n",
       "0                      Coordenação;Clareza  \n",
       "1   Coordenação;Priorização;Eficiência;WIP  \n",
       "2              Clareza;Divisão;Coordenação  \n",
       "3                                      NaN  \n",
       "4          Clareza;Coordenação;Priorização  \n",
       "5                                      NaN  \n",
       "6                               Eficiência  \n",
       "7                                      NaN  \n",
       "8                                      NaN  \n",
       "9                                      NaN  \n",
       "10                                     NaN  \n",
       "11                                     NaN  \n",
       "12                                     NaN  \n",
       "13  Clareza;Eficiência;Coordenação;Divisão  \n",
       "14                                     NaN  \n",
       "15   Clareza;Coordenação;Eficiência;Papeis  \n",
       "16                                     NaN  \n",
       "17                     Clareza;Coordenação  \n",
       "18                                     NaN  \n",
       "\n",
       "[19 rows x 43 columns]"
      ]
     },
     "execution_count": 4,
     "metadata": {},
     "output_type": "execute_result"
    }
   ],
   "source": [
    "df = pd.read_excel(\"../data/06_model_output/output_keywording.xlsx\")\n",
    "df"
   ]
  },
  {
   "cell_type": "code",
   "execution_count": 5,
   "id": "14762aad-5703-4140-a6fd-805fcac5eaf7",
   "metadata": {},
   "outputs": [
    {
     "data": {
      "text/plain": [
       "Index(['entry', 'database', 'title', 'abstract', 'author_keywords', 'authors',\n",
       "       'authors_affiliations', 'publication_year', 'source_title', 'publisher',\n",
       "       'doi', 'query_date', 'processing_date', 'duplicated_exclusion_flag',\n",
       "       'duplicated_validation_date', 'metadata_exclusion_flag',\n",
       "       'metadata_exclusion_criteria', 'metadata_validation_date',\n",
       "       'fulltext_exclusion_flag', 'fulltext_exclusion_criteria',\n",
       "       'fulltext_validation_date', 'exclusion_step', 'exclusion_criteria',\n",
       "       'exclusion_date', 'RQ0_Authors', 'RQ0_Countries', 'RQ0_ScopusCitations',\n",
       "       'RQ0_FWCI', 'RQ0_Keywords', 'RQ1_PubSourceType',\n",
       "       'RQ1_MacroPubSourceType', 'RQ1_PubSourceName', 'RQ1_ShortPubSourceName',\n",
       "       'RQ1_PubYear', 'RQ1_EstimatedPubDate', 'RQ2_ResearchType',\n",
       "       'RQ3_ResearchMethod', 'RQ4_OrganizationType', 'RQ5_SubtopicsAM',\n",
       "       'RQ6_SubtopicsDS', 'RQ7_ProblemsReported', 'RQ8_ObjectiveAM',\n",
       "       'RQ9_ContributionsResults'],\n",
       "      dtype='object')"
      ]
     },
     "execution_count": 5,
     "metadata": {},
     "output_type": "execute_result"
    }
   ],
   "source": [
    "df.columns"
   ]
  },
  {
   "cell_type": "markdown",
   "id": "1e363ba9-1906-41fd-8b8a-ecd319b5049f",
   "metadata": {},
   "source": [
    "# RQ7-RQ8-RQ9"
   ]
  },
  {
   "cell_type": "code",
   "execution_count": 9,
   "id": "5f0c1e3e-97d2-426d-81aa-45758a868a5b",
   "metadata": {},
   "outputs": [
    {
     "data": {
      "application/vnd.plotly.v1+json": {
       "config": {
        "plotlyServerURL": "https://plot.ly"
       },
       "data": [
        {
         "name": "Problemas",
         "orientation": "h",
         "showlegend": false,
         "text": [
          1,
          3,
          3,
          4,
          4,
          8,
          8,
          11
         ],
         "textposition": "auto",
         "type": "bar",
         "x": [
          1,
          3,
          3,
          4,
          4,
          8,
          8,
          11
         ],
         "xaxis": "x",
         "y": [
          "Escolha",
          "Especificidades",
          "Suporte",
          "Experiência",
          "Time",
          "Definição",
          "Integração",
          "Incerteza"
         ],
         "yaxis": "y"
        },
        {
         "marker": {
          "color": [
           "#00CC96",
           "#EF553B",
           "#EF553B",
           "#EF553B"
          ]
         },
         "name": "Objetivos",
         "orientation": "h",
         "showlegend": false,
         "text": [
          4,
          7,
          8,
          8
         ],
         "textposition": "auto",
         "type": "bar",
         "x": [
          4,
          7,
          8,
          8
         ],
         "xaxis": "x2",
         "y": [
          "Sem objetivo<br>citado",
          "Agilidade",
          "Definição",
          "Integração"
         ],
         "yaxis": "y2"
        },
        {
         "marker": {
          "color": [
           "#AB63FA",
           "#AB63FA",
           "#AB63FA",
           "#AB63FA",
           "#AB63FA",
           "#AB63FA",
           "#AB63FA",
           "#FFA15A"
          ]
         },
         "name": "Contribuições",
         "orientation": "h",
         "showlegend": false,
         "text": [
          1,
          1,
          2,
          2,
          4,
          6,
          7,
          11
         ],
         "textposition": "auto",
         "type": "bar",
         "x": [
          1,
          1,
          2,
          2,
          4,
          6,
          7,
          11
         ],
         "xaxis": "x3",
         "y": [
          "Papeis",
          "Wip",
          "Divisão",
          "Priorização",
          "Eficiência",
          "Clareza",
          "Coordenação",
          "Sem contribuições<br>citadas"
         ],
         "yaxis": "y3"
        }
       ],
       "layout": {
        "annotations": [
         {
          "font": {
           "size": 16
          },
          "showarrow": false,
          "text": "Problemas",
          "x": 0.09999999999999999,
          "xanchor": "center",
          "xref": "paper",
          "y": 1,
          "yanchor": "bottom",
          "yref": "paper"
         },
         {
          "font": {
           "size": 16
          },
          "showarrow": false,
          "text": "Objetivos",
          "x": 0.5,
          "xanchor": "center",
          "xref": "paper",
          "y": 1,
          "yanchor": "bottom",
          "yref": "paper"
         },
         {
          "font": {
           "size": 16
          },
          "showarrow": false,
          "text": "Contribuições",
          "x": 0.9,
          "xanchor": "center",
          "xref": "paper",
          "y": 1,
          "yanchor": "bottom",
          "yref": "paper"
         }
        ],
        "font": {
         "color": "black",
         "family": "Arial",
         "size": 16
        },
        "height": 500,
        "template": {
         "data": {
          "bar": [
           {
            "error_x": {
             "color": "#2a3f5f"
            },
            "error_y": {
             "color": "#2a3f5f"
            },
            "marker": {
             "line": {
              "color": "white",
              "width": 0.5
             },
             "pattern": {
              "fillmode": "overlay",
              "size": 10,
              "solidity": 0.2
             }
            },
            "type": "bar"
           }
          ],
          "barpolar": [
           {
            "marker": {
             "line": {
              "color": "white",
              "width": 0.5
             },
             "pattern": {
              "fillmode": "overlay",
              "size": 10,
              "solidity": 0.2
             }
            },
            "type": "barpolar"
           }
          ],
          "carpet": [
           {
            "aaxis": {
             "endlinecolor": "#2a3f5f",
             "gridcolor": "#C8D4E3",
             "linecolor": "#C8D4E3",
             "minorgridcolor": "#C8D4E3",
             "startlinecolor": "#2a3f5f"
            },
            "baxis": {
             "endlinecolor": "#2a3f5f",
             "gridcolor": "#C8D4E3",
             "linecolor": "#C8D4E3",
             "minorgridcolor": "#C8D4E3",
             "startlinecolor": "#2a3f5f"
            },
            "type": "carpet"
           }
          ],
          "choropleth": [
           {
            "colorbar": {
             "outlinewidth": 0,
             "ticks": ""
            },
            "type": "choropleth"
           }
          ],
          "contour": [
           {
            "colorbar": {
             "outlinewidth": 0,
             "ticks": ""
            },
            "colorscale": [
             [
              0,
              "#0d0887"
             ],
             [
              0.1111111111111111,
              "#46039f"
             ],
             [
              0.2222222222222222,
              "#7201a8"
             ],
             [
              0.3333333333333333,
              "#9c179e"
             ],
             [
              0.4444444444444444,
              "#bd3786"
             ],
             [
              0.5555555555555556,
              "#d8576b"
             ],
             [
              0.6666666666666666,
              "#ed7953"
             ],
             [
              0.7777777777777778,
              "#fb9f3a"
             ],
             [
              0.8888888888888888,
              "#fdca26"
             ],
             [
              1,
              "#f0f921"
             ]
            ],
            "type": "contour"
           }
          ],
          "contourcarpet": [
           {
            "colorbar": {
             "outlinewidth": 0,
             "ticks": ""
            },
            "type": "contourcarpet"
           }
          ],
          "heatmap": [
           {
            "colorbar": {
             "outlinewidth": 0,
             "ticks": ""
            },
            "colorscale": [
             [
              0,
              "#0d0887"
             ],
             [
              0.1111111111111111,
              "#46039f"
             ],
             [
              0.2222222222222222,
              "#7201a8"
             ],
             [
              0.3333333333333333,
              "#9c179e"
             ],
             [
              0.4444444444444444,
              "#bd3786"
             ],
             [
              0.5555555555555556,
              "#d8576b"
             ],
             [
              0.6666666666666666,
              "#ed7953"
             ],
             [
              0.7777777777777778,
              "#fb9f3a"
             ],
             [
              0.8888888888888888,
              "#fdca26"
             ],
             [
              1,
              "#f0f921"
             ]
            ],
            "type": "heatmap"
           }
          ],
          "heatmapgl": [
           {
            "colorbar": {
             "outlinewidth": 0,
             "ticks": ""
            },
            "colorscale": [
             [
              0,
              "#0d0887"
             ],
             [
              0.1111111111111111,
              "#46039f"
             ],
             [
              0.2222222222222222,
              "#7201a8"
             ],
             [
              0.3333333333333333,
              "#9c179e"
             ],
             [
              0.4444444444444444,
              "#bd3786"
             ],
             [
              0.5555555555555556,
              "#d8576b"
             ],
             [
              0.6666666666666666,
              "#ed7953"
             ],
             [
              0.7777777777777778,
              "#fb9f3a"
             ],
             [
              0.8888888888888888,
              "#fdca26"
             ],
             [
              1,
              "#f0f921"
             ]
            ],
            "type": "heatmapgl"
           }
          ],
          "histogram": [
           {
            "marker": {
             "pattern": {
              "fillmode": "overlay",
              "size": 10,
              "solidity": 0.2
             }
            },
            "type": "histogram"
           }
          ],
          "histogram2d": [
           {
            "colorbar": {
             "outlinewidth": 0,
             "ticks": ""
            },
            "colorscale": [
             [
              0,
              "#0d0887"
             ],
             [
              0.1111111111111111,
              "#46039f"
             ],
             [
              0.2222222222222222,
              "#7201a8"
             ],
             [
              0.3333333333333333,
              "#9c179e"
             ],
             [
              0.4444444444444444,
              "#bd3786"
             ],
             [
              0.5555555555555556,
              "#d8576b"
             ],
             [
              0.6666666666666666,
              "#ed7953"
             ],
             [
              0.7777777777777778,
              "#fb9f3a"
             ],
             [
              0.8888888888888888,
              "#fdca26"
             ],
             [
              1,
              "#f0f921"
             ]
            ],
            "type": "histogram2d"
           }
          ],
          "histogram2dcontour": [
           {
            "colorbar": {
             "outlinewidth": 0,
             "ticks": ""
            },
            "colorscale": [
             [
              0,
              "#0d0887"
             ],
             [
              0.1111111111111111,
              "#46039f"
             ],
             [
              0.2222222222222222,
              "#7201a8"
             ],
             [
              0.3333333333333333,
              "#9c179e"
             ],
             [
              0.4444444444444444,
              "#bd3786"
             ],
             [
              0.5555555555555556,
              "#d8576b"
             ],
             [
              0.6666666666666666,
              "#ed7953"
             ],
             [
              0.7777777777777778,
              "#fb9f3a"
             ],
             [
              0.8888888888888888,
              "#fdca26"
             ],
             [
              1,
              "#f0f921"
             ]
            ],
            "type": "histogram2dcontour"
           }
          ],
          "mesh3d": [
           {
            "colorbar": {
             "outlinewidth": 0,
             "ticks": ""
            },
            "type": "mesh3d"
           }
          ],
          "parcoords": [
           {
            "line": {
             "colorbar": {
              "outlinewidth": 0,
              "ticks": ""
             }
            },
            "type": "parcoords"
           }
          ],
          "pie": [
           {
            "automargin": true,
            "type": "pie"
           }
          ],
          "scatter": [
           {
            "fillpattern": {
             "fillmode": "overlay",
             "size": 10,
             "solidity": 0.2
            },
            "type": "scatter"
           }
          ],
          "scatter3d": [
           {
            "line": {
             "colorbar": {
              "outlinewidth": 0,
              "ticks": ""
             }
            },
            "marker": {
             "colorbar": {
              "outlinewidth": 0,
              "ticks": ""
             }
            },
            "type": "scatter3d"
           }
          ],
          "scattercarpet": [
           {
            "marker": {
             "colorbar": {
              "outlinewidth": 0,
              "ticks": ""
             }
            },
            "type": "scattercarpet"
           }
          ],
          "scattergeo": [
           {
            "marker": {
             "colorbar": {
              "outlinewidth": 0,
              "ticks": ""
             }
            },
            "type": "scattergeo"
           }
          ],
          "scattergl": [
           {
            "marker": {
             "colorbar": {
              "outlinewidth": 0,
              "ticks": ""
             }
            },
            "type": "scattergl"
           }
          ],
          "scattermapbox": [
           {
            "marker": {
             "colorbar": {
              "outlinewidth": 0,
              "ticks": ""
             }
            },
            "type": "scattermapbox"
           }
          ],
          "scatterpolar": [
           {
            "marker": {
             "colorbar": {
              "outlinewidth": 0,
              "ticks": ""
             }
            },
            "type": "scatterpolar"
           }
          ],
          "scatterpolargl": [
           {
            "marker": {
             "colorbar": {
              "outlinewidth": 0,
              "ticks": ""
             }
            },
            "type": "scatterpolargl"
           }
          ],
          "scatterternary": [
           {
            "marker": {
             "colorbar": {
              "outlinewidth": 0,
              "ticks": ""
             }
            },
            "type": "scatterternary"
           }
          ],
          "surface": [
           {
            "colorbar": {
             "outlinewidth": 0,
             "ticks": ""
            },
            "colorscale": [
             [
              0,
              "#0d0887"
             ],
             [
              0.1111111111111111,
              "#46039f"
             ],
             [
              0.2222222222222222,
              "#7201a8"
             ],
             [
              0.3333333333333333,
              "#9c179e"
             ],
             [
              0.4444444444444444,
              "#bd3786"
             ],
             [
              0.5555555555555556,
              "#d8576b"
             ],
             [
              0.6666666666666666,
              "#ed7953"
             ],
             [
              0.7777777777777778,
              "#fb9f3a"
             ],
             [
              0.8888888888888888,
              "#fdca26"
             ],
             [
              1,
              "#f0f921"
             ]
            ],
            "type": "surface"
           }
          ],
          "table": [
           {
            "cells": {
             "fill": {
              "color": "#EBF0F8"
             },
             "line": {
              "color": "white"
             }
            },
            "header": {
             "fill": {
              "color": "#C8D4E3"
             },
             "line": {
              "color": "white"
             }
            },
            "type": "table"
           }
          ]
         },
         "layout": {
          "annotationdefaults": {
           "arrowcolor": "#2a3f5f",
           "arrowhead": 0,
           "arrowwidth": 1
          },
          "autotypenumbers": "strict",
          "coloraxis": {
           "colorbar": {
            "outlinewidth": 0,
            "ticks": ""
           }
          },
          "colorscale": {
           "diverging": [
            [
             0,
             "#8e0152"
            ],
            [
             0.1,
             "#c51b7d"
            ],
            [
             0.2,
             "#de77ae"
            ],
            [
             0.3,
             "#f1b6da"
            ],
            [
             0.4,
             "#fde0ef"
            ],
            [
             0.5,
             "#f7f7f7"
            ],
            [
             0.6,
             "#e6f5d0"
            ],
            [
             0.7,
             "#b8e186"
            ],
            [
             0.8,
             "#7fbc41"
            ],
            [
             0.9,
             "#4d9221"
            ],
            [
             1,
             "#276419"
            ]
           ],
           "sequential": [
            [
             0,
             "#0d0887"
            ],
            [
             0.1111111111111111,
             "#46039f"
            ],
            [
             0.2222222222222222,
             "#7201a8"
            ],
            [
             0.3333333333333333,
             "#9c179e"
            ],
            [
             0.4444444444444444,
             "#bd3786"
            ],
            [
             0.5555555555555556,
             "#d8576b"
            ],
            [
             0.6666666666666666,
             "#ed7953"
            ],
            [
             0.7777777777777778,
             "#fb9f3a"
            ],
            [
             0.8888888888888888,
             "#fdca26"
            ],
            [
             1,
             "#f0f921"
            ]
           ],
           "sequentialminus": [
            [
             0,
             "#0d0887"
            ],
            [
             0.1111111111111111,
             "#46039f"
            ],
            [
             0.2222222222222222,
             "#7201a8"
            ],
            [
             0.3333333333333333,
             "#9c179e"
            ],
            [
             0.4444444444444444,
             "#bd3786"
            ],
            [
             0.5555555555555556,
             "#d8576b"
            ],
            [
             0.6666666666666666,
             "#ed7953"
            ],
            [
             0.7777777777777778,
             "#fb9f3a"
            ],
            [
             0.8888888888888888,
             "#fdca26"
            ],
            [
             1,
             "#f0f921"
            ]
           ]
          },
          "colorway": [
           "#636efa",
           "#EF553B",
           "#00cc96",
           "#ab63fa",
           "#FFA15A",
           "#19d3f3",
           "#FF6692",
           "#B6E880",
           "#FF97FF",
           "#FECB52"
          ],
          "font": {
           "color": "#2a3f5f"
          },
          "geo": {
           "bgcolor": "white",
           "lakecolor": "white",
           "landcolor": "white",
           "showlakes": true,
           "showland": true,
           "subunitcolor": "#C8D4E3"
          },
          "hoverlabel": {
           "align": "left"
          },
          "hovermode": "closest",
          "mapbox": {
           "style": "light"
          },
          "paper_bgcolor": "white",
          "plot_bgcolor": "white",
          "polar": {
           "angularaxis": {
            "gridcolor": "#EBF0F8",
            "linecolor": "#EBF0F8",
            "ticks": ""
           },
           "bgcolor": "white",
           "radialaxis": {
            "gridcolor": "#EBF0F8",
            "linecolor": "#EBF0F8",
            "ticks": ""
           }
          },
          "scene": {
           "xaxis": {
            "backgroundcolor": "white",
            "gridcolor": "#DFE8F3",
            "gridwidth": 2,
            "linecolor": "#EBF0F8",
            "showbackground": true,
            "ticks": "",
            "zerolinecolor": "#EBF0F8"
           },
           "yaxis": {
            "backgroundcolor": "white",
            "gridcolor": "#DFE8F3",
            "gridwidth": 2,
            "linecolor": "#EBF0F8",
            "showbackground": true,
            "ticks": "",
            "zerolinecolor": "#EBF0F8"
           },
           "zaxis": {
            "backgroundcolor": "white",
            "gridcolor": "#DFE8F3",
            "gridwidth": 2,
            "linecolor": "#EBF0F8",
            "showbackground": true,
            "ticks": "",
            "zerolinecolor": "#EBF0F8"
           }
          },
          "shapedefaults": {
           "line": {
            "color": "#2a3f5f"
           }
          },
          "ternary": {
           "aaxis": {
            "gridcolor": "#DFE8F3",
            "linecolor": "#A2B1C6",
            "ticks": ""
           },
           "baxis": {
            "gridcolor": "#DFE8F3",
            "linecolor": "#A2B1C6",
            "ticks": ""
           },
           "bgcolor": "white",
           "caxis": {
            "gridcolor": "#DFE8F3",
            "linecolor": "#A2B1C6",
            "ticks": ""
           }
          },
          "title": {
           "x": 0.05
          },
          "xaxis": {
           "automargin": true,
           "gridcolor": "#EBF0F8",
           "linecolor": "#EBF0F8",
           "ticks": "",
           "title": {
            "standoff": 15
           },
           "zerolinecolor": "#EBF0F8",
           "zerolinewidth": 2
          },
          "yaxis": {
           "automargin": true,
           "gridcolor": "#EBF0F8",
           "linecolor": "#EBF0F8",
           "ticks": "",
           "title": {
            "standoff": 15
           },
           "zerolinecolor": "#EBF0F8",
           "zerolinewidth": 2
          }
         }
        },
        "title": {
         "text": "RQ7, RQ8 e RQ9 - Problemas, Objetivos e Resultados"
        },
        "width": 1000,
        "xaxis": {
         "anchor": "y",
         "autorange": true,
         "domain": [
          0,
          0.19999999999999998
         ],
         "range": [
          0,
          11.578947368421053
         ],
         "tickmode": "linear",
         "type": "linear"
        },
        "xaxis2": {
         "anchor": "y2",
         "autorange": true,
         "domain": [
          0.4,
          0.6
         ],
         "range": [
          0,
          8.421052631578947
         ],
         "type": "linear"
        },
        "xaxis3": {
         "anchor": "y3",
         "autorange": true,
         "domain": [
          0.8,
          1
         ],
         "range": [
          0,
          11.578947368421053
         ],
         "type": "linear"
        },
        "yaxis": {
         "anchor": "x",
         "autorange": true,
         "domain": [
          0,
          1
         ],
         "range": [
          -0.5,
          7.5
         ],
         "type": "category"
        },
        "yaxis2": {
         "anchor": "x2",
         "autorange": true,
         "domain": [
          0,
          1
         ],
         "range": [
          -0.5,
          3.5
         ],
         "type": "category"
        },
        "yaxis3": {
         "anchor": "x3",
         "autorange": true,
         "domain": [
          0,
          1
         ],
         "range": [
          -0.5,
          7.5
         ],
         "type": "category"
        }
       }
      },
      "image/png": "[encoded data removed]",
      "text/html": [
       "<div>                            <div id=\"06b6b167-28bd-4c94-82a5-51d242f9477b\" class=\"plotly-graph-div\" style=\"height:500px; width:1000px;\"></div>            <script type=\"text/javascript\">                require([\"plotly\"], function(Plotly) {                    window.PLOTLYENV=window.PLOTLYENV || {};                                    if (document.getElementById(\"06b6b167-28bd-4c94-82a5-51d242f9477b\")) {                    Plotly.newPlot(                        \"06b6b167-28bd-4c94-82a5-51d242f9477b\",                        [{\"name\":\"Problemas\",\"orientation\":\"h\",\"showlegend\":false,\"text\":[1.0,3.0,3.0,4.0,4.0,8.0,8.0,11.0],\"textposition\":\"auto\",\"x\":[1,3,3,4,4,8,8,11],\"y\":[\"Escolha\",\"Especificidades\",\"Suporte\",\"Experi\\u00eancia\",\"Time\",\"Defini\\u00e7\\u00e3o\",\"Integra\\u00e7\\u00e3o\",\"Incerteza\"],\"type\":\"bar\",\"xaxis\":\"x\",\"yaxis\":\"y\"},{\"marker\":{\"color\":[\"#00CC96\",\"#EF553B\",\"#EF553B\",\"#EF553B\"]},\"name\":\"Objetivos\",\"orientation\":\"h\",\"showlegend\":false,\"text\":[4.0,7.0,8.0,8.0],\"textposition\":\"auto\",\"x\":[4,7,8,8],\"y\":[\"Sem objetivo<br>citado\",\"Agilidade\",\"Defini\\u00e7\\u00e3o\",\"Integra\\u00e7\\u00e3o\"],\"type\":\"bar\",\"xaxis\":\"x2\",\"yaxis\":\"y2\"},{\"marker\":{\"color\":[\"#AB63FA\",\"#AB63FA\",\"#AB63FA\",\"#AB63FA\",\"#AB63FA\",\"#AB63FA\",\"#AB63FA\",\"#FFA15A\"]},\"name\":\"Contribui\\u00e7\\u00f5es\",\"orientation\":\"h\",\"showlegend\":false,\"text\":[1.0,1.0,2.0,2.0,4.0,6.0,7.0,11.0],\"textposition\":\"auto\",\"x\":[1,1,2,2,4,6,7,11],\"y\":[\"Papeis\",\"Wip\",\"Divis\\u00e3o\",\"Prioriza\\u00e7\\u00e3o\",\"Efici\\u00eancia\",\"Clareza\",\"Coordena\\u00e7\\u00e3o\",\"Sem contribui\\u00e7\\u00f5es<br>citadas\"],\"type\":\"bar\",\"xaxis\":\"x3\",\"yaxis\":\"y3\"}],                        {\"template\":{\"data\":{\"barpolar\":[{\"marker\":{\"line\":{\"color\":\"white\",\"width\":0.5},\"pattern\":{\"fillmode\":\"overlay\",\"size\":10,\"solidity\":0.2}},\"type\":\"barpolar\"}],\"bar\":[{\"error_x\":{\"color\":\"#2a3f5f\"},\"error_y\":{\"color\":\"#2a3f5f\"},\"marker\":{\"line\":{\"color\":\"white\",\"width\":0.5},\"pattern\":{\"fillmode\":\"overlay\",\"size\":10,\"solidity\":0.2}},\"type\":\"bar\"}],\"carpet\":[{\"aaxis\":{\"endlinecolor\":\"#2a3f5f\",\"gridcolor\":\"#C8D4E3\",\"linecolor\":\"#C8D4E3\",\"minorgridcolor\":\"#C8D4E3\",\"startlinecolor\":\"#2a3f5f\"},\"baxis\":{\"endlinecolor\":\"#2a3f5f\",\"gridcolor\":\"#C8D4E3\",\"linecolor\":\"#C8D4E3\",\"minorgridcolor\":\"#C8D4E3\",\"startlinecolor\":\"#2a3f5f\"},\"type\":\"carpet\"}],\"choropleth\":[{\"colorbar\":{\"outlinewidth\":0,\"ticks\":\"\"},\"type\":\"choropleth\"}],\"contourcarpet\":[{\"colorbar\":{\"outlinewidth\":0,\"ticks\":\"\"},\"type\":\"contourcarpet\"}],\"contour\":[{\"colorbar\":{\"outlinewidth\":0,\"ticks\":\"\"},\"colorscale\":[[0.0,\"#0d0887\"],[0.1111111111111111,\"#46039f\"],[0.2222222222222222,\"#7201a8\"],[0.3333333333333333,\"#9c179e\"],[0.4444444444444444,\"#bd3786\"],[0.5555555555555556,\"#d8576b\"],[0.6666666666666666,\"#ed7953\"],[0.7777777777777778,\"#fb9f3a\"],[0.8888888888888888,\"#fdca26\"],[1.0,\"#f0f921\"]],\"type\":\"contour\"}],\"heatmapgl\":[{\"colorbar\":{\"outlinewidth\":0,\"ticks\":\"\"},\"colorscale\":[[0.0,\"#0d0887\"],[0.1111111111111111,\"#46039f\"],[0.2222222222222222,\"#7201a8\"],[0.3333333333333333,\"#9c179e\"],[0.4444444444444444,\"#bd3786\"],[0.5555555555555556,\"#d8576b\"],[0.6666666666666666,\"#ed7953\"],[0.7777777777777778,\"#fb9f3a\"],[0.8888888888888888,\"#fdca26\"],[1.0,\"#f0f921\"]],\"type\":\"heatmapgl\"}],\"heatmap\":[{\"colorbar\":{\"outlinewidth\":0,\"ticks\":\"\"},\"colorscale\":[[0.0,\"#0d0887\"],[0.1111111111111111,\"#46039f\"],[0.2222222222222222,\"#7201a8\"],[0.3333333333333333,\"#9c179e\"],[0.4444444444444444,\"#bd3786\"],[0.5555555555555556,\"#d8576b\"],[0.6666666666666666,\"#ed7953\"],[0.7777777777777778,\"#fb9f3a\"],[0.8888888888888888,\"#fdca26\"],[1.0,\"#f0f921\"]],\"type\":\"heatmap\"}],\"histogram2dcontour\":[{\"colorbar\":{\"outlinewidth\":0,\"ticks\":\"\"},\"colorscale\":[[0.0,\"#0d0887\"],[0.1111111111111111,\"#46039f\"],[0.2222222222222222,\"#7201a8\"],[0.3333333333333333,\"#9c179e\"],[0.4444444444444444,\"#bd3786\"],[0.5555555555555556,\"#d8576b\"],[0.6666666666666666,\"#ed7953\"],[0.7777777777777778,\"#fb9f3a\"],[0.8888888888888888,\"#fdca26\"],[1.0,\"#f0f921\"]],\"type\":\"histogram2dcontour\"}],\"histogram2d\":[{\"colorbar\":{\"outlinewidth\":0,\"ticks\":\"\"},\"colorscale\":[[0.0,\"#0d0887\"],[0.1111111111111111,\"#46039f\"],[0.2222222222222222,\"#7201a8\"],[0.3333333333333333,\"#9c179e\"],[0.4444444444444444,\"#bd3786\"],[0.5555555555555556,\"#d8576b\"],[0.6666666666666666,\"#ed7953\"],[0.7777777777777778,\"#fb9f3a\"],[0.8888888888888888,\"#fdca26\"],[1.0,\"#f0f921\"]],\"type\":\"histogram2d\"}],\"histogram\":[{\"marker\":{\"pattern\":{\"fillmode\":\"overlay\",\"size\":10,\"solidity\":0.2}},\"type\":\"histogram\"}],\"mesh3d\":[{\"colorbar\":{\"outlinewidth\":0,\"ticks\":\"\"},\"type\":\"mesh3d\"}],\"parcoords\":[{\"line\":{\"colorbar\":{\"outlinewidth\":0,\"ticks\":\"\"}},\"type\":\"parcoords\"}],\"pie\":[{\"automargin\":true,\"type\":\"pie\"}],\"scatter3d\":[{\"line\":{\"colorbar\":{\"outlinewidth\":0,\"ticks\":\"\"}},\"marker\":{\"colorbar\":{\"outlinewidth\":0,\"ticks\":\"\"}},\"type\":\"scatter3d\"}],\"scattercarpet\":[{\"marker\":{\"colorbar\":{\"outlinewidth\":0,\"ticks\":\"\"}},\"type\":\"scattercarpet\"}],\"scattergeo\":[{\"marker\":{\"colorbar\":{\"outlinewidth\":0,\"ticks\":\"\"}},\"type\":\"scattergeo\"}],\"scattergl\":[{\"marker\":{\"colorbar\":{\"outlinewidth\":0,\"ticks\":\"\"}},\"type\":\"scattergl\"}],\"scattermapbox\":[{\"marker\":{\"colorbar\":{\"outlinewidth\":0,\"ticks\":\"\"}},\"type\":\"scattermapbox\"}],\"scatterpolargl\":[{\"marker\":{\"colorbar\":{\"outlinewidth\":0,\"ticks\":\"\"}},\"type\":\"scatterpolargl\"}],\"scatterpolar\":[{\"marker\":{\"colorbar\":{\"outlinewidth\":0,\"ticks\":\"\"}},\"type\":\"scatterpolar\"}],\"scatter\":[{\"fillpattern\":{\"fillmode\":\"overlay\",\"size\":10,\"solidity\":0.2},\"type\":\"scatter\"}],\"scatterternary\":[{\"marker\":{\"colorbar\":{\"outlinewidth\":0,\"ticks\":\"\"}},\"type\":\"scatterternary\"}],\"surface\":[{\"colorbar\":{\"outlinewidth\":0,\"ticks\":\"\"},\"colorscale\":[[0.0,\"#0d0887\"],[0.1111111111111111,\"#46039f\"],[0.2222222222222222,\"#7201a8\"],[0.3333333333333333,\"#9c179e\"],[0.4444444444444444,\"#bd3786\"],[0.5555555555555556,\"#d8576b\"],[0.6666666666666666,\"#ed7953\"],[0.7777777777777778,\"#fb9f3a\"],[0.8888888888888888,\"#fdca26\"],[1.0,\"#f0f921\"]],\"type\":\"surface\"}],\"table\":[{\"cells\":{\"fill\":{\"color\":\"#EBF0F8\"},\"line\":{\"color\":\"white\"}},\"header\":{\"fill\":{\"color\":\"#C8D4E3\"},\"line\":{\"color\":\"white\"}},\"type\":\"table\"}]},\"layout\":{\"annotationdefaults\":{\"arrowcolor\":\"#2a3f5f\",\"arrowhead\":0,\"arrowwidth\":1},\"autotypenumbers\":\"strict\",\"coloraxis\":{\"colorbar\":{\"outlinewidth\":0,\"ticks\":\"\"}},\"colorscale\":{\"diverging\":[[0,\"#8e0152\"],[0.1,\"#c51b7d\"],[0.2,\"#de77ae\"],[0.3,\"#f1b6da\"],[0.4,\"#fde0ef\"],[0.5,\"#f7f7f7\"],[0.6,\"#e6f5d0\"],[0.7,\"#b8e186\"],[0.8,\"#7fbc41\"],[0.9,\"#4d9221\"],[1,\"#276419\"]],\"sequential\":[[0.0,\"#0d0887\"],[0.1111111111111111,\"#46039f\"],[0.2222222222222222,\"#7201a8\"],[0.3333333333333333,\"#9c179e\"],[0.4444444444444444,\"#bd3786\"],[0.5555555555555556,\"#d8576b\"],[0.6666666666666666,\"#ed7953\"],[0.7777777777777778,\"#fb9f3a\"],[0.8888888888888888,\"#fdca26\"],[1.0,\"#f0f921\"]],\"sequentialminus\":[[0.0,\"#0d0887\"],[0.1111111111111111,\"#46039f\"],[0.2222222222222222,\"#7201a8\"],[0.3333333333333333,\"#9c179e\"],[0.4444444444444444,\"#bd3786\"],[0.5555555555555556,\"#d8576b\"],[0.6666666666666666,\"#ed7953\"],[0.7777777777777778,\"#fb9f3a\"],[0.8888888888888888,\"#fdca26\"],[1.0,\"#f0f921\"]]},\"colorway\":[\"#636efa\",\"#EF553B\",\"#00cc96\",\"#ab63fa\",\"#FFA15A\",\"#19d3f3\",\"#FF6692\",\"#B6E880\",\"#FF97FF\",\"#FECB52\"],\"font\":{\"color\":\"#2a3f5f\"},\"geo\":{\"bgcolor\":\"white\",\"lakecolor\":\"white\",\"landcolor\":\"white\",\"showlakes\":true,\"showland\":true,\"subunitcolor\":\"#C8D4E3\"},\"hoverlabel\":{\"align\":\"left\"},\"hovermode\":\"closest\",\"mapbox\":{\"style\":\"light\"},\"paper_bgcolor\":\"white\",\"plot_bgcolor\":\"white\",\"polar\":{\"angularaxis\":{\"gridcolor\":\"#EBF0F8\",\"linecolor\":\"#EBF0F8\",\"ticks\":\"\"},\"bgcolor\":\"white\",\"radialaxis\":{\"gridcolor\":\"#EBF0F8\",\"linecolor\":\"#EBF0F8\",\"ticks\":\"\"}},\"scene\":{\"xaxis\":{\"backgroundcolor\":\"white\",\"gridcolor\":\"#DFE8F3\",\"gridwidth\":2,\"linecolor\":\"#EBF0F8\",\"showbackground\":true,\"ticks\":\"\",\"zerolinecolor\":\"#EBF0F8\"},\"yaxis\":{\"backgroundcolor\":\"white\",\"gridcolor\":\"#DFE8F3\",\"gridwidth\":2,\"linecolor\":\"#EBF0F8\",\"showbackground\":true,\"ticks\":\"\",\"zerolinecolor\":\"#EBF0F8\"},\"zaxis\":{\"backgroundcolor\":\"white\",\"gridcolor\":\"#DFE8F3\",\"gridwidth\":2,\"linecolor\":\"#EBF0F8\",\"showbackground\":true,\"ticks\":\"\",\"zerolinecolor\":\"#EBF0F8\"}},\"shapedefaults\":{\"line\":{\"color\":\"#2a3f5f\"}},\"ternary\":{\"aaxis\":{\"gridcolor\":\"#DFE8F3\",\"linecolor\":\"#A2B1C6\",\"ticks\":\"\"},\"baxis\":{\"gridcolor\":\"#DFE8F3\",\"linecolor\":\"#A2B1C6\",\"ticks\":\"\"},\"bgcolor\":\"white\",\"caxis\":{\"gridcolor\":\"#DFE8F3\",\"linecolor\":\"#A2B1C6\",\"ticks\":\"\"}},\"title\":{\"x\":0.05},\"xaxis\":{\"automargin\":true,\"gridcolor\":\"#EBF0F8\",\"linecolor\":\"#EBF0F8\",\"ticks\":\"\",\"title\":{\"standoff\":15},\"zerolinecolor\":\"#EBF0F8\",\"zerolinewidth\":2},\"yaxis\":{\"automargin\":true,\"gridcolor\":\"#EBF0F8\",\"linecolor\":\"#EBF0F8\",\"ticks\":\"\",\"title\":{\"standoff\":15},\"zerolinecolor\":\"#EBF0F8\",\"zerolinewidth\":2}}},\"xaxis\":{\"anchor\":\"y\",\"domain\":[0.0,0.19999999999999998],\"tickmode\":\"linear\"},\"yaxis\":{\"anchor\":\"x\",\"domain\":[0.0,1.0]},\"xaxis2\":{\"anchor\":\"y2\",\"domain\":[0.4,0.6]},\"yaxis2\":{\"anchor\":\"x2\",\"domain\":[0.0,1.0]},\"xaxis3\":{\"anchor\":\"y3\",\"domain\":[0.8,1.0]},\"yaxis3\":{\"anchor\":\"x3\",\"domain\":[0.0,1.0]},\"annotations\":[{\"font\":{\"size\":16},\"showarrow\":false,\"text\":\"Problemas\",\"x\":0.09999999999999999,\"xanchor\":\"center\",\"xref\":\"paper\",\"y\":1.0,\"yanchor\":\"bottom\",\"yref\":\"paper\"},{\"font\":{\"size\":16},\"showarrow\":false,\"text\":\"Objetivos\",\"x\":0.5,\"xanchor\":\"center\",\"xref\":\"paper\",\"y\":1.0,\"yanchor\":\"bottom\",\"yref\":\"paper\"},{\"font\":{\"size\":16},\"showarrow\":false,\"text\":\"Contribui\\u00e7\\u00f5es\",\"x\":0.9,\"xanchor\":\"center\",\"xref\":\"paper\",\"y\":1.0,\"yanchor\":\"bottom\",\"yref\":\"paper\"}],\"font\":{\"color\":\"black\",\"size\":16,\"family\":\"Arial\"},\"width\":1000,\"height\":500,\"title\":{\"text\":\"RQ7, RQ8 e RQ9 - Problemas, Objetivos e Resultados\"}},                        {\"responsive\": true}                    ).then(function(){\n",
       "                            \n",
       "var gd = document.getElementById('06b6b167-28bd-4c94-82a5-51d242f9477b');\n",
       "var x = new MutationObserver(function (mutations, observer) {{\n",
       "        var display = window.getComputedStyle(gd).display;\n",
       "        if (!display || display === 'none') {{\n",
       "            console.log([gd, 'removed!']);\n",
       "            Plotly.purge(gd);\n",
       "            observer.disconnect();\n",
       "        }}\n",
       "}});\n",
       "\n",
       "// Listen for the removal of the full notebook cells\n",
       "var notebookContainer = gd.closest('#notebook-container');\n",
       "if (notebookContainer) {{\n",
       "    x.observe(notebookContainer, {childList: true});\n",
       "}}\n",
       "\n",
       "// Listen for the clearing of the current output cell\n",
       "var outputEl = gd.closest('.output');\n",
       "if (outputEl) {{\n",
       "    x.observe(outputEl, {childList: true});\n",
       "}}\n",
       "\n",
       "                        })                };                });            </script>        </div>"
      ]
     },
     "metadata": {},
     "output_type": "display_data"
    }
   ],
   "source": [
    "bar_rq7_rq8_rq9 = make_subplots(rows=1, cols=3, horizontal_spacing = 0.20, subplot_titles=['Problemas', 'Objetivos', 'Contribuições'])\n",
    "\n",
    "df_results = df.copy()\n",
    "\n",
    "df_rq7 = df.copy()\n",
    "df_rq7 = df_rq7.set_index(\"entry\")\n",
    "df_rq7 = df_rq7[\"RQ7_ProblemsReported\"].str.split(\";\", expand = True)\n",
    "df_rq7 = pd.melt(df_rq7.reset_index(), id_vars = \"entry\", value_vars = [col for col in df_rq7.columns if col != \"entry\"])\n",
    "df_rq7 = df_rq7.dropna()\n",
    "df_rq7 = df_rq7[[\"entry\", \"value\"]]\n",
    "df_rq7[\"value\"] = df_rq7[\"value\"].str.replace(\" \", \"_\").str.lower().str.capitalize()\n",
    "df_rq7 = df_rq7.groupby(\"value\")[\"entry\"].count().sort_values()\n",
    "\n",
    "df_rq8 = df.copy()\n",
    "df_rq8 = df_rq8.set_index(\"entry\")\n",
    "df_rq8[\"RQ8_ObjectiveAM\"] = df_rq8[\"RQ8_ObjectiveAM\"].fillna(\"Sem objetivo citado\")\n",
    "df_rq8 = df_rq8[\"RQ8_ObjectiveAM\"].str.split(\";\", expand = True)\n",
    "df_rq8 = pd.melt(df_rq8.reset_index(), id_vars = \"entry\", value_vars = [col for col in df_rq8.columns if col != \"entry\"])\n",
    "df_rq8 = df_rq8.dropna()\n",
    "df_rq8 = df_rq8[[\"entry\", \"value\"]]\n",
    "df_rq8[\"value\"] = df_rq8[\"value\"].str.replace(\" \", \"_\").str.lower().str.capitalize()\n",
    "df_rq8 = df_rq8.replace(\"Sem_objetivo_citado\", \"Sem objetivo<br>citado\")\n",
    "df_rq8 = df_rq8.groupby(\"value\")[\"entry\"].count().sort_values()\n",
    "\n",
    "\n",
    "df_rq9 = df.copy()\n",
    "df_rq9 = df_rq9.set_index(\"entry\")\n",
    "df_rq9[\"RQ9_ContributionsResults\"] = df_rq9[\"RQ9_ContributionsResults\"].fillna(\"Sem contribuições citadas\")\n",
    "df_rq9 = df_rq9[\"RQ9_ContributionsResults\"].str.split(\";\", expand = True)\n",
    "df_rq9 = pd.melt(df_rq9.reset_index(), id_vars = \"entry\", value_vars = [col for col in df_rq9.columns if col != \"entry\"])\n",
    "df_rq9 = df_rq9.dropna()\n",
    "df_rq9 = df_rq9[[\"entry\", \"value\"]]\n",
    "df_rq9[\"value\"] = df_rq9[\"value\"].str.replace(\" \", \"_\").str.lower().str.capitalize()\n",
    "df_rq9 = df_rq9.replace(\"Sem_contribuições_citadas\", \"Sem contribuições<br>citadas\")\n",
    "df_rq9 = df_rq9.groupby(\"value\")[\"entry\"].count().sort_values()\n",
    "\n",
    "\n",
    "bar_rq7_rq8_rq9.add_trace(\n",
    "    go.Bar(\n",
    "        y=df_rq7.index, \n",
    "        x=df_rq7, \n",
    "        name = \"Problemas\",\n",
    "        showlegend=False,\n",
    "        orientation = \"h\",\n",
    "        textposition='auto',\n",
    "        text=df_rq7\n",
    "    ), \n",
    "    row=1, col=1\n",
    ")\n",
    "\n",
    "bar_rq7_rq8_rq9.add_trace(\n",
    "    go.Bar(\n",
    "        y=df_rq8.index, \n",
    "        x=df_rq8, \n",
    "        name = \"Objetivos\",\n",
    "        showlegend=False,\n",
    "        orientation = \"h\",\n",
    "        textposition='auto',\n",
    "        text=df_rq8,\n",
    "        marker_color = [colors[1] if ind != \"Sem objetivo<br>citado\" else colors[2] for ind in df_rq8.index]\n",
    "    ), \n",
    "    row=1, col=2\n",
    ")\n",
    "\n",
    "bar_rq7_rq8_rq9.add_trace(\n",
    "    go.Bar(\n",
    "        y=df_rq9.index, \n",
    "        x=df_rq9, \n",
    "        name = \"Contribuições\",\n",
    "        showlegend=False,\n",
    "        orientation = \"h\",\n",
    "        textposition='auto',\n",
    "        text=df_rq9,\n",
    "        marker_color = [colors[3] if ind != \"Sem contribuições<br>citadas\" else colors[4] for ind in df_rq9.index]\n",
    "    ), \n",
    "    row=1, col=3\n",
    ")\n",
    "\n",
    "\n",
    "bar_rq7_rq8_rq9.update_layout(\n",
    "    width=1000,\n",
    "    height=500,\n",
    "    template=\"plotly_white\",\n",
    "    font=dict(\n",
    "        color=\"black\",\n",
    "        size=16,  # can change the size of font here\n",
    "        family=\"Arial\",\n",
    "    ),\n",
    "    xaxis=dict(\n",
    "        tickmode='linear'\n",
    "    ),\n",
    "    title = \"RQ7, RQ8 e RQ9 - Problemas, Objetivos e Resultados\",\n",
    ")\n",
    "bar_rq7_rq8_rq9.show()"
   ]
  },
  {
   "cell_type": "markdown",
   "id": "4dba4dff-2714-45fe-899f-4c7323a9571c",
   "metadata": {},
   "source": [
    "# RQ8 E RQ9 - DISTRIBUIÇÕES"
   ]
  },
  {
   "cell_type": "code",
   "execution_count": 20,
   "id": "03565637-c2dd-4aae-babc-4573538762cc",
   "metadata": {},
   "outputs": [
    {
     "data": {
      "application/vnd.plotly.v1+json": {
       "config": {
        "plotlyServerURL": "https://plot.ly"
       },
       "data": [
        {
         "marker": {
          "size": [
           30,
           10,
           50,
           70,
           30,
           0,
           0,
           20,
           60,
           20,
           30,
           30,
           10,
           20
          ]
         },
         "mode": "markers+text",
         "text": [
          "3",
          "1",
          "5",
          "7",
          "3",
          "",
          "",
          "2",
          "6",
          "2",
          "3",
          "3",
          "1",
          "2"
         ],
         "textposition": "middle center",
         "type": "scatter",
         "x": [
          "Academia<br>3 (16%)",
          "Geral<br>1 (5%)",
          "Industria<br>12 (63%)",
          "Industria<br>12 (63%)",
          "Organizações<br>3 (16%)",
          "",
          "",
          "Adaptada <br>8 (42%)",
          "Adaptada <br>8 (42%)",
          "Geral MA <br>5 (26%)",
          "Geral MA <br>5 (26%)",
          "Kanban <br>3 (16%)",
          "Scrum <br>3 (16%)",
          "Scrum <br>3 (16%)"
         ],
         "y": [
          "Com        <br>contribuições<br>reportadas  ",
          "Sem        <br>contribuições<br>reportadas  ",
          "Com        <br>contribuições<br>reportadas  ",
          "Sem        <br>contribuições<br>reportadas  ",
          "Sem        <br>contribuições<br>reportadas  ",
          "Com        <br>contribuições<br>reportadas  ",
          "Sem        <br>contribuições<br>reportadas  ",
          "Com        <br>contribuições<br>reportadas  ",
          "Sem        <br>contribuições<br>reportadas  ",
          "Com        <br>contribuições<br>reportadas  ",
          "Sem        <br>contribuições<br>reportadas  ",
          "Com        <br>contribuições<br>reportadas  ",
          "Com        <br>contribuições<br>reportadas  ",
          "Sem        <br>contribuições<br>reportadas  "
         ]
        }
       ],
       "layout": {
        "annotations": [
         {
          "align": "left",
          "font": {
           "family": "Arial",
           "size": 16
          },
          "showarrow": false,
          "text": "<b>Tipo de <br>Organização</b>",
          "x": -0.09,
          "xref": "paper",
          "y": -0.13,
          "yref": "paper"
         },
         {
          "align": "left",
          "font": {
           "family": "Arial",
           "size": 16
          },
          "showarrow": false,
          "text": "<b>Subtópicos<br> de MA</b>",
          "x": 1.08,
          "xref": "paper",
          "y": -0.13,
          "yref": "paper"
         },
         {
          "align": "left",
          "font": {
           "family": "Arial",
           "size": 16
          },
          "showarrow": false,
          "text": "<b>Contribuições</b>",
          "x": 0.5,
          "xref": "paper",
          "y": 1.12,
          "yref": "paper"
         }
        ],
        "font": {
         "color": "black",
         "family": "Arial",
         "size": 10
        },
        "height": 500,
        "template": {
         "data": {
          "bar": [
           {
            "error_x": {
             "color": "#2a3f5f"
            },
            "error_y": {
             "color": "#2a3f5f"
            },
            "marker": {
             "line": {
              "color": "white",
              "width": 0.5
             },
             "pattern": {
              "fillmode": "overlay",
              "size": 10,
              "solidity": 0.2
             }
            },
            "type": "bar"
           }
          ],
          "barpolar": [
           {
            "marker": {
             "line": {
              "color": "white",
              "width": 0.5
             },
             "pattern": {
              "fillmode": "overlay",
              "size": 10,
              "solidity": 0.2
             }
            },
            "type": "barpolar"
           }
          ],
          "carpet": [
           {
            "aaxis": {
             "endlinecolor": "#2a3f5f",
             "gridcolor": "#C8D4E3",
             "linecolor": "#C8D4E3",
             "minorgridcolor": "#C8D4E3",
             "startlinecolor": "#2a3f5f"
            },
            "baxis": {
             "endlinecolor": "#2a3f5f",
             "gridcolor": "#C8D4E3",
             "linecolor": "#C8D4E3",
             "minorgridcolor": "#C8D4E3",
             "startlinecolor": "#2a3f5f"
            },
            "type": "carpet"
           }
          ],
          "choropleth": [
           {
            "colorbar": {
             "outlinewidth": 0,
             "ticks": ""
            },
            "type": "choropleth"
           }
          ],
          "contour": [
           {
            "colorbar": {
             "outlinewidth": 0,
             "ticks": ""
            },
            "colorscale": [
             [
              0,
              "#0d0887"
             ],
             [
              0.1111111111111111,
              "#46039f"
             ],
             [
              0.2222222222222222,
              "#7201a8"
             ],
             [
              0.3333333333333333,
              "#9c179e"
             ],
             [
              0.4444444444444444,
              "#bd3786"
             ],
             [
              0.5555555555555556,
              "#d8576b"
             ],
             [
              0.6666666666666666,
              "#ed7953"
             ],
             [
              0.7777777777777778,
              "#fb9f3a"
             ],
             [
              0.8888888888888888,
              "#fdca26"
             ],
             [
              1,
              "#f0f921"
             ]
            ],
            "type": "contour"
           }
          ],
          "contourcarpet": [
           {
            "colorbar": {
             "outlinewidth": 0,
             "ticks": ""
            },
            "type": "contourcarpet"
           }
          ],
          "heatmap": [
           {
            "colorbar": {
             "outlinewidth": 0,
             "ticks": ""
            },
            "colorscale": [
             [
              0,
              "#0d0887"
             ],
             [
              0.1111111111111111,
              "#46039f"
             ],
             [
              0.2222222222222222,
              "#7201a8"
             ],
             [
              0.3333333333333333,
              "#9c179e"
             ],
             [
              0.4444444444444444,
              "#bd3786"
             ],
             [
              0.5555555555555556,
              "#d8576b"
             ],
             [
              0.6666666666666666,
              "#ed7953"
             ],
             [
              0.7777777777777778,
              "#fb9f3a"
             ],
             [
              0.8888888888888888,
              "#fdca26"
             ],
             [
              1,
              "#f0f921"
             ]
            ],
            "type": "heatmap"
           }
          ],
          "heatmapgl": [
           {
            "colorbar": {
             "outlinewidth": 0,
             "ticks": ""
            },
            "colorscale": [
             [
              0,
              "#0d0887"
             ],
             [
              0.1111111111111111,
              "#46039f"
             ],
             [
              0.2222222222222222,
              "#7201a8"
             ],
             [
              0.3333333333333333,
              "#9c179e"
             ],
             [
              0.4444444444444444,
              "#bd3786"
             ],
             [
              0.5555555555555556,
              "#d8576b"
             ],
             [
              0.6666666666666666,
              "#ed7953"
             ],
             [
              0.7777777777777778,
              "#fb9f3a"
             ],
             [
              0.8888888888888888,
              "#fdca26"
             ],
             [
              1,
              "#f0f921"
             ]
            ],
            "type": "heatmapgl"
           }
          ],
          "histogram": [
           {
            "marker": {
             "pattern": {
              "fillmode": "overlay",
              "size": 10,
              "solidity": 0.2
             }
            },
            "type": "histogram"
           }
          ],
          "histogram2d": [
           {
            "colorbar": {
             "outlinewidth": 0,
             "ticks": ""
            },
            "colorscale": [
             [
              0,
              "#0d0887"
             ],
             [
              0.1111111111111111,
              "#46039f"
             ],
             [
              0.2222222222222222,
              "#7201a8"
             ],
             [
              0.3333333333333333,
              "#9c179e"
             ],
             [
              0.4444444444444444,
              "#bd3786"
             ],
             [
              0.5555555555555556,
              "#d8576b"
             ],
             [
              0.6666666666666666,
              "#ed7953"
             ],
             [
              0.7777777777777778,
              "#fb9f3a"
             ],
             [
              0.8888888888888888,
              "#fdca26"
             ],
             [
              1,
              "#f0f921"
             ]
            ],
            "type": "histogram2d"
           }
          ],
          "histogram2dcontour": [
           {
            "colorbar": {
             "outlinewidth": 0,
             "ticks": ""
            },
            "colorscale": [
             [
              0,
              "#0d0887"
             ],
             [
              0.1111111111111111,
              "#46039f"
             ],
             [
              0.2222222222222222,
              "#7201a8"
             ],
             [
              0.3333333333333333,
              "#9c179e"
             ],
             [
              0.4444444444444444,
              "#bd3786"
             ],
             [
              0.5555555555555556,
              "#d8576b"
             ],
             [
              0.6666666666666666,
              "#ed7953"
             ],
             [
              0.7777777777777778,
              "#fb9f3a"
             ],
             [
              0.8888888888888888,
              "#fdca26"
             ],
             [
              1,
              "#f0f921"
             ]
            ],
            "type": "histogram2dcontour"
           }
          ],
          "mesh3d": [
           {
            "colorbar": {
             "outlinewidth": 0,
             "ticks": ""
            },
            "type": "mesh3d"
           }
          ],
          "parcoords": [
           {
            "line": {
             "colorbar": {
              "outlinewidth": 0,
              "ticks": ""
             }
            },
            "type": "parcoords"
           }
          ],
          "pie": [
           {
            "automargin": true,
            "type": "pie"
           }
          ],
          "scatter": [
           {
            "fillpattern": {
             "fillmode": "overlay",
             "size": 10,
             "solidity": 0.2
            },
            "type": "scatter"
           }
          ],
          "scatter3d": [
           {
            "line": {
             "colorbar": {
              "outlinewidth": 0,
              "ticks": ""
             }
            },
            "marker": {
             "colorbar": {
              "outlinewidth": 0,
              "ticks": ""
             }
            },
            "type": "scatter3d"
           }
          ],
          "scattercarpet": [
           {
            "marker": {
             "colorbar": {
              "outlinewidth": 0,
              "ticks": ""
             }
            },
            "type": "scattercarpet"
           }
          ],
          "scattergeo": [
           {
            "marker": {
             "colorbar": {
              "outlinewidth": 0,
              "ticks": ""
             }
            },
            "type": "scattergeo"
           }
          ],
          "scattergl": [
           {
            "marker": {
             "colorbar": {
              "outlinewidth": 0,
              "ticks": ""
             }
            },
            "type": "scattergl"
           }
          ],
          "scattermapbox": [
           {
            "marker": {
             "colorbar": {
              "outlinewidth": 0,
              "ticks": ""
             }
            },
            "type": "scattermapbox"
           }
          ],
          "scatterpolar": [
           {
            "marker": {
             "colorbar": {
              "outlinewidth": 0,
              "ticks": ""
             }
            },
            "type": "scatterpolar"
           }
          ],
          "scatterpolargl": [
           {
            "marker": {
             "colorbar": {
              "outlinewidth": 0,
              "ticks": ""
             }
            },
            "type": "scatterpolargl"
           }
          ],
          "scatterternary": [
           {
            "marker": {
             "colorbar": {
              "outlinewidth": 0,
              "ticks": ""
             }
            },
            "type": "scatterternary"
           }
          ],
          "surface": [
           {
            "colorbar": {
             "outlinewidth": 0,
             "ticks": ""
            },
            "colorscale": [
             [
              0,
              "#0d0887"
             ],
             [
              0.1111111111111111,
              "#46039f"
             ],
             [
              0.2222222222222222,
              "#7201a8"
             ],
             [
              0.3333333333333333,
              "#9c179e"
             ],
             [
              0.4444444444444444,
              "#bd3786"
             ],
             [
              0.5555555555555556,
              "#d8576b"
             ],
             [
              0.6666666666666666,
              "#ed7953"
             ],
             [
              0.7777777777777778,
              "#fb9f3a"
             ],
             [
              0.8888888888888888,
              "#fdca26"
             ],
             [
              1,
              "#f0f921"
             ]
            ],
            "type": "surface"
           }
          ],
          "table": [
           {
            "cells": {
             "fill": {
              "color": "#EBF0F8"
             },
             "line": {
              "color": "white"
             }
            },
            "header": {
             "fill": {
              "color": "#C8D4E3"
             },
             "line": {
              "color": "white"
             }
            },
            "type": "table"
           }
          ]
         },
         "layout": {
          "annotationdefaults": {
           "arrowcolor": "#2a3f5f",
           "arrowhead": 0,
           "arrowwidth": 1
          },
          "autotypenumbers": "strict",
          "coloraxis": {
           "colorbar": {
            "outlinewidth": 0,
            "ticks": ""
           }
          },
          "colorscale": {
           "diverging": [
            [
             0,
             "#8e0152"
            ],
            [
             0.1,
             "#c51b7d"
            ],
            [
             0.2,
             "#de77ae"
            ],
            [
             0.3,
             "#f1b6da"
            ],
            [
             0.4,
             "#fde0ef"
            ],
            [
             0.5,
             "#f7f7f7"
            ],
            [
             0.6,
             "#e6f5d0"
            ],
            [
             0.7,
             "#b8e186"
            ],
            [
             0.8,
             "#7fbc41"
            ],
            [
             0.9,
             "#4d9221"
            ],
            [
             1,
             "#276419"
            ]
           ],
           "sequential": [
            [
             0,
             "#0d0887"
            ],
            [
             0.1111111111111111,
             "#46039f"
            ],
            [
             0.2222222222222222,
             "#7201a8"
            ],
            [
             0.3333333333333333,
             "#9c179e"
            ],
            [
             0.4444444444444444,
             "#bd3786"
            ],
            [
             0.5555555555555556,
             "#d8576b"
            ],
            [
             0.6666666666666666,
             "#ed7953"
            ],
            [
             0.7777777777777778,
             "#fb9f3a"
            ],
            [
             0.8888888888888888,
             "#fdca26"
            ],
            [
             1,
             "#f0f921"
            ]
           ],
           "sequentialminus": [
            [
             0,
             "#0d0887"
            ],
            [
             0.1111111111111111,
             "#46039f"
            ],
            [
             0.2222222222222222,
             "#7201a8"
            ],
            [
             0.3333333333333333,
             "#9c179e"
            ],
            [
             0.4444444444444444,
             "#bd3786"
            ],
            [
             0.5555555555555556,
             "#d8576b"
            ],
            [
             0.6666666666666666,
             "#ed7953"
            ],
            [
             0.7777777777777778,
             "#fb9f3a"
            ],
            [
             0.8888888888888888,
             "#fdca26"
            ],
            [
             1,
             "#f0f921"
            ]
           ]
          },
          "colorway": [
           "#636efa",
           "#EF553B",
           "#00cc96",
           "#ab63fa",
           "#FFA15A",
           "#19d3f3",
           "#FF6692",
           "#B6E880",
           "#FF97FF",
           "#FECB52"
          ],
          "font": {
           "color": "#2a3f5f"
          },
          "geo": {
           "bgcolor": "white",
           "lakecolor": "white",
           "landcolor": "white",
           "showlakes": true,
           "showland": true,
           "subunitcolor": "#C8D4E3"
          },
          "hoverlabel": {
           "align": "left"
          },
          "hovermode": "closest",
          "mapbox": {
           "style": "light"
          },
          "paper_bgcolor": "white",
          "plot_bgcolor": "white",
          "polar": {
           "angularaxis": {
            "gridcolor": "#EBF0F8",
            "linecolor": "#EBF0F8",
            "ticks": ""
           },
           "bgcolor": "white",
           "radialaxis": {
            "gridcolor": "#EBF0F8",
            "linecolor": "#EBF0F8",
            "ticks": ""
           }
          },
          "scene": {
           "xaxis": {
            "backgroundcolor": "white",
            "gridcolor": "#DFE8F3",
            "gridwidth": 2,
            "linecolor": "#EBF0F8",
            "showbackground": true,
            "ticks": "",
            "zerolinecolor": "#EBF0F8"
           },
           "yaxis": {
            "backgroundcolor": "white",
            "gridcolor": "#DFE8F3",
            "gridwidth": 2,
            "linecolor": "#EBF0F8",
            "showbackground": true,
            "ticks": "",
            "zerolinecolor": "#EBF0F8"
           },
           "zaxis": {
            "backgroundcolor": "white",
            "gridcolor": "#DFE8F3",
            "gridwidth": 2,
            "linecolor": "#EBF0F8",
            "showbackground": true,
            "ticks": "",
            "zerolinecolor": "#EBF0F8"
           }
          },
          "shapedefaults": {
           "line": {
            "color": "#2a3f5f"
           }
          },
          "ternary": {
           "aaxis": {
            "gridcolor": "#DFE8F3",
            "linecolor": "#A2B1C6",
            "ticks": ""
           },
           "baxis": {
            "gridcolor": "#DFE8F3",
            "linecolor": "#A2B1C6",
            "ticks": ""
           },
           "bgcolor": "white",
           "caxis": {
            "gridcolor": "#DFE8F3",
            "linecolor": "#A2B1C6",
            "ticks": ""
           }
          },
          "title": {
           "x": 0.05
          },
          "xaxis": {
           "automargin": true,
           "gridcolor": "#EBF0F8",
           "linecolor": "#EBF0F8",
           "ticks": "",
           "title": {
            "standoff": 15
           },
           "zerolinecolor": "#EBF0F8",
           "zerolinewidth": 2
          },
          "yaxis": {
           "automargin": true,
           "gridcolor": "#EBF0F8",
           "linecolor": "#EBF0F8",
           "ticks": "",
           "title": {
            "standoff": 15
           },
           "zerolinecolor": "#EBF0F8",
           "zerolinewidth": 2
          }
         }
        },
        "title": {
         "font": {
          "size": 20
         },
         "text": "<b>Distribuição de Subtópicos de MA e Tipo de Organização<br>por Contribuições </b>",
         "x": 0.02,
         "y": 0.94
        },
        "width": 1000,
        "xaxis": {
         "autorange": true,
         "categoryarray": [
          "Geral<br>1 (5%)",
          "Academia<br>3 (16%)",
          "Organizações<br>3 (16%)",
          "Industria<br>12 (63%)",
          "",
          "Adaptada <br>8 (42%)",
          "Geral MA <br>5 (26%)",
          "Scrum <br>3 (16%)",
          "Kanban <br>3 (16%)"
         ],
         "categoryorder": "array",
         "range": [
          -0.5280437756497948,
          8.66484268125855
         ],
         "tickfont": {
          "size": 16
         },
         "type": "category"
        },
        "yaxis": {
         "anchor": "free",
         "autorange": true,
         "autoshift": true,
         "categoryarray": [
          "Sem        <br>contribuições<br>reportadas  ",
          "Com        <br>contribuições<br>reportadas  "
         ],
         "categoryorder": "array",
         "constraintoward": "center",
         "overlaying": "y",
         "range": [
          -0.2805164319248826,
          1.221830985915493
         ],
         "shift": 465,
         "tickfont": {
          "size": 16
         },
         "type": "category"
        }
       }
      },
      "image/png": "[encoded data removed]",
      "text/html": [
       "<div>                            <div id=\"4e84eb02-ec6f-4ab7-a8f1-04d66badf859\" class=\"plotly-graph-div\" style=\"height:500px; width:1000px;\"></div>            <script type=\"text/javascript\">                require([\"plotly\"], function(Plotly) {                    window.PLOTLYENV=window.PLOTLYENV || {};                                    if (document.getElementById(\"4e84eb02-ec6f-4ab7-a8f1-04d66badf859\")) {                    Plotly.newPlot(                        \"4e84eb02-ec6f-4ab7-a8f1-04d66badf859\",                        [{\"marker\":{\"size\":[30,10,50,70,30,0,0,20,60,20,30,30,10,20]},\"mode\":\"markers+text\",\"text\":[\"3\",\"1\",\"5\",\"7\",\"3\",\"\",\"\",\"2\",\"6\",\"2\",\"3\",\"3\",\"1\",\"2\"],\"textposition\":\"middle center\",\"x\":[\"Academia<br>3 (16%)\",\"Geral<br>1 (5%)\",\"Industria<br>12 (63%)\",\"Industria<br>12 (63%)\",\"Organiza\\u00e7\\u00f5es<br>3 (16%)\",\"\",\"\",\"Adaptada <br>8 (42%)\",\"Adaptada <br>8 (42%)\",\"Geral MA <br>5 (26%)\",\"Geral MA <br>5 (26%)\",\"Kanban <br>3 (16%)\",\"Scrum <br>3 (16%)\",\"Scrum <br>3 (16%)\"],\"y\":[\"Com        <br>contribui\\u00e7\\u00f5es<br>reportadas  \",\"Sem        <br>contribui\\u00e7\\u00f5es<br>reportadas  \",\"Com        <br>contribui\\u00e7\\u00f5es<br>reportadas  \",\"Sem        <br>contribui\\u00e7\\u00f5es<br>reportadas  \",\"Sem        <br>contribui\\u00e7\\u00f5es<br>reportadas  \",\"Com        <br>contribui\\u00e7\\u00f5es<br>reportadas  \",\"Sem        <br>contribui\\u00e7\\u00f5es<br>reportadas  \",\"Com        <br>contribui\\u00e7\\u00f5es<br>reportadas  \",\"Sem        <br>contribui\\u00e7\\u00f5es<br>reportadas  \",\"Com        <br>contribui\\u00e7\\u00f5es<br>reportadas  \",\"Sem        <br>contribui\\u00e7\\u00f5es<br>reportadas  \",\"Com        <br>contribui\\u00e7\\u00f5es<br>reportadas  \",\"Com        <br>contribui\\u00e7\\u00f5es<br>reportadas  \",\"Sem        <br>contribui\\u00e7\\u00f5es<br>reportadas  \"],\"type\":\"scatter\"}],                        {\"font\":{\"color\":\"black\",\"family\":\"Arial\",\"size\":10},\"height\":500,\"template\":{\"data\":{\"barpolar\":[{\"marker\":{\"line\":{\"color\":\"white\",\"width\":0.5},\"pattern\":{\"fillmode\":\"overlay\",\"size\":10,\"solidity\":0.2}},\"type\":\"barpolar\"}],\"bar\":[{\"error_x\":{\"color\":\"#2a3f5f\"},\"error_y\":{\"color\":\"#2a3f5f\"},\"marker\":{\"line\":{\"color\":\"white\",\"width\":0.5},\"pattern\":{\"fillmode\":\"overlay\",\"size\":10,\"solidity\":0.2}},\"type\":\"bar\"}],\"carpet\":[{\"aaxis\":{\"endlinecolor\":\"#2a3f5f\",\"gridcolor\":\"#C8D4E3\",\"linecolor\":\"#C8D4E3\",\"minorgridcolor\":\"#C8D4E3\",\"startlinecolor\":\"#2a3f5f\"},\"baxis\":{\"endlinecolor\":\"#2a3f5f\",\"gridcolor\":\"#C8D4E3\",\"linecolor\":\"#C8D4E3\",\"minorgridcolor\":\"#C8D4E3\",\"startlinecolor\":\"#2a3f5f\"},\"type\":\"carpet\"}],\"choropleth\":[{\"colorbar\":{\"outlinewidth\":0,\"ticks\":\"\"},\"type\":\"choropleth\"}],\"contourcarpet\":[{\"colorbar\":{\"outlinewidth\":0,\"ticks\":\"\"},\"type\":\"contourcarpet\"}],\"contour\":[{\"colorbar\":{\"outlinewidth\":0,\"ticks\":\"\"},\"colorscale\":[[0.0,\"#0d0887\"],[0.1111111111111111,\"#46039f\"],[0.2222222222222222,\"#7201a8\"],[0.3333333333333333,\"#9c179e\"],[0.4444444444444444,\"#bd3786\"],[0.5555555555555556,\"#d8576b\"],[0.6666666666666666,\"#ed7953\"],[0.7777777777777778,\"#fb9f3a\"],[0.8888888888888888,\"#fdca26\"],[1.0,\"#f0f921\"]],\"type\":\"contour\"}],\"heatmapgl\":[{\"colorbar\":{\"outlinewidth\":0,\"ticks\":\"\"},\"colorscale\":[[0.0,\"#0d0887\"],[0.1111111111111111,\"#46039f\"],[0.2222222222222222,\"#7201a8\"],[0.3333333333333333,\"#9c179e\"],[0.4444444444444444,\"#bd3786\"],[0.5555555555555556,\"#d8576b\"],[0.6666666666666666,\"#ed7953\"],[0.7777777777777778,\"#fb9f3a\"],[0.8888888888888888,\"#fdca26\"],[1.0,\"#f0f921\"]],\"type\":\"heatmapgl\"}],\"heatmap\":[{\"colorbar\":{\"outlinewidth\":0,\"ticks\":\"\"},\"colorscale\":[[0.0,\"#0d0887\"],[0.1111111111111111,\"#46039f\"],[0.2222222222222222,\"#7201a8\"],[0.3333333333333333,\"#9c179e\"],[0.4444444444444444,\"#bd3786\"],[0.5555555555555556,\"#d8576b\"],[0.6666666666666666,\"#ed7953\"],[0.7777777777777778,\"#fb9f3a\"],[0.8888888888888888,\"#fdca26\"],[1.0,\"#f0f921\"]],\"type\":\"heatmap\"}],\"histogram2dcontour\":[{\"colorbar\":{\"outlinewidth\":0,\"ticks\":\"\"},\"colorscale\":[[0.0,\"#0d0887\"],[0.1111111111111111,\"#46039f\"],[0.2222222222222222,\"#7201a8\"],[0.3333333333333333,\"#9c179e\"],[0.4444444444444444,\"#bd3786\"],[0.5555555555555556,\"#d8576b\"],[0.6666666666666666,\"#ed7953\"],[0.7777777777777778,\"#fb9f3a\"],[0.8888888888888888,\"#fdca26\"],[1.0,\"#f0f921\"]],\"type\":\"histogram2dcontour\"}],\"histogram2d\":[{\"colorbar\":{\"outlinewidth\":0,\"ticks\":\"\"},\"colorscale\":[[0.0,\"#0d0887\"],[0.1111111111111111,\"#46039f\"],[0.2222222222222222,\"#7201a8\"],[0.3333333333333333,\"#9c179e\"],[0.4444444444444444,\"#bd3786\"],[0.5555555555555556,\"#d8576b\"],[0.6666666666666666,\"#ed7953\"],[0.7777777777777778,\"#fb9f3a\"],[0.8888888888888888,\"#fdca26\"],[1.0,\"#f0f921\"]],\"type\":\"histogram2d\"}],\"histogram\":[{\"marker\":{\"pattern\":{\"fillmode\":\"overlay\",\"size\":10,\"solidity\":0.2}},\"type\":\"histogram\"}],\"mesh3d\":[{\"colorbar\":{\"outlinewidth\":0,\"ticks\":\"\"},\"type\":\"mesh3d\"}],\"parcoords\":[{\"line\":{\"colorbar\":{\"outlinewidth\":0,\"ticks\":\"\"}},\"type\":\"parcoords\"}],\"pie\":[{\"automargin\":true,\"type\":\"pie\"}],\"scatter3d\":[{\"line\":{\"colorbar\":{\"outlinewidth\":0,\"ticks\":\"\"}},\"marker\":{\"colorbar\":{\"outlinewidth\":0,\"ticks\":\"\"}},\"type\":\"scatter3d\"}],\"scattercarpet\":[{\"marker\":{\"colorbar\":{\"outlinewidth\":0,\"ticks\":\"\"}},\"type\":\"scattercarpet\"}],\"scattergeo\":[{\"marker\":{\"colorbar\":{\"outlinewidth\":0,\"ticks\":\"\"}},\"type\":\"scattergeo\"}],\"scattergl\":[{\"marker\":{\"colorbar\":{\"outlinewidth\":0,\"ticks\":\"\"}},\"type\":\"scattergl\"}],\"scattermapbox\":[{\"marker\":{\"colorbar\":{\"outlinewidth\":0,\"ticks\":\"\"}},\"type\":\"scattermapbox\"}],\"scatterpolargl\":[{\"marker\":{\"colorbar\":{\"outlinewidth\":0,\"ticks\":\"\"}},\"type\":\"scatterpolargl\"}],\"scatterpolar\":[{\"marker\":{\"colorbar\":{\"outlinewidth\":0,\"ticks\":\"\"}},\"type\":\"scatterpolar\"}],\"scatter\":[{\"fillpattern\":{\"fillmode\":\"overlay\",\"size\":10,\"solidity\":0.2},\"type\":\"scatter\"}],\"scatterternary\":[{\"marker\":{\"colorbar\":{\"outlinewidth\":0,\"ticks\":\"\"}},\"type\":\"scatterternary\"}],\"surface\":[{\"colorbar\":{\"outlinewidth\":0,\"ticks\":\"\"},\"colorscale\":[[0.0,\"#0d0887\"],[0.1111111111111111,\"#46039f\"],[0.2222222222222222,\"#7201a8\"],[0.3333333333333333,\"#9c179e\"],[0.4444444444444444,\"#bd3786\"],[0.5555555555555556,\"#d8576b\"],[0.6666666666666666,\"#ed7953\"],[0.7777777777777778,\"#fb9f3a\"],[0.8888888888888888,\"#fdca26\"],[1.0,\"#f0f921\"]],\"type\":\"surface\"}],\"table\":[{\"cells\":{\"fill\":{\"color\":\"#EBF0F8\"},\"line\":{\"color\":\"white\"}},\"header\":{\"fill\":{\"color\":\"#C8D4E3\"},\"line\":{\"color\":\"white\"}},\"type\":\"table\"}]},\"layout\":{\"annotationdefaults\":{\"arrowcolor\":\"#2a3f5f\",\"arrowhead\":0,\"arrowwidth\":1},\"autotypenumbers\":\"strict\",\"coloraxis\":{\"colorbar\":{\"outlinewidth\":0,\"ticks\":\"\"}},\"colorscale\":{\"diverging\":[[0,\"#8e0152\"],[0.1,\"#c51b7d\"],[0.2,\"#de77ae\"],[0.3,\"#f1b6da\"],[0.4,\"#fde0ef\"],[0.5,\"#f7f7f7\"],[0.6,\"#e6f5d0\"],[0.7,\"#b8e186\"],[0.8,\"#7fbc41\"],[0.9,\"#4d9221\"],[1,\"#276419\"]],\"sequential\":[[0.0,\"#0d0887\"],[0.1111111111111111,\"#46039f\"],[0.2222222222222222,\"#7201a8\"],[0.3333333333333333,\"#9c179e\"],[0.4444444444444444,\"#bd3786\"],[0.5555555555555556,\"#d8576b\"],[0.6666666666666666,\"#ed7953\"],[0.7777777777777778,\"#fb9f3a\"],[0.8888888888888888,\"#fdca26\"],[1.0,\"#f0f921\"]],\"sequentialminus\":[[0.0,\"#0d0887\"],[0.1111111111111111,\"#46039f\"],[0.2222222222222222,\"#7201a8\"],[0.3333333333333333,\"#9c179e\"],[0.4444444444444444,\"#bd3786\"],[0.5555555555555556,\"#d8576b\"],[0.6666666666666666,\"#ed7953\"],[0.7777777777777778,\"#fb9f3a\"],[0.8888888888888888,\"#fdca26\"],[1.0,\"#f0f921\"]]},\"colorway\":[\"#636efa\",\"#EF553B\",\"#00cc96\",\"#ab63fa\",\"#FFA15A\",\"#19d3f3\",\"#FF6692\",\"#B6E880\",\"#FF97FF\",\"#FECB52\"],\"font\":{\"color\":\"#2a3f5f\"},\"geo\":{\"bgcolor\":\"white\",\"lakecolor\":\"white\",\"landcolor\":\"white\",\"showlakes\":true,\"showland\":true,\"subunitcolor\":\"#C8D4E3\"},\"hoverlabel\":{\"align\":\"left\"},\"hovermode\":\"closest\",\"mapbox\":{\"style\":\"light\"},\"paper_bgcolor\":\"white\",\"plot_bgcolor\":\"white\",\"polar\":{\"angularaxis\":{\"gridcolor\":\"#EBF0F8\",\"linecolor\":\"#EBF0F8\",\"ticks\":\"\"},\"bgcolor\":\"white\",\"radialaxis\":{\"gridcolor\":\"#EBF0F8\",\"linecolor\":\"#EBF0F8\",\"ticks\":\"\"}},\"scene\":{\"xaxis\":{\"backgroundcolor\":\"white\",\"gridcolor\":\"#DFE8F3\",\"gridwidth\":2,\"linecolor\":\"#EBF0F8\",\"showbackground\":true,\"ticks\":\"\",\"zerolinecolor\":\"#EBF0F8\"},\"yaxis\":{\"backgroundcolor\":\"white\",\"gridcolor\":\"#DFE8F3\",\"gridwidth\":2,\"linecolor\":\"#EBF0F8\",\"showbackground\":true,\"ticks\":\"\",\"zerolinecolor\":\"#EBF0F8\"},\"zaxis\":{\"backgroundcolor\":\"white\",\"gridcolor\":\"#DFE8F3\",\"gridwidth\":2,\"linecolor\":\"#EBF0F8\",\"showbackground\":true,\"ticks\":\"\",\"zerolinecolor\":\"#EBF0F8\"}},\"shapedefaults\":{\"line\":{\"color\":\"#2a3f5f\"}},\"ternary\":{\"aaxis\":{\"gridcolor\":\"#DFE8F3\",\"linecolor\":\"#A2B1C6\",\"ticks\":\"\"},\"baxis\":{\"gridcolor\":\"#DFE8F3\",\"linecolor\":\"#A2B1C6\",\"ticks\":\"\"},\"bgcolor\":\"white\",\"caxis\":{\"gridcolor\":\"#DFE8F3\",\"linecolor\":\"#A2B1C6\",\"ticks\":\"\"}},\"title\":{\"x\":0.05},\"xaxis\":{\"automargin\":true,\"gridcolor\":\"#EBF0F8\",\"linecolor\":\"#EBF0F8\",\"ticks\":\"\",\"title\":{\"standoff\":15},\"zerolinecolor\":\"#EBF0F8\",\"zerolinewidth\":2},\"yaxis\":{\"automargin\":true,\"gridcolor\":\"#EBF0F8\",\"linecolor\":\"#EBF0F8\",\"ticks\":\"\",\"title\":{\"standoff\":15},\"zerolinecolor\":\"#EBF0F8\",\"zerolinewidth\":2}}},\"width\":1000,\"yaxis\":{\"categoryorder\":\"array\",\"categoryarray\":[\"Sem        <br>contribui\\u00e7\\u00f5es<br>reportadas  \",\"Com        <br>contribui\\u00e7\\u00f5es<br>reportadas  \"],\"tickfont\":{\"size\":16},\"anchor\":\"free\",\"overlaying\":\"y\",\"autoshift\":true,\"shift\":465,\"constraintoward\":\"center\"},\"xaxis\":{\"categoryorder\":\"array\",\"categoryarray\":[\"Geral<br>1 (5%)\",\"Academia<br>3 (16%)\",\"Organiza\\u00e7\\u00f5es<br>3 (16%)\",\"Industria<br>12 (63%)\",\"\",\"Adaptada <br>8 (42%)\",\"Geral MA <br>5 (26%)\",\"Scrum <br>3 (16%)\",\"Kanban <br>3 (16%)\"],\"tickfont\":{\"size\":16}},\"title\":{\"font\":{\"size\":20},\"text\":\"<b>Distribui\\u00e7\\u00e3o de Subt\\u00f3picos de MA e Tipo de Organiza\\u00e7\\u00e3o<br>por Contribui\\u00e7\\u00f5es </b>\",\"x\":0.02,\"y\":0.94},\"annotations\":[{\"align\":\"left\",\"font\":{\"family\":\"Arial\",\"size\":16},\"showarrow\":false,\"text\":\"<b>Tipo de <br>Organiza\\u00e7\\u00e3o</b>\",\"x\":-0.09,\"xref\":\"paper\",\"y\":-0.13,\"yref\":\"paper\"},{\"align\":\"left\",\"font\":{\"family\":\"Arial\",\"size\":16},\"showarrow\":false,\"text\":\"<b>Subt\\u00f3picos<br> de MA</b>\",\"x\":1.08,\"xref\":\"paper\",\"y\":-0.13,\"yref\":\"paper\"},{\"align\":\"left\",\"font\":{\"family\":\"Arial\",\"size\":16},\"showarrow\":false,\"text\":\"<b>Contribui\\u00e7\\u00f5es</b>\",\"x\":0.5,\"xref\":\"paper\",\"y\":1.12,\"yref\":\"paper\"}]},                        {\"responsive\": true}                    ).then(function(){\n",
       "                            \n",
       "var gd = document.getElementById('4e84eb02-ec6f-4ab7-a8f1-04d66badf859');\n",
       "var x = new MutationObserver(function (mutations, observer) {{\n",
       "        var display = window.getComputedStyle(gd).display;\n",
       "        if (!display || display === 'none') {{\n",
       "            console.log([gd, 'removed!']);\n",
       "            Plotly.purge(gd);\n",
       "            observer.disconnect();\n",
       "        }}\n",
       "}});\n",
       "\n",
       "// Listen for the removal of the full notebook cells\n",
       "var notebookContainer = gd.closest('#notebook-container');\n",
       "if (notebookContainer) {{\n",
       "    x.observe(notebookContainer, {childList: true});\n",
       "}}\n",
       "\n",
       "// Listen for the clearing of the current output cell\n",
       "var outputEl = gd.closest('.output');\n",
       "if (outputEl) {{\n",
       "    x.observe(outputEl, {childList: true});\n",
       "}}\n",
       "\n",
       "                        })                };                });            </script>        </div>"
      ]
     },
     "metadata": {},
     "output_type": "display_data"
    }
   ],
   "source": [
    "df_metodos = df.copy()\n",
    "\n",
    "df_metodos[\"RQ8_ObjectiveAM_BOOL\"] = np.where(df_metodos[\"RQ8_ObjectiveAM\"].isna(), \"Sem objetivo<br>definido\", \"Com objetivo<br>definido\")\n",
    "df_metodos[\"RQ9_ContributionsResults_BOOL\"] = np.where(df_metodos[\"RQ9_ContributionsResults\"].isna(), \"Sem contribuições<br>reportadas\", \"Com contribuições<br>reportadas\")\n",
    "\n",
    "\n",
    "df_metodos\n",
    "\n",
    "pubs_rq4_rq9 = df_metodos.groupby([\"RQ4_OrganizationType\", \"RQ9_ContributionsResults_BOOL\"])[\"title\"].count().reset_index()\n",
    "pubs_rq4_rq9.columns = [\"eixo_x\", \"eixo_y\", \"size\"]\n",
    "\n",
    "pubs_rq5_rq9 = df_metodos.groupby([\"RQ5_SubtopicsAM\", \"RQ9_ContributionsResults_BOOL\"])[\"title\"].count().reset_index()\n",
    "pubs_rq5_rq9.columns = [\"eixo_x\", \"eixo_y\", \"size\"]\n",
    "pubs_rq5_rq9[\"eixo_x\"] = pubs_rq5_rq9[\"eixo_x\"].replace(\"Geral\", \"Geral MA\")\n",
    "\n",
    "blank_space = pd.DataFrame(columns = pubs_rq5_rq9.columns)\n",
    "blank_space[\"eixo_y\"] = list(pubs_rq5_rq9[\"eixo_y\"].unique())\n",
    "blank_space[\"eixo_x\"] = blank_space[\"eixo_x\"].fillna(\"\")\n",
    "blank_space[\"size\"] = blank_space[\"size\"].fillna(0)\n",
    "\n",
    "pubs_rq5_rq4_rq9 = pd.concat([pubs_rq4_rq9, blank_space, pubs_rq5_rq9], ignore_index = True)\n",
    "\n",
    "replace_dict = {\n",
    "    \"Industria\": \"Industria<br>12 (63%)\", \n",
    "    \"Organizações\": \"Organizações<br>3 (16%)\", \n",
    "    \"Academia\": \"Academia<br>3 (16%)\", \n",
    "    \"Geral\": \"Geral<br>1 (5%)\",\n",
    "    \"Kanban\": \"Kanban <br>3 (16%)\",\n",
    "    \"Scrum\": \"Scrum <br>3 (16%)\",\n",
    "    \"Geral MA\": \"Geral MA <br>5 (26%)\",\n",
    "    \"Adaptada\": \"Adaptada <br>8 (42%)\",\n",
    "    \"Sem contribuições<br>reportadas\":\"Sem        <br>contribuições<br>reportadas  \",\n",
    "    \"Com contribuições<br>reportadas\":\"Com        <br>contribuições<br>reportadas  \",\n",
    "}\n",
    "\n",
    "for key in replace_dict:\n",
    "    pubs_rq5_rq4_rq9 = pubs_rq5_rq4_rq9.replace(key, replace_dict[key])\n",
    "\n",
    "\n",
    "fig_pub_topics =  go.Figure(\n",
    "    data=[\n",
    "        go.Scatter(\n",
    "            x=pubs_rq5_rq4_rq9[\"eixo_x\"], \n",
    "            y=pubs_rq5_rq4_rq9[\"eixo_y\"], \n",
    "            marker_size=10*pubs_rq5_rq4_rq9['size'],\n",
    "            mode='markers+text',\n",
    "            text = [x if x != 0 else \"\" for x in pubs_rq5_rq4_rq9['size'] ],\n",
    "            textposition='middle center'\n",
    "        )], \n",
    "    layout=layout\n",
    ")\n",
    "\n",
    "fig_pub_topics.update_yaxes(\n",
    "    categoryorder='array', \n",
    "    categoryarray= [\n",
    "        \"Sem        <br>contribuições<br>reportadas  \", \"Com        <br>contribuições<br>reportadas  \"\n",
    "    ]\n",
    ")\n",
    "\n",
    "fig_pub_topics.update_xaxes(\n",
    "    categoryorder='array', \n",
    "    categoryarray= [\n",
    "        \"Geral<br>1 (5%)\", \"Academia<br>3 (16%)\", \"Organizações<br>3 (16%)\", \"Industria<br>12 (63%)\",\n",
    "        \"\",\n",
    "         \"Adaptada <br>8 (42%)\", \"Geral MA <br>5 (26%)\", \"Scrum <br>3 (16%)\", \"Kanban <br>3 (16%)\", \n",
    "    ]\n",
    ")\n",
    "\n",
    "fig_pub_topics.update_layout(\n",
    "    yaxis=dict(\n",
    "        anchor=\"free\",\n",
    "        overlaying=\"y\",\n",
    "        autoshift=True,\n",
    "        shift=465,\n",
    "        constraintoward = \"center\",\n",
    "        tickfont = dict(size = 16),\n",
    "    ),\n",
    "    font=dict(\n",
    "        color=\"black\",\n",
    "        size=10,\n",
    "        family=\"Arial\",\n",
    "    ),\n",
    "    xaxis = dict(tickfont = dict(size = 16)),\n",
    "    title = dict(\n",
    "        text = \"<b>Distribuição de Subtópicos de MA e Tipo de Organização<br>por Contribuições </b>\", \n",
    "        font = dict(size = 20),\n",
    "        x = 0.02,\n",
    "        y = 0.94,\n",
    "    )\n",
    ")\n",
    "\n",
    "fig_pub_topics.add_annotation(\n",
    "    text=\"<b>Tipo de <br>Organização</b>\",\n",
    "    xref=\"paper\", yref=\"paper\",\n",
    "    x=-0.09, y=-0.13, \n",
    "    showarrow=False,\n",
    "    font = {'family': \"Arial\", 'size': 16},\n",
    "    align=\"left\"\n",
    ")\n",
    "\n",
    "fig_pub_topics.add_annotation(\n",
    "    text=\"<b>Subtópicos<br> de MA</b>\",\n",
    "    xref=\"paper\", yref=\"paper\",\n",
    "    x=1.08, y=-0.13, \n",
    "    showarrow=False,\n",
    "    font = {'family': \"Arial\", 'size': 16},\n",
    "    align=\"left\"\n",
    ")\n",
    "\n",
    "fig_pub_topics.add_annotation(\n",
    "    text=\"<b>Contribuições</b>\",\n",
    "    xref=\"paper\", yref=\"paper\",\n",
    "    x=0.50, y=1.12, \n",
    "    showarrow=False,\n",
    "    font = {'family': \"Arial\", 'size': 16},\n",
    "    align=\"left\"\n",
    ")\n",
    "        \n",
    "fig_pub_topics.show()"
   ]
  },
  {
   "cell_type": "code",
   "execution_count": null,
   "id": "76f61eaf-a212-41d1-8a1a-76cebdfa5402",
   "metadata": {},
   "outputs": [],
   "source": []
  }
 ],
 "metadata": {
  "kernelspec": {
   "display_name": "Python 3 (ipykernel)",
   "language": "python",
   "name": "python3"
  },
  "language_info": {
   "codemirror_mode": {
    "name": "ipython",
    "version": 3
   },
   "file_extension": ".py",
   "mimetype": "text/x-python",
   "name": "python",
   "nbconvert_exporter": "python",
   "pygments_lexer": "ipython3",
   "version": "3.10.10"
  }
 },
 "nbformat": 4,
 "nbformat_minor": 5
}
